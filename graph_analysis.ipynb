{
 "cells": [
  {
   "cell_type": "code",
   "execution_count": null,
   "metadata": {},
   "outputs": [],
   "source": [
    "# Data Wrangling libraries\n",
    "import pandas as pd \n",
    "import numpy as np \n",
    "\n",
    "# Data Visualization libraries\n",
    "import seaborn as sns\n",
    "import matplotlib.pyplot as plt\n",
    "from PIL import Image\n",
    "from wordcloud import WordCloud, ImageColorGenerator\n",
    "import matplotlib.ticker as ticker\n",
    "\n",
    "# Machine Learning libraries\n",
    "from sklearn.linear_model import LinearRegression\n",
    "from sklearn.model_selection import train_test_split\n",
    "\n",
    "# Graph style\n",
    "#sns.set_style(\"whitegrid\")\n",
    "\n",
    "\n",
    "import os\n",
    "import shutil  \n",
    "from os import path"
   ]
  },
  {
   "cell_type": "code",
   "execution_count": null,
   "metadata": {},
   "outputs": [],
   "source": [
    "base = pd.read_csv(\"Movies_new.csv\")"
   ]
  },
  {
   "cell_type": "markdown",
   "metadata": {},
   "source": [
    "Describe function show that the Budget and Revenue columns has 0 as a min values, however, the info() function showed that there isnt any NaN value"
   ]
  },
  {
   "cell_type": "code",
   "execution_count": null,
   "metadata": {
    "tags": []
   },
   "outputs": [],
   "source": [
    "base.count()\n",
    "base.isnull().sum()"
   ]
  },
  {
   "cell_type": "markdown",
   "metadata": {},
   "source": [
    "This function replace all 0 value to NaN and then it is possible to fill this values with the median of the specific column"
   ]
  },
  {
   "cell_type": "code",
   "execution_count": null,
   "metadata": {
    "tags": []
   },
   "outputs": [],
   "source": [
    "replace = base.replace(0, np.nan, inplace=True)"
   ]
  },
  {
   "cell_type": "code",
   "execution_count": null,
   "metadata": {},
   "outputs": [],
   "source": [
    "budget_median = base.Budget.median()\n",
    "revenue_median = base.Revenue.median()"
   ]
  },
  {
   "cell_type": "code",
   "execution_count": null,
   "metadata": {},
   "outputs": [],
   "source": [
    "base[\"Budget\"].fillna(budget_median, inplace = True)\n",
    "base[\"Revenue\"].fillna(revenue_median, inplace = True)"
   ]
  },
  {
   "cell_type": "code",
   "execution_count": null,
   "metadata": {},
   "outputs": [],
   "source": [
    "base[\"Profit\"] = base[\"Revenue\"] - base[\"Budget\"]\n",
    "base.to_csv(\"Movies_profit.csv\", index=False)"
   ]
  },
  {
   "cell_type": "markdown",
   "metadata": {},
   "source": [
    "# Graph Analysis"
   ]
  },
  {
   "cell_type": "markdown",
   "metadata": {},
   "source": [
    "# Boxplot comparing user rating and movies database average ratings"
   ]
  },
  {
   "cell_type": "code",
   "execution_count": null,
   "metadata": {},
   "outputs": [],
   "source": [
    "fig, axs = plt.subplots(ncols=2, figsize = (12,6), sharey=True)\n",
    "fig.suptitle(\"Comparison between User Rating and Movie Database Average Ratings\", fontsize=16)\n",
    "plt.subplots_adjust(wspace=0, hspace=0)\n",
    "plt.ylim(1,5)\n",
    "sns.set_context(\"notebook\", font_scale=1.5, rc={\"lines.linewidth\": 2})\n",
    "sns.despine(left= True)\n",
    "\n",
    "\n",
    "\n",
    "user_boxplot = sns.boxplot(y = base[\"Rating\"], \n",
    "                            color=\"lightskyblue\", \n",
    "                            showmeans=True, \n",
    "                            meanprops= {\"marker\":\"o\",\n",
    "                                        \"markerfacecolor\":\"white\", \n",
    "                                        \"markeredgecolor\":\"black\", \n",
    "                                        \"markersize\":\"7\"},\n",
    "                            medianprops = {\"color\":\"orange\", \n",
    "                                           \"linestyle\":\"--\"}, \n",
    "                            ax=axs[0])\n",
    "\n",
    "\n",
    "database_boxplot = sns.boxplot(y = base[\"Vote Average\"], \n",
    "                           color=\"violet\", \n",
    "                           showmeans=True,\n",
    "                           meanprops= {\"marker\":\"o\",\n",
    "                                       \"markerfacecolor\":\"white\", \n",
    "                                       \"markeredgecolor\":\"black\", \n",
    "                                       \"markersize\":\"7\"},\n",
    "                           medianprops = {\"color\":\"springgreen\", \n",
    "                                          \"linestyle\":\"--\"},\n",
    "                           ax=axs[1]).set(ylabel=None)\n",
    "\n",
    "plt.savefig(\"Graphs/Boxplot_Ratings\")"
   ]
  },
  {
   "cell_type": "markdown",
   "metadata": {},
   "source": [
    "# Transform the genres in a Series of genres"
   ]
  },
  {
   "cell_type": "code",
   "execution_count": null,
   "metadata": {
    "tags": []
   },
   "outputs": [],
   "source": [
    "df_genres_id= pd.Series(base[\"Genres\"].values, index = base[\"ID\"], name = \"Genres\")\n",
    "split_genres = df_genres_id.str.split(\"|\", expand = False)\n",
    "genres_explode = split_genres.explode()\n",
    "\n",
    "genres_explode"
   ]
  },
  {
   "cell_type": "code",
   "execution_count": null,
   "metadata": {},
   "outputs": [],
   "source": [
    "genres_count = genres_explode.value_counts()\n",
    "\n",
    "genres_count"
   ]
  },
  {
   "cell_type": "code",
   "execution_count": null,
   "metadata": {},
   "outputs": [],
   "source": [
    "# genres_df = genres_explode.to_frame()\n"
   ]
  },
  {
   "cell_type": "code",
   "execution_count": null,
   "metadata": {},
   "outputs": [],
   "source": [
    "genres_explode.unique()"
   ]
  },
  {
   "cell_type": "markdown",
   "metadata": {},
   "source": [
    "# Genres x Rating x Vote Average"
   ]
  },
  {
   "cell_type": "code",
   "execution_count": null,
   "metadata": {},
   "outputs": [],
   "source": []
  },
  {
   "cell_type": "markdown",
   "metadata": {},
   "source": [
    "# Year x Rating\n",
    "\n",
    "* Deixar esse gráfico legal\n",
    "* Arrumar o hue\n",
    "* Tentar colocar uma colorbar somente nos valores de vote average relacionando com vote count"
   ]
  },
  {
   "cell_type": "code",
   "execution_count": null,
   "metadata": {
    "tags": []
   },
   "outputs": [],
   "source": [
    "sns.set(rc={\"figure.figsize\": (12,10)},font_scale=1.5)\n",
    "sns.set_style(\"white\")\n",
    "\n",
    "\n",
    "\n",
    "user_ratings= sns.scatterplot(x = base[\"Rating\"], \n",
    "                y = base[\"Year\"],\n",
    "                s = 200,\n",
    "                color = \"green\"\n",
    "                )\n",
    "\n",
    "database_rating = sns.scatterplot(x = base[\"Vote Average\"], \n",
    "                y = base[\"Year\"],\n",
    "                s = 200,\n",
    "                hue = base[\"Vote Average\"]\n",
    "                )\n",
    "\n",
    "#cbar = plt.colorbar(database_rating) \n",
    "\n",
    "user_ratings.set(xlabel='Rating', ylabel='Year')\n",
    "\n",
    "plt.savefig(\"Graphs/Year_Rating\")"
   ]
  },
  {
   "cell_type": "markdown",
   "metadata": {},
   "source": [
    "# WordCloud dos generos"
   ]
  },
  {
   "cell_type": "code",
   "execution_count": null,
   "metadata": {},
   "outputs": [],
   "source": [
    "all_genres = \" \".join(s for s in genres_explode).strip()\n",
    "\n",
    "all_genres"
   ]
  },
  {
   "cell_type": "code",
   "execution_count": null,
   "metadata": {},
   "outputs": [],
   "source": [
    "all_genres = \" \".join(s for s in genres_explode)\n",
    "\n",
    "\n",
    "wordcloud = WordCloud(background_color=\"black\",\n",
    "                      font_path='Andale Mono',\n",
    "                      width=1600, height=800,\n",
    "                      collocations=False,\n",
    "                      colormap = \"viridis\").generate(all_genres)\n",
    "\n",
    "plt.figure(figsize=(20,10))\n",
    "plt.imshow(wordcloud, interpolation='bilinear')\n",
    "plt.tight_layout(pad=0)\n",
    "plt.axis(\"off\")\n",
    "\n",
    "plt.savefig(\"Graphs/WordCloud\")"
   ]
  },
  {
   "cell_type": "code",
   "execution_count": null,
   "metadata": {},
   "outputs": [],
   "source": [
    "wordcloud.words_"
   ]
  },
  {
   "cell_type": "markdown",
   "metadata": {},
   "source": [
    "Provavelmente não vou usar esse gráfico"
   ]
  },
  {
   "cell_type": "code",
   "execution_count": null,
   "metadata": {},
   "outputs": [],
   "source": [
    "palette = sns.color_palette(\"PiYG_r\", 18)\n",
    "sns.set_context(\"notebook\", font_scale=1.2, rc={\"lines.linewidth\": 2})\n",
    "sns.set(rc={'figure.figsize':(10,6)})\n",
    "\n",
    "\n",
    "barplot = sns.barplot(genres_count.index,\n",
    "                      genres_count.values,\n",
    "                      palette = palette\n",
    "                      )\n",
    "\n",
    "plt.xticks(rotation=45, fontsize=12, ha = \"right\")\n",
    "plt.yticks(fontsize=12)"
   ]
  },
  {
   "cell_type": "markdown",
   "metadata": {},
   "source": [
    "# Top 10 voted movies"
   ]
  },
  {
   "cell_type": "code",
   "execution_count": null,
   "metadata": {
    "tags": []
   },
   "outputs": [],
   "source": [
    "vote_count = base.sort_values(\"Vote Count\", ascending= False)\n",
    "top_voted = vote_count.head(n =10)\n",
    "\n",
    "top_voted"
   ]
  },
  {
   "cell_type": "code",
   "execution_count": null,
   "metadata": {},
   "outputs": [],
   "source": [
    "palette = sns.color_palette(\"Purples_r\", 10)\n",
    "sns.set_context(\"notebook\", font_scale=1.2, rc={\"lines.linewidth\": 2})\n",
    "sns.set(rc={'figure.figsize':(10,6)})\n",
    "\n",
    "\n",
    "barplot = sns.barplot(x= top_voted[\"Vote Count\"],\n",
    "                      y = top_voted[\"Movie\"], \n",
    "                      palette = palette,\n",
    "                      orient = \"h\").set(ylabel = None)\n",
    "\n",
    "plt.xticks(rotation=45, fontsize=12, ha = \"center\")\n",
    "plt.yticks(fontsize=12)\n",
    "\n",
    "plt.savefig(plt.savefig(\"Graphs/Top Voted Movies\"), bbox_inches='tight')"
   ]
  },
  {
   "cell_type": "markdown",
   "metadata": {},
   "source": [
    "# Top 10 rated movies"
   ]
  },
  {
   "cell_type": "code",
   "execution_count": null,
   "metadata": {},
   "outputs": [],
   "source": [
    "vote = base.sort_values(\"Vote Average\", ascending= False)\n",
    "top_rated = vote.head(n =10)\n",
    "\n",
    "top_rated"
   ]
  },
  {
   "cell_type": "markdown",
   "metadata": {},
   "source": [
    "# Finding the linear regression between Revenue and Profit\n",
    "\n",
    "* Trying to discover if it is possible to predict the Profit by the Revenue - any relationship"
   ]
  },
  {
   "cell_type": "code",
   "execution_count": null,
   "metadata": {},
   "outputs": [],
   "source": [
    "base.corr()"
   ]
  },
  {
   "cell_type": "code",
   "execution_count": 68,
   "metadata": {},
   "outputs": [
    {
     "output_type": "execute_result",
     "data": {
      "text/plain": "<matplotlib.legend.Legend at 0x122cd1f98>"
     },
     "metadata": {},
     "execution_count": 68
    },
    {
     "output_type": "display_data",
     "data": {
      "text/plain": "<Figure size 720x432 with 1 Axes>",
      "image/svg+xml": "<?xml version=\"1.0\" encoding=\"utf-8\" standalone=\"no\"?>\n<!DOCTYPE svg PUBLIC \"-//W3C//DTD SVG 1.1//EN\"\n  \"http://www.w3.org/Graphics/SVG/1.1/DTD/svg11.dtd\">\n<!-- Created with matplotlib (https://matplotlib.org/) -->\n<svg height=\"369.261875pt\" version=\"1.1\" viewBox=\"0 0 614.24 369.261875\" width=\"614.24pt\" xmlns=\"http://www.w3.org/2000/svg\" xmlns:xlink=\"http://www.w3.org/1999/xlink\">\n <defs>\n  <style type=\"text/css\">\n*{stroke-linecap:butt;stroke-linejoin:round;}\n  </style>\n </defs>\n <g id=\"figure_1\">\n  <g id=\"patch_1\">\n   <path d=\"M -0 369.261875 \nL 614.24 369.261875 \nL 614.24 0 \nL -0 0 \nz\n\" style=\"fill:#ffffff;\"/>\n  </g>\n  <g id=\"axes_1\">\n   <g id=\"patch_2\">\n    <path d=\"M 38.26 339.031875 \nL 596.26 339.031875 \nL 596.26 12.871875 \nL 38.26 12.871875 \nz\n\" style=\"fill:#eaeaf2;\"/>\n   </g>\n   <g id=\"matplotlib.axis_1\">\n    <g id=\"xtick_1\">\n     <g id=\"line2d_1\">\n      <path clip-path=\"url(#p07bba923fd)\" d=\"M 149.86 339.031875 \nL 149.86 12.871875 \n\" style=\"fill:none;stroke:#ffffff;stroke-linecap:round;\"/>\n     </g>\n     <g id=\"text_1\">\n      <!-- $\\mathdefault{10^{6}}$ -->\n      <defs>\n       <path d=\"M 37.25 0 \nL 28.46875 0 \nL 28.46875 56 \nQ 25.296875 52.984375 20.140625 49.953125 \nQ 14.984375 46.921875 10.890625 45.40625 \nL 10.890625 53.90625 \nQ 18.265625 57.375 23.78125 62.296875 \nQ 29.296875 67.234375 31.59375 71.875 \nL 37.25 71.875 \nz\n\" id=\"ArialMT-49\"/>\n       <path d=\"M 4.15625 35.296875 \nQ 4.15625 48 6.765625 55.734375 \nQ 9.375 63.484375 14.515625 67.671875 \nQ 19.671875 71.875 27.484375 71.875 \nQ 33.25 71.875 37.59375 69.546875 \nQ 41.9375 67.234375 44.765625 62.859375 \nQ 47.609375 58.5 49.21875 52.21875 \nQ 50.828125 45.953125 50.828125 35.296875 \nQ 50.828125 22.703125 48.234375 14.96875 \nQ 45.65625 7.234375 40.5 3 \nQ 35.359375 -1.21875 27.484375 -1.21875 \nQ 17.140625 -1.21875 11.234375 6.203125 \nQ 4.15625 15.140625 4.15625 35.296875 \nz\nM 13.1875 35.296875 \nQ 13.1875 17.671875 17.3125 11.828125 \nQ 21.4375 6 27.484375 6 \nQ 33.546875 6 37.671875 11.859375 \nQ 41.796875 17.71875 41.796875 35.296875 \nQ 41.796875 52.984375 37.671875 58.78125 \nQ 33.546875 64.59375 27.390625 64.59375 \nQ 21.34375 64.59375 17.71875 59.46875 \nQ 13.1875 52.9375 13.1875 35.296875 \nz\n\" id=\"ArialMT-48\"/>\n       <path d=\"M 49.75 54.046875 \nL 41.015625 53.375 \nQ 39.84375 58.546875 37.703125 60.890625 \nQ 34.125 64.65625 28.90625 64.65625 \nQ 24.703125 64.65625 21.53125 62.3125 \nQ 17.390625 59.28125 14.984375 53.46875 \nQ 12.59375 47.65625 12.5 36.921875 \nQ 15.671875 41.75 20.265625 44.09375 \nQ 24.859375 46.4375 29.890625 46.4375 \nQ 38.671875 46.4375 44.84375 39.96875 \nQ 51.03125 33.5 51.03125 23.25 \nQ 51.03125 16.5 48.125 10.71875 \nQ 45.21875 4.9375 40.140625 1.859375 \nQ 35.0625 -1.21875 28.609375 -1.21875 \nQ 17.625 -1.21875 10.6875 6.859375 \nQ 3.765625 14.9375 3.765625 33.5 \nQ 3.765625 54.25 11.421875 63.671875 \nQ 18.109375 71.875 29.4375 71.875 \nQ 37.890625 71.875 43.28125 67.140625 \nQ 48.6875 62.40625 49.75 54.046875 \nz\nM 13.875 23.1875 \nQ 13.875 18.65625 15.796875 14.5 \nQ 17.71875 10.359375 21.1875 8.171875 \nQ 24.65625 6 28.46875 6 \nQ 34.03125 6 38.03125 10.484375 \nQ 42.046875 14.984375 42.046875 22.703125 \nQ 42.046875 30.125 38.078125 34.390625 \nQ 34.125 38.671875 28.125 38.671875 \nQ 22.171875 38.671875 18.015625 34.390625 \nQ 13.875 30.125 13.875 23.1875 \nz\n\" id=\"ArialMT-54\"/>\n      </defs>\n      <g style=\"fill:#262626;\" transform=\"translate(141.225 359.875625)scale(0.11 -0.11)\">\n       <use transform=\"translate(0 0.99375)\" xlink:href=\"#ArialMT-49\"/>\n       <use transform=\"translate(55.615234 0.99375)\" xlink:href=\"#ArialMT-48\"/>\n       <use transform=\"translate(112.972813 70.6875)scale(0.7)\" xlink:href=\"#ArialMT-54\"/>\n      </g>\n     </g>\n    </g>\n    <g id=\"xtick_2\">\n     <g id=\"line2d_2\">\n      <path clip-path=\"url(#p07bba923fd)\" d=\"M 261.46 339.031875 \nL 261.46 12.871875 \n\" style=\"fill:none;stroke:#ffffff;stroke-linecap:round;\"/>\n     </g>\n     <g id=\"text_2\">\n      <!-- $\\mathdefault{10^{7}}$ -->\n      <defs>\n       <path d=\"M 4.734375 62.203125 \nL 4.734375 70.65625 \nL 51.078125 70.65625 \nL 51.078125 63.8125 \nQ 44.234375 56.546875 37.515625 44.484375 \nQ 30.8125 32.421875 27.15625 19.671875 \nQ 24.515625 10.6875 23.78125 0 \nL 14.75 0 \nQ 14.890625 8.453125 18.0625 20.40625 \nQ 21.234375 32.375 27.171875 43.484375 \nQ 33.109375 54.59375 39.796875 62.203125 \nz\n\" id=\"ArialMT-55\"/>\n      </defs>\n      <g style=\"fill:#262626;\" transform=\"translate(252.825 359.765625)scale(0.11 -0.11)\">\n       <use transform=\"translate(0 0.846875)\" xlink:href=\"#ArialMT-49\"/>\n       <use transform=\"translate(55.615234 0.846875)\" xlink:href=\"#ArialMT-48\"/>\n       <use transform=\"translate(112.972813 70.540625)scale(0.7)\" xlink:href=\"#ArialMT-55\"/>\n      </g>\n     </g>\n    </g>\n    <g id=\"xtick_3\">\n     <g id=\"line2d_3\">\n      <path clip-path=\"url(#p07bba923fd)\" d=\"M 373.06 339.031875 \nL 373.06 12.871875 \n\" style=\"fill:none;stroke:#ffffff;stroke-linecap:round;\"/>\n     </g>\n     <g id=\"text_3\">\n      <!-- $\\mathdefault{10^{8}}$ -->\n      <defs>\n       <path d=\"M 17.671875 38.8125 \nQ 12.203125 40.828125 9.5625 44.53125 \nQ 6.9375 48.25 6.9375 53.421875 \nQ 6.9375 61.234375 12.546875 66.546875 \nQ 18.171875 71.875 27.484375 71.875 \nQ 36.859375 71.875 42.578125 66.421875 \nQ 48.296875 60.984375 48.296875 53.171875 \nQ 48.296875 48.1875 45.671875 44.5 \nQ 43.0625 40.828125 37.75 38.8125 \nQ 44.34375 36.671875 47.78125 31.875 \nQ 51.21875 27.09375 51.21875 20.453125 \nQ 51.21875 11.28125 44.71875 5.03125 \nQ 38.234375 -1.21875 27.640625 -1.21875 \nQ 17.046875 -1.21875 10.546875 5.046875 \nQ 4.046875 11.328125 4.046875 20.703125 \nQ 4.046875 27.6875 7.59375 32.390625 \nQ 11.140625 37.109375 17.671875 38.8125 \nz\nM 15.921875 53.71875 \nQ 15.921875 48.640625 19.1875 45.40625 \nQ 22.46875 42.1875 27.6875 42.1875 \nQ 32.765625 42.1875 36.015625 45.375 \nQ 39.265625 48.578125 39.265625 53.21875 \nQ 39.265625 58.0625 35.90625 61.359375 \nQ 32.5625 64.65625 27.59375 64.65625 \nQ 22.5625 64.65625 19.234375 61.421875 \nQ 15.921875 58.203125 15.921875 53.71875 \nz\nM 13.09375 20.65625 \nQ 13.09375 16.890625 14.875 13.375 \nQ 16.65625 9.859375 20.171875 7.921875 \nQ 23.6875 6 27.734375 6 \nQ 34.03125 6 38.125 10.046875 \nQ 42.234375 14.109375 42.234375 20.359375 \nQ 42.234375 26.703125 38.015625 30.859375 \nQ 33.796875 35.015625 27.4375 35.015625 \nQ 21.234375 35.015625 17.15625 30.90625 \nQ 13.09375 26.8125 13.09375 20.65625 \nz\n\" id=\"ArialMT-56\"/>\n      </defs>\n      <g style=\"fill:#262626;\" transform=\"translate(364.425 359.875625)scale(0.11 -0.11)\">\n       <use transform=\"translate(0 0.99375)\" xlink:href=\"#ArialMT-49\"/>\n       <use transform=\"translate(55.615234 0.99375)\" xlink:href=\"#ArialMT-48\"/>\n       <use transform=\"translate(112.972813 70.6875)scale(0.7)\" xlink:href=\"#ArialMT-56\"/>\n      </g>\n     </g>\n    </g>\n    <g id=\"xtick_4\">\n     <g id=\"line2d_4\">\n      <path clip-path=\"url(#p07bba923fd)\" d=\"M 484.66 339.031875 \nL 484.66 12.871875 \n\" style=\"fill:none;stroke:#ffffff;stroke-linecap:round;\"/>\n     </g>\n     <g id=\"text_4\">\n      <!-- $\\mathdefault{10^{9}}$ -->\n      <defs>\n       <path d=\"M 5.46875 16.546875 \nL 13.921875 17.328125 \nQ 14.984375 11.375 18.015625 8.6875 \nQ 21.046875 6 25.78125 6 \nQ 29.828125 6 32.875 7.859375 \nQ 35.9375 9.71875 37.890625 12.8125 \nQ 39.84375 15.921875 41.15625 21.1875 \nQ 42.484375 26.46875 42.484375 31.9375 \nQ 42.484375 32.515625 42.4375 33.6875 \nQ 39.796875 29.5 35.234375 26.875 \nQ 30.671875 24.265625 25.34375 24.265625 \nQ 16.453125 24.265625 10.296875 30.703125 \nQ 4.15625 37.15625 4.15625 47.703125 \nQ 4.15625 58.59375 10.578125 65.234375 \nQ 17 71.875 26.65625 71.875 \nQ 33.640625 71.875 39.421875 68.109375 \nQ 45.21875 64.359375 48.21875 57.390625 \nQ 51.21875 50.4375 51.21875 37.25 \nQ 51.21875 23.53125 48.234375 15.40625 \nQ 45.265625 7.28125 39.375 3.03125 \nQ 33.5 -1.21875 25.59375 -1.21875 \nQ 17.1875 -1.21875 11.859375 3.4375 \nQ 6.546875 8.109375 5.46875 16.546875 \nz\nM 41.453125 48.140625 \nQ 41.453125 55.71875 37.421875 60.15625 \nQ 33.40625 64.59375 27.734375 64.59375 \nQ 21.875 64.59375 17.53125 59.8125 \nQ 13.1875 55.03125 13.1875 47.40625 \nQ 13.1875 40.578125 17.3125 36.296875 \nQ 21.4375 32.03125 27.484375 32.03125 \nQ 33.59375 32.03125 37.515625 36.296875 \nQ 41.453125 40.578125 41.453125 48.140625 \nz\n\" id=\"ArialMT-57\"/>\n      </defs>\n      <g style=\"fill:#262626;\" transform=\"translate(476.025 359.875625)scale(0.11 -0.11)\">\n       <use transform=\"translate(0 0.99375)\" xlink:href=\"#ArialMT-49\"/>\n       <use transform=\"translate(55.615234 0.99375)\" xlink:href=\"#ArialMT-48\"/>\n       <use transform=\"translate(112.972813 70.6875)scale(0.7)\" xlink:href=\"#ArialMT-57\"/>\n      </g>\n     </g>\n    </g>\n    <g id=\"xtick_5\">\n     <g id=\"line2d_5\">\n      <path clip-path=\"url(#p07bba923fd)\" d=\"M 596.26 339.031875 \nL 596.26 12.871875 \n\" style=\"fill:none;stroke:#ffffff;stroke-linecap:round;\"/>\n     </g>\n     <g id=\"text_5\">\n      <!-- $\\mathdefault{10^{10}}$ -->\n      <g style=\"fill:#262626;\" transform=\"translate(585.48 359.875625)scale(0.11 -0.11)\">\n       <use transform=\"translate(0 0.99375)\" xlink:href=\"#ArialMT-49\"/>\n       <use transform=\"translate(55.615234 0.99375)\" xlink:href=\"#ArialMT-48\"/>\n       <use transform=\"translate(112.972813 70.6875)scale(0.7)\" xlink:href=\"#ArialMT-49\"/>\n       <use transform=\"translate(151.903477 70.6875)scale(0.7)\" xlink:href=\"#ArialMT-48\"/>\n      </g>\n     </g>\n    </g>\n    <g id=\"xtick_6\"/>\n    <g id=\"xtick_7\"/>\n    <g id=\"xtick_8\"/>\n    <g id=\"xtick_9\"/>\n    <g id=\"xtick_10\"/>\n    <g id=\"xtick_11\"/>\n    <g id=\"xtick_12\"/>\n    <g id=\"xtick_13\"/>\n    <g id=\"xtick_14\"/>\n    <g id=\"xtick_15\"/>\n    <g id=\"xtick_16\"/>\n    <g id=\"xtick_17\"/>\n    <g id=\"xtick_18\"/>\n    <g id=\"xtick_19\"/>\n    <g id=\"xtick_20\"/>\n    <g id=\"xtick_21\"/>\n    <g id=\"xtick_22\"/>\n    <g id=\"xtick_23\"/>\n    <g id=\"xtick_24\"/>\n    <g id=\"xtick_25\"/>\n    <g id=\"xtick_26\"/>\n    <g id=\"xtick_27\"/>\n    <g id=\"xtick_28\"/>\n    <g id=\"xtick_29\"/>\n    <g id=\"xtick_30\"/>\n    <g id=\"xtick_31\"/>\n    <g id=\"xtick_32\"/>\n    <g id=\"xtick_33\"/>\n    <g id=\"xtick_34\"/>\n    <g id=\"xtick_35\"/>\n    <g id=\"xtick_36\"/>\n    <g id=\"xtick_37\"/>\n    <g id=\"xtick_38\"/>\n    <g id=\"xtick_39\"/>\n    <g id=\"xtick_40\"/>\n    <g id=\"xtick_41\"/>\n    <g id=\"xtick_42\"/>\n    <g id=\"xtick_43\"/>\n    <g id=\"xtick_44\"/>\n    <g id=\"xtick_45\"/>\n   </g>\n   <g id=\"matplotlib.axis_2\">\n    <g id=\"ytick_1\">\n     <g id=\"line2d_6\">\n      <path clip-path=\"url(#p07bba923fd)\" d=\"M 38.26 339.031875 \nL 596.26 339.031875 \n\" style=\"fill:none;stroke:#ffffff;stroke-linecap:round;\"/>\n     </g>\n     <g id=\"text_6\">\n      <!-- $\\mathdefault{10^{5}}$ -->\n      <defs>\n       <path d=\"M 4.15625 18.75 \nL 13.375 19.53125 \nQ 14.40625 12.796875 18.140625 9.390625 \nQ 21.875 6 27.15625 6 \nQ 33.5 6 37.890625 10.78125 \nQ 42.28125 15.578125 42.28125 23.484375 \nQ 42.28125 31 38.0625 35.34375 \nQ 33.84375 39.703125 27 39.703125 \nQ 22.75 39.703125 19.328125 37.765625 \nQ 15.921875 35.84375 13.96875 32.765625 \nL 5.71875 33.84375 \nL 12.640625 70.609375 \nL 48.25 70.609375 \nL 48.25 62.203125 \nL 19.671875 62.203125 \nL 15.828125 42.96875 \nQ 22.265625 47.46875 29.34375 47.46875 \nQ 38.71875 47.46875 45.15625 40.96875 \nQ 51.609375 34.46875 51.609375 24.265625 \nQ 51.609375 14.546875 45.953125 7.46875 \nQ 39.0625 -1.21875 27.15625 -1.21875 \nQ 17.390625 -1.21875 11.203125 4.25 \nQ 5.03125 9.71875 4.15625 18.75 \nz\n\" id=\"ArialMT-53\"/>\n      </defs>\n      <g style=\"fill:#262626;\" transform=\"translate(11.49 344.64875)scale(0.11 -0.11)\">\n       <use transform=\"translate(0 0.879688)\" xlink:href=\"#ArialMT-49\"/>\n       <use transform=\"translate(55.615234 0.879688)\" xlink:href=\"#ArialMT-48\"/>\n       <use transform=\"translate(112.972813 70.573438)scale(0.7)\" xlink:href=\"#ArialMT-53\"/>\n      </g>\n     </g>\n    </g>\n    <g id=\"ytick_2\">\n     <g id=\"line2d_7\">\n      <path clip-path=\"url(#p07bba923fd)\" d=\"M 38.26 273.799875 \nL 596.26 273.799875 \n\" style=\"fill:none;stroke:#ffffff;stroke-linecap:round;\"/>\n     </g>\n     <g id=\"text_7\">\n      <!-- $\\mathdefault{10^{6}}$ -->\n      <g style=\"fill:#262626;\" transform=\"translate(11.49 279.47175)scale(0.11 -0.11)\">\n       <use transform=\"translate(0 0.99375)\" xlink:href=\"#ArialMT-49\"/>\n       <use transform=\"translate(55.615234 0.99375)\" xlink:href=\"#ArialMT-48\"/>\n       <use transform=\"translate(112.972813 70.6875)scale(0.7)\" xlink:href=\"#ArialMT-54\"/>\n      </g>\n     </g>\n    </g>\n    <g id=\"ytick_3\">\n     <g id=\"line2d_8\">\n      <path clip-path=\"url(#p07bba923fd)\" d=\"M 38.26 208.567875 \nL 596.26 208.567875 \n\" style=\"fill:none;stroke:#ffffff;stroke-linecap:round;\"/>\n     </g>\n     <g id=\"text_8\">\n      <!-- $\\mathdefault{10^{7}}$ -->\n      <g style=\"fill:#262626;\" transform=\"translate(11.49 214.18475)scale(0.11 -0.11)\">\n       <use transform=\"translate(0 0.846875)\" xlink:href=\"#ArialMT-49\"/>\n       <use transform=\"translate(55.615234 0.846875)\" xlink:href=\"#ArialMT-48\"/>\n       <use transform=\"translate(112.972813 70.540625)scale(0.7)\" xlink:href=\"#ArialMT-55\"/>\n      </g>\n     </g>\n    </g>\n    <g id=\"ytick_4\">\n     <g id=\"line2d_9\">\n      <path clip-path=\"url(#p07bba923fd)\" d=\"M 38.26 143.335875 \nL 596.26 143.335875 \n\" style=\"fill:none;stroke:#ffffff;stroke-linecap:round;\"/>\n     </g>\n     <g id=\"text_9\">\n      <!-- $\\mathdefault{10^{8}}$ -->\n      <g style=\"fill:#262626;\" transform=\"translate(11.49 149.00775)scale(0.11 -0.11)\">\n       <use transform=\"translate(0 0.99375)\" xlink:href=\"#ArialMT-49\"/>\n       <use transform=\"translate(55.615234 0.99375)\" xlink:href=\"#ArialMT-48\"/>\n       <use transform=\"translate(112.972813 70.6875)scale(0.7)\" xlink:href=\"#ArialMT-56\"/>\n      </g>\n     </g>\n    </g>\n    <g id=\"ytick_5\">\n     <g id=\"line2d_10\">\n      <path clip-path=\"url(#p07bba923fd)\" d=\"M 38.26 78.103875 \nL 596.26 78.103875 \n\" style=\"fill:none;stroke:#ffffff;stroke-linecap:round;\"/>\n     </g>\n     <g id=\"text_10\">\n      <!-- $\\mathdefault{10^{9}}$ -->\n      <g style=\"fill:#262626;\" transform=\"translate(11.49 83.77575)scale(0.11 -0.11)\">\n       <use transform=\"translate(0 0.99375)\" xlink:href=\"#ArialMT-49\"/>\n       <use transform=\"translate(55.615234 0.99375)\" xlink:href=\"#ArialMT-48\"/>\n       <use transform=\"translate(112.972813 70.6875)scale(0.7)\" xlink:href=\"#ArialMT-57\"/>\n      </g>\n     </g>\n    </g>\n    <g id=\"ytick_6\">\n     <g id=\"line2d_11\">\n      <path clip-path=\"url(#p07bba923fd)\" d=\"M 38.26 12.871875 \nL 596.26 12.871875 \n\" style=\"fill:none;stroke:#ffffff;stroke-linecap:round;\"/>\n     </g>\n     <g id=\"text_11\">\n      <!-- $\\mathdefault{10^{10}}$ -->\n      <g style=\"fill:#262626;\" transform=\"translate(7.2 18.54375)scale(0.11 -0.11)\">\n       <use transform=\"translate(0 0.99375)\" xlink:href=\"#ArialMT-49\"/>\n       <use transform=\"translate(55.615234 0.99375)\" xlink:href=\"#ArialMT-48\"/>\n       <use transform=\"translate(112.972813 70.6875)scale(0.7)\" xlink:href=\"#ArialMT-49\"/>\n       <use transform=\"translate(151.903477 70.6875)scale(0.7)\" xlink:href=\"#ArialMT-48\"/>\n      </g>\n     </g>\n    </g>\n    <g id=\"ytick_7\"/>\n    <g id=\"ytick_8\"/>\n    <g id=\"ytick_9\"/>\n    <g id=\"ytick_10\"/>\n    <g id=\"ytick_11\"/>\n    <g id=\"ytick_12\"/>\n    <g id=\"ytick_13\"/>\n    <g id=\"ytick_14\"/>\n    <g id=\"ytick_15\"/>\n    <g id=\"ytick_16\"/>\n    <g id=\"ytick_17\"/>\n    <g id=\"ytick_18\"/>\n    <g id=\"ytick_19\"/>\n    <g id=\"ytick_20\"/>\n    <g id=\"ytick_21\"/>\n    <g id=\"ytick_22\"/>\n    <g id=\"ytick_23\"/>\n    <g id=\"ytick_24\"/>\n    <g id=\"ytick_25\"/>\n    <g id=\"ytick_26\"/>\n    <g id=\"ytick_27\"/>\n    <g id=\"ytick_28\"/>\n    <g id=\"ytick_29\"/>\n    <g id=\"ytick_30\"/>\n    <g id=\"ytick_31\"/>\n    <g id=\"ytick_32\"/>\n    <g id=\"ytick_33\"/>\n    <g id=\"ytick_34\"/>\n    <g id=\"ytick_35\"/>\n    <g id=\"ytick_36\"/>\n    <g id=\"ytick_37\"/>\n    <g id=\"ytick_38\"/>\n    <g id=\"ytick_39\"/>\n    <g id=\"ytick_40\"/>\n    <g id=\"ytick_41\"/>\n    <g id=\"ytick_42\"/>\n    <g id=\"ytick_43\"/>\n    <g id=\"ytick_44\"/>\n    <g id=\"ytick_45\"/>\n    <g id=\"ytick_46\"/>\n   </g>\n   <g id=\"PathCollection_1\">\n    <defs>\n     <path d=\"M 0 3 \nC 0.795609 3 1.55874 2.683901 2.12132 2.12132 \nC 2.683901 1.55874 3 0.795609 3 0 \nC 3 -0.795609 2.683901 -1.55874 2.12132 -2.12132 \nC 1.55874 -2.683901 0.795609 -3 0 -3 \nC -0.795609 -3 -1.55874 -2.683901 -2.12132 -2.12132 \nC -2.683901 -1.55874 -3 -0.795609 -3 0 \nC -3 0.795609 -2.683901 1.55874 -2.12132 2.12132 \nC -1.55874 2.683901 -0.795609 3 0 3 \nz\n\" id=\"madc7404c4a\" style=\"stroke:#c44e52;stroke-opacity:0.7;\"/>\n    </defs>\n    <g clip-path=\"url(#p07bba923fd)\">\n     <use style=\"fill:#c44e52;fill-opacity:0.7;stroke:#c44e52;stroke-opacity:0.7;\" x=\"467.497166\" xlink:href=\"#madc7404c4a\" y=\"89.585146\"/>\n     <use style=\"fill:#c44e52;fill-opacity:0.7;stroke:#c44e52;stroke-opacity:0.7;\" x=\"399.215147\" xlink:href=\"#madc7404c4a\" y=\"135.569518\"/>\n     <use style=\"fill:#c44e52;fill-opacity:0.7;stroke:#c44e52;stroke-opacity:0.7;\" x=\"474.40756\" xlink:href=\"#madc7404c4a\" y=\"91.222882\"/>\n     <use style=\"fill:#c44e52;fill-opacity:0.7;stroke:#c44e52;stroke-opacity:0.7;\" x=\"297.207957\" xlink:href=\"#madc7404c4a\" y=\"190.52103\"/>\n     <use style=\"fill:#c44e52;fill-opacity:0.7;stroke:#c44e52;stroke-opacity:0.7;\" x=\"325.66166\" xlink:href=\"#madc7404c4a\" y=\"179.797977\"/>\n     <use style=\"fill:#c44e52;fill-opacity:0.7;stroke:#c44e52;stroke-opacity:0.7;\" x=\"363.26739\" xlink:href=\"#madc7404c4a\" y=\"152.366023\"/>\n     <use style=\"fill:#c44e52;fill-opacity:0.7;stroke:#c44e52;stroke-opacity:0.7;\" x=\"188.074371\" xlink:href=\"#madc7404c4a\" y=\"283.90444\"/>\n     <use style=\"fill:#c44e52;fill-opacity:0.7;stroke:#c44e52;stroke-opacity:0.7;\" x=\"339.48531\" xlink:href=\"#madc7404c4a\" y=\"176.496274\"/>\n     <use style=\"fill:#c44e52;fill-opacity:0.7;stroke:#c44e52;stroke-opacity:0.7;\" x=\"189.108932\" xlink:href=\"#madc7404c4a\" y=\"263.896443\"/>\n     <use style=\"fill:#c44e52;fill-opacity:0.7;stroke:#c44e52;stroke-opacity:0.7;\" x=\"144.944237\" xlink:href=\"#madc7404c4a\" y=\"26587.855\"/>\n     <use style=\"fill:#c44e52;fill-opacity:0.7;stroke:#c44e52;stroke-opacity:0.7;\" x=\"284.379058\" xlink:href=\"#madc7404c4a\" y=\"26587.855\"/>\n     <use style=\"fill:#c44e52;fill-opacity:0.7;stroke:#c44e52;stroke-opacity:0.7;\" x=\"422.694549\" xlink:href=\"#madc7404c4a\" y=\"115.254464\"/>\n     <use style=\"fill:#c44e52;fill-opacity:0.7;stroke:#c44e52;stroke-opacity:0.7;\" x=\"342.289187\" xlink:href=\"#madc7404c4a\" y=\"174.744174\"/>\n     <use style=\"fill:#c44e52;fill-opacity:0.7;stroke:#c44e52;stroke-opacity:0.7;\" x=\"393.311013\" xlink:href=\"#madc7404c4a\" y=\"132.197596\"/>\n     <use style=\"fill:#c44e52;fill-opacity:0.7;stroke:#c44e52;stroke-opacity:0.7;\" x=\"351.742771\" xlink:href=\"#madc7404c4a\" y=\"169.002057\"/>\n     <use style=\"fill:#c44e52;fill-opacity:0.7;stroke:#c44e52;stroke-opacity:0.7;\" x=\"435.58013\" xlink:href=\"#madc7404c4a\" y=\"118.151844\"/>\n     <use style=\"fill:#c44e52;fill-opacity:0.7;stroke:#c44e52;stroke-opacity:0.7;\" x=\"393.311013\" xlink:href=\"#madc7404c4a\" y=\"132.835701\"/>\n     <use style=\"fill:#c44e52;fill-opacity:0.7;stroke:#c44e52;stroke-opacity:0.7;\" x=\"416.504071\" xlink:href=\"#madc7404c4a\" y=\"118.644352\"/>\n     <use style=\"fill:#c44e52;fill-opacity:0.7;stroke:#c44e52;stroke-opacity:0.7;\" x=\"477.98652\" xlink:href=\"#madc7404c4a\" y=\"85.202084\"/>\n     <use style=\"fill:#c44e52;fill-opacity:0.7;stroke:#c44e52;stroke-opacity:0.7;\" x=\"411.279054\" xlink:href=\"#madc7404c4a\" y=\"132.805364\"/>\n     <use style=\"fill:#c44e52;fill-opacity:0.7;stroke:#c44e52;stroke-opacity:0.7;\" x=\"470.167504\" xlink:href=\"#madc7404c4a\" y=\"91.123793\"/>\n     <use style=\"fill:#c44e52;fill-opacity:0.7;stroke:#c44e52;stroke-opacity:0.7;\" x=\"244.027967\" xlink:href=\"#madc7404c4a\" y=\"274.398447\"/>\n     <use style=\"fill:#c44e52;fill-opacity:0.7;stroke:#c44e52;stroke-opacity:0.7;\" x=\"407.049554\" xlink:href=\"#madc7404c4a\" y=\"127.703858\"/>\n     <use style=\"fill:#c44e52;fill-opacity:0.7;stroke:#c44e52;stroke-opacity:0.7;\" x=\"468.104412\" xlink:href=\"#madc7404c4a\" y=\"95.52657\"/>\n     <use style=\"fill:#c44e52;fill-opacity:0.7;stroke:#c44e52;stroke-opacity:0.7;\" x=\"488.131418\" xlink:href=\"#madc7404c4a\" y=\"77.563671\"/>\n     <use style=\"fill:#c44e52;fill-opacity:0.7;stroke:#c44e52;stroke-opacity:0.7;\" x=\"367.054717\" xlink:href=\"#madc7404c4a\" y=\"154.117674\"/>\n     <use style=\"fill:#c44e52;fill-opacity:0.7;stroke:#c44e52;stroke-opacity:0.7;\" x=\"384.344729\" xlink:href=\"#madc7404c4a\" y=\"145.94023\"/>\n     <use style=\"fill:#c44e52;fill-opacity:0.7;stroke:#c44e52;stroke-opacity:0.7;\" x=\"364.04583\" xlink:href=\"#madc7404c4a\" y=\"26587.855\"/>\n     <use style=\"fill:#c44e52;fill-opacity:0.7;stroke:#c44e52;stroke-opacity:0.7;\" x=\"417.110784\" xlink:href=\"#madc7404c4a\" y=\"26587.855\"/>\n     <use style=\"fill:#c44e52;fill-opacity:0.7;stroke:#c44e52;stroke-opacity:0.7;\" x=\"473.223191\" xlink:href=\"#madc7404c4a\" y=\"89.883776\"/>\n     <use style=\"fill:#c44e52;fill-opacity:0.7;stroke:#c44e52;stroke-opacity:0.7;\" x=\"393.311013\" xlink:href=\"#madc7404c4a\" y=\"140.159188\"/>\n     <use style=\"fill:#c44e52;fill-opacity:0.7;stroke:#c44e52;stroke-opacity:0.7;\" x=\"377.424039\" xlink:href=\"#madc7404c4a\" y=\"144.368123\"/>\n     <use style=\"fill:#c44e52;fill-opacity:0.7;stroke:#c44e52;stroke-opacity:0.7;\" x=\"477.068209\" xlink:href=\"#madc7404c4a\" y=\"86.671926\"/>\n     <use style=\"fill:#c44e52;fill-opacity:0.7;stroke:#c44e52;stroke-opacity:0.7;\" x=\"330.594211\" xlink:href=\"#madc7404c4a\" y=\"186.701957\"/>\n     <use style=\"fill:#c44e52;fill-opacity:0.7;stroke:#c44e52;stroke-opacity:0.7;\" x=\"436.934643\" xlink:href=\"#madc7404c4a\" y=\"108.371846\"/>\n     <use style=\"fill:#c44e52;fill-opacity:0.7;stroke:#c44e52;stroke-opacity:0.7;\" x=\"311.362836\" xlink:href=\"#madc7404c4a\" y=\"182.025125\"/>\n     <use style=\"fill:#c44e52;fill-opacity:0.7;stroke:#c44e52;stroke-opacity:0.7;\" x=\"395.391521\" xlink:href=\"#madc7404c4a\" y=\"133.098782\"/>\n     <use style=\"fill:#c44e52;fill-opacity:0.7;stroke:#c44e52;stroke-opacity:0.7;\" x=\"429.494197\" xlink:href=\"#madc7404c4a\" y=\"114.127146\"/>\n     <use style=\"fill:#c44e52;fill-opacity:0.7;stroke:#c44e52;stroke-opacity:0.7;\" x=\"353.115476\" xlink:href=\"#madc7404c4a\" y=\"155.424552\"/>\n     <use style=\"fill:#c44e52;fill-opacity:0.7;stroke:#c44e52;stroke-opacity:0.7;\" x=\"382.955679\" xlink:href=\"#madc7404c4a\" y=\"145.49832\"/>\n     <use style=\"fill:#c44e52;fill-opacity:0.7;stroke:#c44e52;stroke-opacity:0.7;\" x=\"401.789888\" xlink:href=\"#madc7404c4a\" y=\"131.679798\"/>\n     <use style=\"fill:#c44e52;fill-opacity:0.7;stroke:#c44e52;stroke-opacity:0.7;\" x=\"373.32189\" xlink:href=\"#madc7404c4a\" y=\"167.548955\"/>\n     <use style=\"fill:#c44e52;fill-opacity:0.7;stroke:#c44e52;stroke-opacity:0.7;\" x=\"332.234945\" xlink:href=\"#madc7404c4a\" y=\"242.014422\"/>\n     <use style=\"fill:#c44e52;fill-opacity:0.7;stroke:#c44e52;stroke-opacity:0.7;\" x=\"374.059849\" xlink:href=\"#madc7404c4a\" y=\"169.234611\"/>\n     <use style=\"fill:#c44e52;fill-opacity:0.7;stroke:#c44e52;stroke-opacity:0.7;\" x=\"483.506209\" xlink:href=\"#madc7404c4a\" y=\"82.658883\"/>\n     <use style=\"fill:#c44e52;fill-opacity:0.7;stroke:#c44e52;stroke-opacity:0.7;\" x=\"402.163792\" xlink:href=\"#madc7404c4a\" y=\"132.363673\"/>\n     <use style=\"fill:#c44e52;fill-opacity:0.7;stroke:#c44e52;stroke-opacity:0.7;\" x=\"464.03072\" xlink:href=\"#madc7404c4a\" y=\"100.515028\"/>\n     <use style=\"fill:#c44e52;fill-opacity:0.7;stroke:#c44e52;stroke-opacity:0.7;\" x=\"420.438869\" xlink:href=\"#madc7404c4a\" y=\"26587.855\"/>\n     <use style=\"fill:#c44e52;fill-opacity:0.7;stroke:#c44e52;stroke-opacity:0.7;\" x=\"346.214819\" xlink:href=\"#madc7404c4a\" y=\"26587.855\"/>\n     <use style=\"fill:#c44e52;fill-opacity:0.7;stroke:#c44e52;stroke-opacity:0.7;\" x=\"339.816414\" xlink:href=\"#madc7404c4a\" y=\"196.402214\"/>\n     <use style=\"fill:#c44e52;fill-opacity:0.7;stroke:#c44e52;stroke-opacity:0.7;\" x=\"378.725496\" xlink:href=\"#madc7404c4a\" y=\"145.88345\"/>\n     <use style=\"fill:#c44e52;fill-opacity:0.7;stroke:#c44e52;stroke-opacity:0.7;\" x=\"400.045331\" xlink:href=\"#madc7404c4a\" y=\"137.127001\"/>\n     <use style=\"fill:#c44e52;fill-opacity:0.7;stroke:#c44e52;stroke-opacity:0.7;\" x=\"215.220764\" xlink:href=\"#madc7404c4a\" y=\"249.572022\"/>\n     <use style=\"fill:#c44e52;fill-opacity:0.7;stroke:#c44e52;stroke-opacity:0.7;\" x=\"331.230701\" xlink:href=\"#madc7404c4a\" y=\"171.743102\"/>\n     <use style=\"fill:#c44e52;fill-opacity:0.7;stroke:#c44e52;stroke-opacity:0.7;\" x=\"293.149925\" xlink:href=\"#madc7404c4a\" y=\"26587.855\"/>\n     <use style=\"fill:#c44e52;fill-opacity:0.7;stroke:#c44e52;stroke-opacity:0.7;\" x=\"285.79992\" xlink:href=\"#madc7404c4a\" y=\"26587.855\"/>\n     <use style=\"fill:#c44e52;fill-opacity:0.7;stroke:#c44e52;stroke-opacity:0.7;\" x=\"318.915586\" xlink:href=\"#madc7404c4a\" y=\"192.357476\"/>\n     <use style=\"fill:#c44e52;fill-opacity:0.7;stroke:#c44e52;stroke-opacity:0.7;\" x=\"374.919738\" xlink:href=\"#madc7404c4a\" y=\"142.577893\"/>\n     <use style=\"fill:#c44e52;fill-opacity:0.7;stroke:#c44e52;stroke-opacity:0.7;\" x=\"482.393136\" xlink:href=\"#madc7404c4a\" y=\"88.034709\"/>\n     <use style=\"fill:#c44e52;fill-opacity:0.7;stroke:#c44e52;stroke-opacity:0.7;\" x=\"289.852022\" xlink:href=\"#madc7404c4a\" y=\"199.10811\"/>\n     <use style=\"fill:#c44e52;fill-opacity:0.7;stroke:#c44e52;stroke-opacity:0.7;\" x=\"483.011065\" xlink:href=\"#madc7404c4a\" y=\"84.726314\"/>\n     <use style=\"fill:#c44e52;fill-opacity:0.7;stroke:#c44e52;stroke-opacity:0.7;\" x=\"383.256536\" xlink:href=\"#madc7404c4a\" y=\"139.520994\"/>\n     <use style=\"fill:#c44e52;fill-opacity:0.7;stroke:#c44e52;stroke-opacity:0.7;\" x=\"441.553267\" xlink:href=\"#madc7404c4a\" y=\"111.567848\"/>\n     <use style=\"fill:#c44e52;fill-opacity:0.7;stroke:#c44e52;stroke-opacity:0.7;\" x=\"381.784966\" xlink:href=\"#madc7404c4a\" y=\"139.198673\"/>\n     <use style=\"fill:#c44e52;fill-opacity:0.7;stroke:#c44e52;stroke-opacity:0.7;\" x=\"453.482663\" xlink:href=\"#madc7404c4a\" y=\"102.306628\"/>\n     <use style=\"fill:#c44e52;fill-opacity:0.7;stroke:#c44e52;stroke-opacity:0.7;\" x=\"461.699509\" xlink:href=\"#madc7404c4a\" y=\"98.739755\"/>\n     <use style=\"fill:#c44e52;fill-opacity:0.7;stroke:#c44e52;stroke-opacity:0.7;\" x=\"412.756296\" xlink:href=\"#madc7404c4a\" y=\"123.440967\"/>\n     <use style=\"fill:#c44e52;fill-opacity:0.7;stroke:#c44e52;stroke-opacity:0.7;\" x=\"393.311013\" xlink:href=\"#madc7404c4a\" y=\"137.733573\"/>\n     <use style=\"fill:#c44e52;fill-opacity:0.7;stroke:#c44e52;stroke-opacity:0.7;\" x=\"361.841387\" xlink:href=\"#madc7404c4a\" y=\"153.710116\"/>\n     <use style=\"fill:#c44e52;fill-opacity:0.7;stroke:#c44e52;stroke-opacity:0.7;\" x=\"220.569933\" xlink:href=\"#madc7404c4a\" y=\"26587.855\"/>\n     <use style=\"fill:#c44e52;fill-opacity:0.7;stroke:#c44e52;stroke-opacity:0.7;\" x=\"250.173108\" xlink:href=\"#madc7404c4a\" y=\"26587.855\"/>\n     <use style=\"fill:#c44e52;fill-opacity:0.7;stroke:#c44e52;stroke-opacity:0.7;\" x=\"411.450955\" xlink:href=\"#madc7404c4a\" y=\"137.424467\"/>\n     <use style=\"fill:#c44e52;fill-opacity:0.7;stroke:#c44e52;stroke-opacity:0.7;\" x=\"427.348153\" xlink:href=\"#madc7404c4a\" y=\"113.025029\"/>\n     <use style=\"fill:#c44e52;fill-opacity:0.7;stroke:#c44e52;stroke-opacity:0.7;\" x=\"478.281536\" xlink:href=\"#madc7404c4a\" y=\"85.263292\"/>\n     <use style=\"fill:#c44e52;fill-opacity:0.7;stroke:#c44e52;stroke-opacity:0.7;\" x=\"404.560307\" xlink:href=\"#madc7404c4a\" y=\"131.55961\"/>\n     <use style=\"fill:#c44e52;fill-opacity:0.7;stroke:#c44e52;stroke-opacity:0.7;\" x=\"445.57858\" xlink:href=\"#madc7404c4a\" y=\"102.918086\"/>\n     <use style=\"fill:#c44e52;fill-opacity:0.7;stroke:#c44e52;stroke-opacity:0.7;\" x=\"368.677311\" xlink:href=\"#madc7404c4a\" y=\"149.181963\"/>\n     <use style=\"fill:#c44e52;fill-opacity:0.7;stroke:#c44e52;stroke-opacity:0.7;\" x=\"374.166332\" xlink:href=\"#madc7404c4a\" y=\"144.40135\"/>\n     <use style=\"fill:#c44e52;fill-opacity:0.7;stroke:#c44e52;stroke-opacity:0.7;\" x=\"361.627912\" xlink:href=\"#madc7404c4a\" y=\"153.445237\"/>\n     <use style=\"fill:#c44e52;fill-opacity:0.7;stroke:#c44e52;stroke-opacity:0.7;\" x=\"324.699952\" xlink:href=\"#madc7404c4a\" y=\"186.399618\"/>\n     <use style=\"fill:#c44e52;fill-opacity:0.7;stroke:#c44e52;stroke-opacity:0.7;\" x=\"465.803783\" xlink:href=\"#madc7404c4a\" y=\"97.030071\"/>\n     <use style=\"fill:#c44e52;fill-opacity:0.7;stroke:#c44e52;stroke-opacity:0.7;\" x=\"498.899525\" xlink:href=\"#madc7404c4a\" y=\"72.55158\"/>\n     <use style=\"fill:#c44e52;fill-opacity:0.7;stroke:#c44e52;stroke-opacity:0.7;\" x=\"411.836232\" xlink:href=\"#madc7404c4a\" y=\"26587.855\"/>\n     <use style=\"fill:#c44e52;fill-opacity:0.7;stroke:#c44e52;stroke-opacity:0.7;\" x=\"288.178105\" xlink:href=\"#madc7404c4a\" y=\"26587.855\"/>\n     <use style=\"fill:#c44e52;fill-opacity:0.7;stroke:#c44e52;stroke-opacity:0.7;\" x=\"291.809431\" xlink:href=\"#madc7404c4a\" y=\"224.469818\"/>\n     <use style=\"fill:#c44e52;fill-opacity:0.7;stroke:#c44e52;stroke-opacity:0.7;\" x=\"429.389278\" xlink:href=\"#madc7404c4a\" y=\"112.525657\"/>\n     <use style=\"fill:#c44e52;fill-opacity:0.7;stroke:#c44e52;stroke-opacity:0.7;\" x=\"482.787489\" xlink:href=\"#madc7404c4a\" y=\"81.980782\"/>\n     <use style=\"fill:#c44e52;fill-opacity:0.7;stroke:#c44e52;stroke-opacity:0.7;\" x=\"436.212257\" xlink:href=\"#madc7404c4a\" y=\"115.404864\"/>\n     <use style=\"fill:#c44e52;fill-opacity:0.7;stroke:#c44e52;stroke-opacity:0.7;\" x=\"359.747801\" xlink:href=\"#madc7404c4a\" y=\"26587.855\"/>\n     <use style=\"fill:#c44e52;fill-opacity:0.7;stroke:#c44e52;stroke-opacity:0.7;\" x=\"349.139396\" xlink:href=\"#madc7404c4a\" y=\"26587.855\"/>\n     <use style=\"fill:#c44e52;fill-opacity:0.7;stroke:#c44e52;stroke-opacity:0.7;\" x=\"418.450014\" xlink:href=\"#madc7404c4a\" y=\"119.117609\"/>\n     <use style=\"fill:#c44e52;fill-opacity:0.7;stroke:#c44e52;stroke-opacity:0.7;\" x=\"438.483002\" xlink:href=\"#madc7404c4a\" y=\"119.048465\"/>\n     <use style=\"fill:#c44e52;fill-opacity:0.7;stroke:#c44e52;stroke-opacity:0.7;\" x=\"415.652385\" xlink:href=\"#madc7404c4a\" y=\"126.55868\"/>\n     <use style=\"fill:#c44e52;fill-opacity:0.7;stroke:#c44e52;stroke-opacity:0.7;\" x=\"434.871462\" xlink:href=\"#madc7404c4a\" y=\"109.685594\"/>\n     <use style=\"fill:#c44e52;fill-opacity:0.7;stroke:#c44e52;stroke-opacity:0.7;\" x=\"361.290226\" xlink:href=\"#madc7404c4a\" y=\"26587.855\"/>\n     <use style=\"fill:#c44e52;fill-opacity:0.7;stroke:#c44e52;stroke-opacity:0.7;\" x=\"374.377104\" xlink:href=\"#madc7404c4a\" y=\"26587.855\"/>\n     <use style=\"fill:#c44e52;fill-opacity:0.7;stroke:#c44e52;stroke-opacity:0.7;\" x=\"456.800916\" xlink:href=\"#madc7404c4a\" y=\"100.863329\"/>\n     <use style=\"fill:#c44e52;fill-opacity:0.7;stroke:#c44e52;stroke-opacity:0.7;\" x=\"437.191739\" xlink:href=\"#madc7404c4a\" y=\"113.611726\"/>\n     <use style=\"fill:#c44e52;fill-opacity:0.7;stroke:#c44e52;stroke-opacity:0.7;\" x=\"413.575858\" xlink:href=\"#madc7404c4a\" y=\"122.903142\"/>\n     <use style=\"fill:#c44e52;fill-opacity:0.7;stroke:#c44e52;stroke-opacity:0.7;\" x=\"490.509501\" xlink:href=\"#madc7404c4a\" y=\"78.784109\"/>\n     <use style=\"fill:#c44e52;fill-opacity:0.7;stroke:#c44e52;stroke-opacity:0.7;\" x=\"391.718205\" xlink:href=\"#madc7404c4a\" y=\"26587.855\"/>\n     <use style=\"fill:#c44e52;fill-opacity:0.7;stroke:#c44e52;stroke-opacity:0.7;\" x=\"361.010932\" xlink:href=\"#madc7404c4a\" y=\"26587.855\"/>\n     <use style=\"fill:#c44e52;fill-opacity:0.7;stroke:#c44e52;stroke-opacity:0.7;\" x=\"439.013609\" xlink:href=\"#madc7404c4a\" y=\"106.123856\"/>\n     <use style=\"fill:#c44e52;fill-opacity:0.7;stroke:#c44e52;stroke-opacity:0.7;\" x=\"399.784697\" xlink:href=\"#madc7404c4a\" y=\"134.506879\"/>\n     <use style=\"fill:#c44e52;fill-opacity:0.7;stroke:#c44e52;stroke-opacity:0.7;\" x=\"398.721594\" xlink:href=\"#madc7404c4a\" y=\"157.901193\"/>\n     <use style=\"fill:#c44e52;fill-opacity:0.7;stroke:#c44e52;stroke-opacity:0.7;\" x=\"314.416054\" xlink:href=\"#madc7404c4a\" y=\"189.186329\"/>\n     <use style=\"fill:#c44e52;fill-opacity:0.7;stroke:#c44e52;stroke-opacity:0.7;\" x=\"435.884877\" xlink:href=\"#madc7404c4a\" y=\"108.372169\"/>\n     <use style=\"fill:#c44e52;fill-opacity:0.7;stroke:#c44e52;stroke-opacity:0.7;\" x=\"256.353464\" xlink:href=\"#madc7404c4a\" y=\"223.039513\"/>\n     <use style=\"fill:#c44e52;fill-opacity:0.7;stroke:#c44e52;stroke-opacity:0.7;\" x=\"488.126587\" xlink:href=\"#madc7404c4a\" y=\"83.583152\"/>\n     <use style=\"fill:#c44e52;fill-opacity:0.7;stroke:#c44e52;stroke-opacity:0.7;\" x=\"449.940632\" xlink:href=\"#madc7404c4a\" y=\"108.788881\"/>\n     <use style=\"fill:#c44e52;fill-opacity:0.7;stroke:#c44e52;stroke-opacity:0.7;\" x=\"251.860743\" xlink:href=\"#madc7404c4a\" y=\"240.819306\"/>\n     <use style=\"fill:#c44e52;fill-opacity:0.7;stroke:#c44e52;stroke-opacity:0.7;\" x=\"385.909705\" xlink:href=\"#madc7404c4a\" y=\"157.638552\"/>\n     <use style=\"fill:#c44e52;fill-opacity:0.7;stroke:#c44e52;stroke-opacity:0.7;\" x=\"475.150673\" xlink:href=\"#madc7404c4a\" y=\"89.329237\"/>\n     <use style=\"fill:#c44e52;fill-opacity:0.7;stroke:#c44e52;stroke-opacity:0.7;\" x=\"473.297565\" xlink:href=\"#madc7404c4a\" y=\"91.967447\"/>\n     <use style=\"fill:#c44e52;fill-opacity:0.7;stroke:#c44e52;stroke-opacity:0.7;\" x=\"479.333302\" xlink:href=\"#madc7404c4a\" y=\"86.408375\"/>\n     <use style=\"fill:#c44e52;fill-opacity:0.7;stroke:#c44e52;stroke-opacity:0.7;\" x=\"519.362745\" xlink:href=\"#madc7404c4a\" y=\"62.310957\"/>\n     <use style=\"fill:#c44e52;fill-opacity:0.7;stroke:#c44e52;stroke-opacity:0.7;\" x=\"393.311013\" xlink:href=\"#madc7404c4a\" y=\"137.733573\"/>\n     <use style=\"fill:#c44e52;fill-opacity:0.7;stroke:#c44e52;stroke-opacity:0.7;\" x=\"321.648479\" xlink:href=\"#madc7404c4a\" y=\"195.93422\"/>\n     <use style=\"fill:#c44e52;fill-opacity:0.7;stroke:#c44e52;stroke-opacity:0.7;\" x=\"412.78076\" xlink:href=\"#madc7404c4a\" y=\"124.716462\"/>\n     <use style=\"fill:#c44e52;fill-opacity:0.7;stroke:#c44e52;stroke-opacity:0.7;\" x=\"479.23076\" xlink:href=\"#madc7404c4a\" y=\"82.97499\"/>\n     <use style=\"fill:#c44e52;fill-opacity:0.7;stroke:#c44e52;stroke-opacity:0.7;\" x=\"325.637164\" xlink:href=\"#madc7404c4a\" y=\"181.949413\"/>\n     <use style=\"fill:#c44e52;fill-opacity:0.7;stroke:#c44e52;stroke-opacity:0.7;\" x=\"415.497854\" xlink:href=\"#madc7404c4a\" y=\"128.29805\"/>\n     <use style=\"fill:#c44e52;fill-opacity:0.7;stroke:#c44e52;stroke-opacity:0.7;\" x=\"235.720333\" xlink:href=\"#madc7404c4a\" y=\"277.429882\"/>\n     <use style=\"fill:#c44e52;fill-opacity:0.7;stroke:#c44e52;stroke-opacity:0.7;\" x=\"393.311013\" xlink:href=\"#madc7404c4a\" y=\"135.49936\"/>\n     <use style=\"fill:#c44e52;fill-opacity:0.7;stroke:#c44e52;stroke-opacity:0.7;\" x=\"422.027945\" xlink:href=\"#madc7404c4a\" y=\"126.581695\"/>\n     <use style=\"fill:#c44e52;fill-opacity:0.7;stroke:#c44e52;stroke-opacity:0.7;\" x=\"292.568902\" xlink:href=\"#madc7404c4a\" y=\"204.608433\"/>\n     <use style=\"fill:#c44e52;fill-opacity:0.7;stroke:#c44e52;stroke-opacity:0.7;\" x=\"409.983048\" xlink:href=\"#madc7404c4a\" y=\"129.283912\"/>\n     <use style=\"fill:#c44e52;fill-opacity:0.7;stroke:#c44e52;stroke-opacity:0.7;\" x=\"363.717872\" xlink:href=\"#madc7404c4a\" y=\"154.067053\"/>\n     <use style=\"fill:#c44e52;fill-opacity:0.7;stroke:#c44e52;stroke-opacity:0.7;\" x=\"286.259508\" xlink:href=\"#madc7404c4a\" y=\"219.994512\"/>\n     <use style=\"fill:#c44e52;fill-opacity:0.7;stroke:#c44e52;stroke-opacity:0.7;\" x=\"218.246678\" xlink:href=\"#madc7404c4a\" y=\"288.271513\"/>\n     <use style=\"fill:#c44e52;fill-opacity:0.7;stroke:#c44e52;stroke-opacity:0.7;\" x=\"435.616729\" xlink:href=\"#madc7404c4a\" y=\"113.811609\"/>\n     <use style=\"fill:#c44e52;fill-opacity:0.7;stroke:#c44e52;stroke-opacity:0.7;\" x=\"334.356634\" xlink:href=\"#madc7404c4a\" y=\"173.899899\"/>\n     <use style=\"fill:#c44e52;fill-opacity:0.7;stroke:#c44e52;stroke-opacity:0.7;\" x=\"258.668271\" xlink:href=\"#madc7404c4a\" y=\"216.19292\"/>\n     <use style=\"fill:#c44e52;fill-opacity:0.7;stroke:#c44e52;stroke-opacity:0.7;\" x=\"376.918458\" xlink:href=\"#madc7404c4a\" y=\"145.304679\"/>\n     <use style=\"fill:#c44e52;fill-opacity:0.7;stroke:#c44e52;stroke-opacity:0.7;\" x=\"485.79926\" xlink:href=\"#madc7404c4a\" y=\"81.926197\"/>\n     <use style=\"fill:#c44e52;fill-opacity:0.7;stroke:#c44e52;stroke-opacity:0.7;\" x=\"450.809137\" xlink:href=\"#madc7404c4a\" y=\"103.545287\"/>\n     <use style=\"fill:#c44e52;fill-opacity:0.7;stroke:#c44e52;stroke-opacity:0.7;\" x=\"393.311013\" xlink:href=\"#madc7404c4a\" y=\"135.456425\"/>\n     <use style=\"fill:#c44e52;fill-opacity:0.7;stroke:#c44e52;stroke-opacity:0.7;\" x=\"461.414355\" xlink:href=\"#madc7404c4a\" y=\"96.519629\"/>\n     <use style=\"fill:#c44e52;fill-opacity:0.7;stroke:#c44e52;stroke-opacity:0.7;\" x=\"393.311013\" xlink:href=\"#madc7404c4a\" y=\"137.733573\"/>\n     <use style=\"fill:#c44e52;fill-opacity:0.7;stroke:#c44e52;stroke-opacity:0.7;\" x=\"490.666178\" xlink:href=\"#madc7404c4a\" y=\"78.910528\"/>\n     <use style=\"fill:#c44e52;fill-opacity:0.7;stroke:#c44e52;stroke-opacity:0.7;\" x=\"393.311013\" xlink:href=\"#madc7404c4a\" y=\"137.733573\"/>\n     <use style=\"fill:#c44e52;fill-opacity:0.7;stroke:#c44e52;stroke-opacity:0.7;\" x=\"361.300531\" xlink:href=\"#madc7404c4a\" y=\"26587.855\"/>\n     <use style=\"fill:#c44e52;fill-opacity:0.7;stroke:#c44e52;stroke-opacity:0.7;\" x=\"361.296707\" xlink:href=\"#madc7404c4a\" y=\"26587.855\"/>\n     <use style=\"fill:#c44e52;fill-opacity:0.7;stroke:#c44e52;stroke-opacity:0.7;\" x=\"393.311013\" xlink:href=\"#madc7404c4a\" y=\"132.447258\"/>\n     <use style=\"fill:#c44e52;fill-opacity:0.7;stroke:#c44e52;stroke-opacity:0.7;\" x=\"421.319446\" xlink:href=\"#madc7404c4a\" y=\"117.077039\"/>\n     <use style=\"fill:#c44e52;fill-opacity:0.7;stroke:#c44e52;stroke-opacity:0.7;\" x=\"352.21593\" xlink:href=\"#madc7404c4a\" y=\"157.317565\"/>\n     <use style=\"fill:#c44e52;fill-opacity:0.7;stroke:#c44e52;stroke-opacity:0.7;\" x=\"393.311013\" xlink:href=\"#madc7404c4a\" y=\"133.428539\"/>\n     <use style=\"fill:#c44e52;fill-opacity:0.7;stroke:#c44e52;stroke-opacity:0.7;\" x=\"491.572604\" xlink:href=\"#madc7404c4a\" y=\"80.985158\"/>\n     <use style=\"fill:#c44e52;fill-opacity:0.7;stroke:#c44e52;stroke-opacity:0.7;\" x=\"360.963202\" xlink:href=\"#madc7404c4a\" y=\"158.810833\"/>\n     <use style=\"fill:#c44e52;fill-opacity:0.7;stroke:#c44e52;stroke-opacity:0.7;\" x=\"464.368433\" xlink:href=\"#madc7404c4a\" y=\"107.210969\"/>\n     <use style=\"fill:#c44e52;fill-opacity:0.7;stroke:#c44e52;stroke-opacity:0.7;\" x=\"393.311013\" xlink:href=\"#madc7404c4a\" y=\"137.733573\"/>\n     <use style=\"fill:#c44e52;fill-opacity:0.7;stroke:#c44e52;stroke-opacity:0.7;\" x=\"293.280285\" xlink:href=\"#madc7404c4a\" y=\"198.472798\"/>\n     <use style=\"fill:#c44e52;fill-opacity:0.7;stroke:#c44e52;stroke-opacity:0.7;\" x=\"259.477948\" xlink:href=\"#madc7404c4a\" y=\"26587.855\"/>\n     <use style=\"fill:#c44e52;fill-opacity:0.7;stroke:#c44e52;stroke-opacity:0.7;\" x=\"369.472838\" xlink:href=\"#madc7404c4a\" y=\"26587.855\"/>\n     <use style=\"fill:#c44e52;fill-opacity:0.7;stroke:#c44e52;stroke-opacity:0.7;\" x=\"477.561247\" xlink:href=\"#madc7404c4a\" y=\"89.714617\"/>\n     <use style=\"fill:#c44e52;fill-opacity:0.7;stroke:#c44e52;stroke-opacity:0.7;\" x=\"481.568828\" xlink:href=\"#madc7404c4a\" y=\"84.84603\"/>\n     <use style=\"fill:#c44e52;fill-opacity:0.7;stroke:#c44e52;stroke-opacity:0.7;\" x=\"393.311013\" xlink:href=\"#madc7404c4a\" y=\"137.733573\"/>\n     <use style=\"fill:#c44e52;fill-opacity:0.7;stroke:#c44e52;stroke-opacity:0.7;\" x=\"394.525987\" xlink:href=\"#madc7404c4a\" y=\"135.53051\"/>\n     <use style=\"fill:#c44e52;fill-opacity:0.7;stroke:#c44e52;stroke-opacity:0.7;\" x=\"427.348153\" xlink:href=\"#madc7404c4a\" y=\"113.025029\"/>\n     <use style=\"fill:#c44e52;fill-opacity:0.7;stroke:#c44e52;stroke-opacity:0.7;\" x=\"365.418018\" xlink:href=\"#madc7404c4a\" y=\"165.69876\"/>\n     <use style=\"fill:#c44e52;fill-opacity:0.7;stroke:#c44e52;stroke-opacity:0.7;\" x=\"433.921855\" xlink:href=\"#madc7404c4a\" y=\"117.829742\"/>\n     <use style=\"fill:#c44e52;fill-opacity:0.7;stroke:#c44e52;stroke-opacity:0.7;\" x=\"368.865612\" xlink:href=\"#madc7404c4a\" y=\"157.011481\"/>\n     <use style=\"fill:#c44e52;fill-opacity:0.7;stroke:#c44e52;stroke-opacity:0.7;\" x=\"200.786212\" xlink:href=\"#madc7404c4a\" y=\"259.446051\"/>\n     <use style=\"fill:#c44e52;fill-opacity:0.7;stroke:#c44e52;stroke-opacity:0.7;\" x=\"374.188825\" xlink:href=\"#madc7404c4a\" y=\"151.730043\"/>\n     <use style=\"fill:#c44e52;fill-opacity:0.7;stroke:#c44e52;stroke-opacity:0.7;\" x=\"322.731171\" xlink:href=\"#madc7404c4a\" y=\"178.014948\"/>\n     <use style=\"fill:#c44e52;fill-opacity:0.7;stroke:#c44e52;stroke-opacity:0.7;\" x=\"393.217281\" xlink:href=\"#madc7404c4a\" y=\"148.76082\"/>\n     <use style=\"fill:#c44e52;fill-opacity:0.7;stroke:#c44e52;stroke-opacity:0.7;\" x=\"399.677987\" xlink:href=\"#madc7404c4a\" y=\"136.301248\"/>\n     <use style=\"fill:#c44e52;fill-opacity:0.7;stroke:#c44e52;stroke-opacity:0.7;\" x=\"470.512644\" xlink:href=\"#madc7404c4a\" y=\"93.937001\"/>\n     <use style=\"fill:#c44e52;fill-opacity:0.7;stroke:#c44e52;stroke-opacity:0.7;\" x=\"393.404564\" xlink:href=\"#madc7404c4a\" y=\"137.665446\"/>\n     <use style=\"fill:#c44e52;fill-opacity:0.7;stroke:#c44e52;stroke-opacity:0.7;\" x=\"369.863191\" xlink:href=\"#madc7404c4a\" y=\"154.005757\"/>\n     <use style=\"fill:#c44e52;fill-opacity:0.7;stroke:#c44e52;stroke-opacity:0.7;\" x=\"356.7086\" xlink:href=\"#madc7404c4a\" y=\"26587.855\"/>\n     <use style=\"fill:#c44e52;fill-opacity:0.7;stroke:#c44e52;stroke-opacity:0.7;\" x=\"365.707052\" xlink:href=\"#madc7404c4a\" y=\"26587.855\"/>\n     <use style=\"fill:#c44e52;fill-opacity:0.7;stroke:#c44e52;stroke-opacity:0.7;\" x=\"384.922568\" xlink:href=\"#madc7404c4a\" y=\"140.448173\"/>\n     <use style=\"fill:#c44e52;fill-opacity:0.7;stroke:#c44e52;stroke-opacity:0.7;\" x=\"337.347168\" xlink:href=\"#madc7404c4a\" y=\"170.111834\"/>\n     <use style=\"fill:#c44e52;fill-opacity:0.7;stroke:#c44e52;stroke-opacity:0.7;\" x=\"393.311013\" xlink:href=\"#madc7404c4a\" y=\"132.640814\"/>\n     <use style=\"fill:#c44e52;fill-opacity:0.7;stroke:#c44e52;stroke-opacity:0.7;\" x=\"236.70168\" xlink:href=\"#madc7404c4a\" y=\"229.885348\"/>\n     <use style=\"fill:#c44e52;fill-opacity:0.7;stroke:#c44e52;stroke-opacity:0.7;\" x=\"203.106732\" xlink:href=\"#madc7404c4a\" y=\"260.48472\"/>\n     <use style=\"fill:#c44e52;fill-opacity:0.7;stroke:#c44e52;stroke-opacity:0.7;\" x=\"296.878016\" xlink:href=\"#madc7404c4a\" y=\"206.475283\"/>\n     <use style=\"fill:#c44e52;fill-opacity:0.7;stroke:#c44e52;stroke-opacity:0.7;\" x=\"258.453712\" xlink:href=\"#madc7404c4a\" y=\"26587.855\"/>\n     <use style=\"fill:#c44e52;fill-opacity:0.7;stroke:#c44e52;stroke-opacity:0.7;\" x=\"323.394938\" xlink:href=\"#madc7404c4a\" y=\"26587.855\"/>\n     <use style=\"fill:#c44e52;fill-opacity:0.7;stroke:#c44e52;stroke-opacity:0.7;\" x=\"405.602232\" xlink:href=\"#madc7404c4a\" y=\"142.305827\"/>\n     <use style=\"fill:#c44e52;fill-opacity:0.7;stroke:#c44e52;stroke-opacity:0.7;\" x=\"357.327573\" xlink:href=\"#madc7404c4a\" y=\"180.135097\"/>\n     <use style=\"fill:#c44e52;fill-opacity:0.7;stroke:#c44e52;stroke-opacity:0.7;\" x=\"290.447442\" xlink:href=\"#madc7404c4a\" y=\"26587.855\"/>\n     <use style=\"fill:#c44e52;fill-opacity:0.7;stroke:#c44e52;stroke-opacity:0.7;\" x=\"344.703073\" xlink:href=\"#madc7404c4a\" y=\"26587.855\"/>\n     <use style=\"fill:#c44e52;fill-opacity:0.7;stroke:#c44e52;stroke-opacity:0.7;\" x=\"372.49345\" xlink:href=\"#madc7404c4a\" y=\"165.434882\"/>\n     <use style=\"fill:#c44e52;fill-opacity:0.7;stroke:#c44e52;stroke-opacity:0.7;\" x=\"449.374468\" xlink:href=\"#madc7404c4a\" y=\"104.789707\"/>\n     <use style=\"fill:#c44e52;fill-opacity:0.7;stroke:#c44e52;stroke-opacity:0.7;\" x=\"481.348594\" xlink:href=\"#madc7404c4a\" y=\"88.865185\"/>\n     <use style=\"fill:#c44e52;fill-opacity:0.7;stroke:#c44e52;stroke-opacity:0.7;\" x=\"339.270795\" xlink:href=\"#madc7404c4a\" y=\"165.21195\"/>\n     <use style=\"fill:#c44e52;fill-opacity:0.7;stroke:#c44e52;stroke-opacity:0.7;\" x=\"422.076325\" xlink:href=\"#madc7404c4a\" y=\"116.713856\"/>\n     <use style=\"fill:#c44e52;fill-opacity:0.7;stroke:#c44e52;stroke-opacity:0.7;\" x=\"467.005512\" xlink:href=\"#madc7404c4a\" y=\"95.055303\"/>\n     <use style=\"fill:#c44e52;fill-opacity:0.7;stroke:#c44e52;stroke-opacity:0.7;\" x=\"393.311013\" xlink:href=\"#madc7404c4a\" y=\"137.733573\"/>\n     <use style=\"fill:#c44e52;fill-opacity:0.7;stroke:#c44e52;stroke-opacity:0.7;\" x=\"498.574312\" xlink:href=\"#madc7404c4a\" y=\"74.577857\"/>\n     <use style=\"fill:#c44e52;fill-opacity:0.7;stroke:#c44e52;stroke-opacity:0.7;\" x=\"473.8767\" xlink:href=\"#madc7404c4a\" y=\"91.395197\"/>\n     <use style=\"fill:#c44e52;fill-opacity:0.7;stroke:#c44e52;stroke-opacity:0.7;\" x=\"425.735087\" xlink:href=\"#madc7404c4a\" y=\"125.68162\"/>\n     <use style=\"fill:#c44e52;fill-opacity:0.7;stroke:#c44e52;stroke-opacity:0.7;\" x=\"428.544818\" xlink:href=\"#madc7404c4a\" y=\"115.814712\"/>\n     <use style=\"fill:#c44e52;fill-opacity:0.7;stroke:#c44e52;stroke-opacity:0.7;\" x=\"338.174899\" xlink:href=\"#madc7404c4a\" y=\"174.160784\"/>\n     <use style=\"fill:#c44e52;fill-opacity:0.7;stroke:#c44e52;stroke-opacity:0.7;\" x=\"336.120315\" xlink:href=\"#madc7404c4a\" y=\"166.042093\"/>\n     <use style=\"fill:#c44e52;fill-opacity:0.7;stroke:#c44e52;stroke-opacity:0.7;\" x=\"301.662527\" xlink:href=\"#madc7404c4a\" y=\"26587.855\"/>\n     <use style=\"fill:#c44e52;fill-opacity:0.7;stroke:#c44e52;stroke-opacity:0.7;\" x=\"327.300785\" xlink:href=\"#madc7404c4a\" y=\"26587.855\"/>\n     <use style=\"fill:#c44e52;fill-opacity:0.7;stroke:#c44e52;stroke-opacity:0.7;\" x=\"379.02063\" xlink:href=\"#madc7404c4a\" y=\"151.078426\"/>\n     <use style=\"fill:#c44e52;fill-opacity:0.7;stroke:#c44e52;stroke-opacity:0.7;\" x=\"369.503284\" xlink:href=\"#madc7404c4a\" y=\"152.28095\"/>\n     <use style=\"fill:#c44e52;fill-opacity:0.7;stroke:#c44e52;stroke-opacity:0.7;\" x=\"350.503202\" xlink:href=\"#madc7404c4a\" y=\"201.600443\"/>\n     <use style=\"fill:#c44e52;fill-opacity:0.7;stroke:#c44e52;stroke-opacity:0.7;\" x=\"323.144849\" xlink:href=\"#madc7404c4a\" y=\"26587.855\"/>\n     <use style=\"fill:#c44e52;fill-opacity:0.7;stroke:#c44e52;stroke-opacity:0.7;\" x=\"370.292522\" xlink:href=\"#madc7404c4a\" y=\"26587.855\"/>\n     <use style=\"fill:#c44e52;fill-opacity:0.7;stroke:#c44e52;stroke-opacity:0.7;\" x=\"429.494197\" xlink:href=\"#madc7404c4a\" y=\"114.127146\"/>\n     <use style=\"fill:#c44e52;fill-opacity:0.7;stroke:#c44e52;stroke-opacity:0.7;\" x=\"468.95275\" xlink:href=\"#madc7404c4a\" y=\"91.729282\"/>\n     <use style=\"fill:#c44e52;fill-opacity:0.7;stroke:#c44e52;stroke-opacity:0.7;\" x=\"309.612889\" xlink:href=\"#madc7404c4a\" y=\"184.962935\"/>\n     <use style=\"fill:#c44e52;fill-opacity:0.7;stroke:#c44e52;stroke-opacity:0.7;\" x=\"375.102318\" xlink:href=\"#madc7404c4a\" y=\"144.997371\"/>\n     <use style=\"fill:#c44e52;fill-opacity:0.7;stroke:#c44e52;stroke-opacity:0.7;\" x=\"416.673396\" xlink:href=\"#madc7404c4a\" y=\"119.18334\"/>\n     <use style=\"fill:#c44e52;fill-opacity:0.7;stroke:#c44e52;stroke-opacity:0.7;\" x=\"499.088035\" xlink:href=\"#madc7404c4a\" y=\"74.224879\"/>\n     <use style=\"fill:#c44e52;fill-opacity:0.7;stroke:#c44e52;stroke-opacity:0.7;\" x=\"394.351036\" xlink:href=\"#madc7404c4a\" y=\"140.338548\"/>\n     <use style=\"fill:#c44e52;fill-opacity:0.7;stroke:#c44e52;stroke-opacity:0.7;\" x=\"371.588297\" xlink:href=\"#madc7404c4a\" y=\"144.637581\"/>\n     <use style=\"fill:#c44e52;fill-opacity:0.7;stroke:#c44e52;stroke-opacity:0.7;\" x=\"409.019673\" xlink:href=\"#madc7404c4a\" y=\"134.211282\"/>\n     <use style=\"fill:#c44e52;fill-opacity:0.7;stroke:#c44e52;stroke-opacity:0.7;\" x=\"393.311013\" xlink:href=\"#madc7404c4a\" y=\"134.494505\"/>\n     <use style=\"fill:#c44e52;fill-opacity:0.7;stroke:#c44e52;stroke-opacity:0.7;\" x=\"392.344903\" xlink:href=\"#madc7404c4a\" y=\"133.011705\"/>\n     <use style=\"fill:#c44e52;fill-opacity:0.7;stroke:#c44e52;stroke-opacity:0.7;\" x=\"362.625393\" xlink:href=\"#madc7404c4a\" y=\"162.617597\"/>\n     <use style=\"fill:#c44e52;fill-opacity:0.7;stroke:#c44e52;stroke-opacity:0.7;\" x=\"307.771026\" xlink:href=\"#madc7404c4a\" y=\"184.726363\"/>\n     <use style=\"fill:#c44e52;fill-opacity:0.7;stroke:#c44e52;stroke-opacity:0.7;\" x=\"447.793656\" xlink:href=\"#madc7404c4a\" y=\"114.434704\"/>\n     <use style=\"fill:#c44e52;fill-opacity:0.7;stroke:#c44e52;stroke-opacity:0.7;\" x=\"365.320659\" xlink:href=\"#madc7404c4a\" y=\"155.003914\"/>\n     <use style=\"fill:#c44e52;fill-opacity:0.7;stroke:#c44e52;stroke-opacity:0.7;\" x=\"478.112426\" xlink:href=\"#madc7404c4a\" y=\"91.480974\"/>\n     <use style=\"fill:#c44e52;fill-opacity:0.7;stroke:#c44e52;stroke-opacity:0.7;\" x=\"332.15508\" xlink:href=\"#madc7404c4a\" y=\"173.077228\"/>\n     <use style=\"fill:#c44e52;fill-opacity:0.7;stroke:#c44e52;stroke-opacity:0.7;\" x=\"333.835488\" xlink:href=\"#madc7404c4a\" y=\"198.008325\"/>\n     <use style=\"fill:#c44e52;fill-opacity:0.7;stroke:#c44e52;stroke-opacity:0.7;\" x=\"534.52475\" xlink:href=\"#madc7404c4a\" y=\"52.812764\"/>\n     <use style=\"fill:#c44e52;fill-opacity:0.7;stroke:#c44e52;stroke-opacity:0.7;\" x=\"448.494427\" xlink:href=\"#madc7404c4a\" y=\"102.266805\"/>\n     <use style=\"fill:#c44e52;fill-opacity:0.7;stroke:#c44e52;stroke-opacity:0.7;\" x=\"321.151554\" xlink:href=\"#madc7404c4a\" y=\"180.150832\"/>\n     <use style=\"fill:#c44e52;fill-opacity:0.7;stroke:#c44e52;stroke-opacity:0.7;\" x=\"487.303522\" xlink:href=\"#madc7404c4a\" y=\"82.506851\"/>\n     <use style=\"fill:#c44e52;fill-opacity:0.7;stroke:#c44e52;stroke-opacity:0.7;\" x=\"345.049963\" xlink:href=\"#madc7404c4a\" y=\"230.526195\"/>\n     <use style=\"fill:#c44e52;fill-opacity:0.7;stroke:#c44e52;stroke-opacity:0.7;\" x=\"274.657775\" xlink:href=\"#madc7404c4a\" y=\"205.535294\"/>\n     <use style=\"fill:#c44e52;fill-opacity:0.7;stroke:#c44e52;stroke-opacity:0.7;\" x=\"437.025019\" xlink:href=\"#madc7404c4a\" y=\"114.242721\"/>\n     <use style=\"fill:#c44e52;fill-opacity:0.7;stroke:#c44e52;stroke-opacity:0.7;\" x=\"491.369008\" xlink:href=\"#madc7404c4a\" y=\"78.432651\"/>\n     <use style=\"fill:#c44e52;fill-opacity:0.7;stroke:#c44e52;stroke-opacity:0.7;\" x=\"329.160878\" xlink:href=\"#madc7404c4a\" y=\"171.561233\"/>\n     <use style=\"fill:#c44e52;fill-opacity:0.7;stroke:#c44e52;stroke-opacity:0.7;\" x=\"353.741584\" xlink:href=\"#madc7404c4a\" y=\"156.558782\"/>\n     <use style=\"fill:#c44e52;fill-opacity:0.7;stroke:#c44e52;stroke-opacity:0.7;\" x=\"330.96266\" xlink:href=\"#madc7404c4a\" y=\"218.855161\"/>\n     <use style=\"fill:#c44e52;fill-opacity:0.7;stroke:#c44e52;stroke-opacity:0.7;\" x=\"274.355629\" xlink:href=\"#madc7404c4a\" y=\"26587.855\"/>\n     <use style=\"fill:#c44e52;fill-opacity:0.7;stroke:#c44e52;stroke-opacity:0.7;\" x=\"302.998532\" xlink:href=\"#madc7404c4a\" y=\"26587.855\"/>\n     <use style=\"fill:#c44e52;fill-opacity:0.7;stroke:#c44e52;stroke-opacity:0.7;\" x=\"378.992241\" xlink:href=\"#madc7404c4a\" y=\"158.758048\"/>\n    </g>\n   </g>\n   <g id=\"PathCollection_2\">\n    <defs>\n     <path d=\"M 0 3 \nC 0.795609 3 1.55874 2.683901 2.12132 2.12132 \nC 2.683901 1.55874 3 0.795609 3 0 \nC 3 -0.795609 2.683901 -1.55874 2.12132 -2.12132 \nC 1.55874 -2.683901 0.795609 -3 0 -3 \nC -0.795609 -3 -1.55874 -2.683901 -2.12132 -2.12132 \nC -2.683901 -1.55874 -3 -0.795609 -3 0 \nC -3 0.795609 -2.683901 1.55874 -2.12132 2.12132 \nC -1.55874 2.683901 -0.795609 3 0 3 \nz\n\" id=\"mb4e2a9aea8\" style=\"stroke:#55a868;stroke-opacity:0.7;\"/>\n    </defs>\n    <g clip-path=\"url(#p07bba923fd)\">\n     <use style=\"fill:#55a868;fill-opacity:0.7;stroke:#55a868;stroke-opacity:0.7;\" x=\"395.550442\" xlink:href=\"#mb4e2a9aea8\" y=\"132.010529\"/>\n     <use style=\"fill:#55a868;fill-opacity:0.7;stroke:#55a868;stroke-opacity:0.7;\" x=\"347.533883\" xlink:href=\"#mb4e2a9aea8\" y=\"26587.855\"/>\n     <use style=\"fill:#55a868;fill-opacity:0.7;stroke:#55a868;stroke-opacity:0.7;\" x=\"348.096317\" xlink:href=\"#mb4e2a9aea8\" y=\"26587.855\"/>\n     <use style=\"fill:#55a868;fill-opacity:0.7;stroke:#55a868;stroke-opacity:0.7;\" x=\"396.469156\" xlink:href=\"#mb4e2a9aea8\" y=\"144.172155\"/>\n     <use style=\"fill:#55a868;fill-opacity:0.7;stroke:#55a868;stroke-opacity:0.7;\" x=\"431.364776\" xlink:href=\"#mb4e2a9aea8\" y=\"111.744028\"/>\n     <use style=\"fill:#55a868;fill-opacity:0.7;stroke:#55a868;stroke-opacity:0.7;\" x=\"393.311013\" xlink:href=\"#mb4e2a9aea8\" y=\"156.939854\"/>\n     <use style=\"fill:#55a868;fill-opacity:0.7;stroke:#55a868;stroke-opacity:0.7;\" x=\"367.281957\" xlink:href=\"#mb4e2a9aea8\" y=\"153.946097\"/>\n     <use style=\"fill:#55a868;fill-opacity:0.7;stroke:#55a868;stroke-opacity:0.7;\" x=\"417.103887\" xlink:href=\"#mb4e2a9aea8\" y=\"127.788315\"/>\n     <use style=\"fill:#55a868;fill-opacity:0.7;stroke:#55a868;stroke-opacity:0.7;\" x=\"477.0094\" xlink:href=\"#mb4e2a9aea8\" y=\"89.281694\"/>\n     <use style=\"fill:#55a868;fill-opacity:0.7;stroke:#55a868;stroke-opacity:0.7;\" x=\"419.229081\" xlink:href=\"#mb4e2a9aea8\" y=\"140.832249\"/>\n     <use style=\"fill:#55a868;fill-opacity:0.7;stroke:#55a868;stroke-opacity:0.7;\" x=\"497.504889\" xlink:href=\"#mb4e2a9aea8\" y=\"74.55486\"/>\n     <use style=\"fill:#55a868;fill-opacity:0.7;stroke:#55a868;stroke-opacity:0.7;\" x=\"380.683634\" xlink:href=\"#mb4e2a9aea8\" y=\"26587.855\"/>\n     <use style=\"fill:#55a868;fill-opacity:0.7;stroke:#55a868;stroke-opacity:0.7;\" x=\"351.414074\" xlink:href=\"#mb4e2a9aea8\" y=\"26587.855\"/>\n     <use style=\"fill:#55a868;fill-opacity:0.7;stroke:#55a868;stroke-opacity:0.7;\" x=\"448.384055\" xlink:href=\"#mb4e2a9aea8\" y=\"104.483763\"/>\n     <use style=\"fill:#55a868;fill-opacity:0.7;stroke:#55a868;stroke-opacity:0.7;\" x=\"478.473459\" xlink:href=\"#mb4e2a9aea8\" y=\"88.000096\"/>\n     <use style=\"fill:#55a868;fill-opacity:0.7;stroke:#55a868;stroke-opacity:0.7;\" x=\"411.360887\" xlink:href=\"#mb4e2a9aea8\" y=\"26587.855\"/>\n     <use style=\"fill:#55a868;fill-opacity:0.7;stroke:#55a868;stroke-opacity:0.7;\" x=\"370.706917\" xlink:href=\"#mb4e2a9aea8\" y=\"26587.855\"/>\n     <use style=\"fill:#55a868;fill-opacity:0.7;stroke:#55a868;stroke-opacity:0.7;\" x=\"410.354219\" xlink:href=\"#mb4e2a9aea8\" y=\"127.342703\"/>\n     <use style=\"fill:#55a868;fill-opacity:0.7;stroke:#55a868;stroke-opacity:0.7;\" x=\"321.793416\" xlink:href=\"#mb4e2a9aea8\" y=\"26587.855\"/>\n     <use style=\"fill:#55a868;fill-opacity:0.7;stroke:#55a868;stroke-opacity:0.7;\" x=\"292.371472\" xlink:href=\"#mb4e2a9aea8\" y=\"26587.855\"/>\n     <use style=\"fill:#55a868;fill-opacity:0.7;stroke:#55a868;stroke-opacity:0.7;\" x=\"361.051813\" xlink:href=\"#mb4e2a9aea8\" y=\"156.400649\"/>\n     <use style=\"fill:#55a868;fill-opacity:0.7;stroke:#55a868;stroke-opacity:0.7;\" x=\"495.195388\" xlink:href=\"#mb4e2a9aea8\" y=\"76.91644\"/>\n     <use style=\"fill:#55a868;fill-opacity:0.7;stroke:#55a868;stroke-opacity:0.7;\" x=\"354.774252\" xlink:href=\"#mb4e2a9aea8\" y=\"159.979234\"/>\n     <use style=\"fill:#55a868;fill-opacity:0.7;stroke:#55a868;stroke-opacity:0.7;\" x=\"393.311013\" xlink:href=\"#mb4e2a9aea8\" y=\"137.733573\"/>\n     <use style=\"fill:#55a868;fill-opacity:0.7;stroke:#55a868;stroke-opacity:0.7;\" x=\"418.507364\" xlink:href=\"#mb4e2a9aea8\" y=\"117.274748\"/>\n     <use style=\"fill:#55a868;fill-opacity:0.7;stroke:#55a868;stroke-opacity:0.7;\" x=\"407.469151\" xlink:href=\"#mb4e2a9aea8\" y=\"130.667563\"/>\n     <use style=\"fill:#55a868;fill-opacity:0.7;stroke:#55a868;stroke-opacity:0.7;\" x=\"475.150673\" xlink:href=\"#mb4e2a9aea8\" y=\"89.329237\"/>\n     <use style=\"fill:#55a868;fill-opacity:0.7;stroke:#55a868;stroke-opacity:0.7;\" x=\"314.706732\" xlink:href=\"#mb4e2a9aea8\" y=\"181.498334\"/>\n     <use style=\"fill:#55a868;fill-opacity:0.7;stroke:#55a868;stroke-opacity:0.7;\" x=\"285.606887\" xlink:href=\"#mb4e2a9aea8\" y=\"26587.855\"/>\n     <use style=\"fill:#55a868;fill-opacity:0.7;stroke:#55a868;stroke-opacity:0.7;\" x=\"305.989448\" xlink:href=\"#mb4e2a9aea8\" y=\"26587.855\"/>\n     <use style=\"fill:#55a868;fill-opacity:0.7;stroke:#55a868;stroke-opacity:0.7;\" x=\"348.80726\" xlink:href=\"#mb4e2a9aea8\" y=\"165.564171\"/>\n     <use style=\"fill:#55a868;fill-opacity:0.7;stroke:#55a868;stroke-opacity:0.7;\" x=\"437.905188\" xlink:href=\"#mb4e2a9aea8\" y=\"106.881609\"/>\n     <use style=\"fill:#55a868;fill-opacity:0.7;stroke:#55a868;stroke-opacity:0.7;\" x=\"432.469487\" xlink:href=\"#mb4e2a9aea8\" y=\"110.060242\"/>\n     <use style=\"fill:#55a868;fill-opacity:0.7;stroke:#55a868;stroke-opacity:0.7;\" x=\"399.623046\" xlink:href=\"#mb4e2a9aea8\" y=\"149.3092\"/>\n     <use style=\"fill:#55a868;fill-opacity:0.7;stroke:#55a868;stroke-opacity:0.7;\" x=\"263.651319\" xlink:href=\"#mb4e2a9aea8\" y=\"209.770136\"/>\n     <use style=\"fill:#55a868;fill-opacity:0.7;stroke:#55a868;stroke-opacity:0.7;\" x=\"393.311013\" xlink:href=\"#mb4e2a9aea8\" y=\"137.733573\"/>\n     <use style=\"fill:#55a868;fill-opacity:0.7;stroke:#55a868;stroke-opacity:0.7;\" x=\"286.005238\" xlink:href=\"#mb4e2a9aea8\" y=\"204.378898\"/>\n     <use style=\"fill:#55a868;fill-opacity:0.7;stroke:#55a868;stroke-opacity:0.7;\" x=\"393.311013\" xlink:href=\"#mb4e2a9aea8\" y=\"137.733573\"/>\n     <use style=\"fill:#55a868;fill-opacity:0.7;stroke:#55a868;stroke-opacity:0.7;\" x=\"405.425291\" xlink:href=\"#mb4e2a9aea8\" y=\"127.40286\"/>\n     <use style=\"fill:#55a868;fill-opacity:0.7;stroke:#55a868;stroke-opacity:0.7;\" x=\"416.873591\" xlink:href=\"#mb4e2a9aea8\" y=\"120.11884\"/>\n     <use style=\"fill:#55a868;fill-opacity:0.7;stroke:#55a868;stroke-opacity:0.7;\" x=\"310.277533\" xlink:href=\"#mb4e2a9aea8\" y=\"182.182102\"/>\n     <use style=\"fill:#55a868;fill-opacity:0.7;stroke:#55a868;stroke-opacity:0.7;\" x=\"393.311013\" xlink:href=\"#mb4e2a9aea8\" y=\"135.49936\"/>\n     <use style=\"fill:#55a868;fill-opacity:0.7;stroke:#55a868;stroke-opacity:0.7;\" x=\"266.079424\" xlink:href=\"#mb4e2a9aea8\" y=\"218.67244\"/>\n     <use style=\"fill:#55a868;fill-opacity:0.7;stroke:#55a868;stroke-opacity:0.7;\" x=\"410.779312\" xlink:href=\"#mb4e2a9aea8\" y=\"131.331762\"/>\n     <use style=\"fill:#55a868;fill-opacity:0.7;stroke:#55a868;stroke-opacity:0.7;\" x=\"221.889125\" xlink:href=\"#mb4e2a9aea8\" y=\"244.429225\"/>\n     <use style=\"fill:#55a868;fill-opacity:0.7;stroke:#55a868;stroke-opacity:0.7;\" x=\"486.02534\" xlink:href=\"#mb4e2a9aea8\" y=\"83.431394\"/>\n     <use style=\"fill:#55a868;fill-opacity:0.7;stroke:#55a868;stroke-opacity:0.7;\" x=\"472.810002\" xlink:href=\"#mb4e2a9aea8\" y=\"87.210399\"/>\n     <use style=\"fill:#55a868;fill-opacity:0.7;stroke:#55a868;stroke-opacity:0.7;\" x=\"427.775867\" xlink:href=\"#mb4e2a9aea8\" y=\"115.277768\"/>\n     <use style=\"fill:#55a868;fill-opacity:0.7;stroke:#55a868;stroke-opacity:0.7;\" x=\"294.149313\" xlink:href=\"#mb4e2a9aea8\" y=\"230.384164\"/>\n     <use style=\"fill:#55a868;fill-opacity:0.7;stroke:#55a868;stroke-opacity:0.7;\" x=\"393.311013\" xlink:href=\"#mb4e2a9aea8\" y=\"131.559523\"/>\n     <use style=\"fill:#55a868;fill-opacity:0.7;stroke:#55a868;stroke-opacity:0.7;\" x=\"346.242361\" xlink:href=\"#mb4e2a9aea8\" y=\"162.409397\"/>\n     <use style=\"fill:#55a868;fill-opacity:0.7;stroke:#55a868;stroke-opacity:0.7;\" x=\"393.311013\" xlink:href=\"#mb4e2a9aea8\" y=\"137.733573\"/>\n     <use style=\"fill:#55a868;fill-opacity:0.7;stroke:#55a868;stroke-opacity:0.7;\" x=\"387.007951\" xlink:href=\"#mb4e2a9aea8\" y=\"141.860318\"/>\n     <use style=\"fill:#55a868;fill-opacity:0.7;stroke:#55a868;stroke-opacity:0.7;\" x=\"454.158255\" xlink:href=\"#mb4e2a9aea8\" y=\"104.207826\"/>\n     <use style=\"fill:#55a868;fill-opacity:0.7;stroke:#55a868;stroke-opacity:0.7;\" x=\"414.648243\" xlink:href=\"#mb4e2a9aea8\" y=\"121.068566\"/>\n     <use style=\"fill:#55a868;fill-opacity:0.7;stroke:#55a868;stroke-opacity:0.7;\" x=\"370.180603\" xlink:href=\"#mb4e2a9aea8\" y=\"26587.855\"/>\n     <use style=\"fill:#55a868;fill-opacity:0.7;stroke:#55a868;stroke-opacity:0.7;\" x=\"327.325252\" xlink:href=\"#mb4e2a9aea8\" y=\"26587.855\"/>\n     <use style=\"fill:#55a868;fill-opacity:0.7;stroke:#55a868;stroke-opacity:0.7;\" x=\"342.903988\" xlink:href=\"#mb4e2a9aea8\" y=\"179.727997\"/>\n     <use style=\"fill:#55a868;fill-opacity:0.7;stroke:#55a868;stroke-opacity:0.7;\" x=\"458.499479\" xlink:href=\"#mb4e2a9aea8\" y=\"103.508918\"/>\n     <use style=\"fill:#55a868;fill-opacity:0.7;stroke:#55a868;stroke-opacity:0.7;\" x=\"367.841592\" xlink:href=\"#mb4e2a9aea8\" y=\"215.634006\"/>\n     <use style=\"fill:#55a868;fill-opacity:0.7;stroke:#55a868;stroke-opacity:0.7;\" x=\"394.538119\" xlink:href=\"#mb4e2a9aea8\" y=\"140.186027\"/>\n     <use style=\"fill:#55a868;fill-opacity:0.7;stroke:#55a868;stroke-opacity:0.7;\" x=\"434.03203\" xlink:href=\"#mb4e2a9aea8\" y=\"112.512359\"/>\n    </g>\n   </g>\n   <g id=\"patch_3\">\n    <path d=\"M 38.26 339.031875 \nL 38.26 12.871875 \n\" style=\"fill:none;stroke:#ffffff;stroke-linecap:square;stroke-linejoin:miter;stroke-width:1.25;\"/>\n   </g>\n   <g id=\"patch_4\">\n    <path d=\"M 596.26 339.031875 \nL 596.26 12.871875 \n\" style=\"fill:none;stroke:#ffffff;stroke-linecap:square;stroke-linejoin:miter;stroke-width:1.25;\"/>\n   </g>\n   <g id=\"patch_5\">\n    <path d=\"M 38.26 339.031875 \nL 596.26 339.031875 \n\" style=\"fill:none;stroke:#ffffff;stroke-linecap:square;stroke-linejoin:miter;stroke-width:1.25;\"/>\n   </g>\n   <g id=\"patch_6\">\n    <path d=\"M 38.26 12.871875 \nL 596.26 12.871875 \n\" style=\"fill:none;stroke:#ffffff;stroke-linecap:square;stroke-linejoin:miter;stroke-width:1.25;\"/>\n   </g>\n   <g id=\"legend_1\">\n    <g id=\"patch_7\">\n     <path d=\"M 45.96 53.049375 \nL 146.775 53.049375 \nQ 148.975 53.049375 148.975 50.849375 \nL 148.975 20.571875 \nQ 148.975 18.371875 146.775 18.371875 \nL 45.96 18.371875 \nQ 43.76 18.371875 43.76 20.571875 \nL 43.76 50.849375 \nQ 43.76 53.049375 45.96 53.049375 \nz\n\" style=\"fill:#eaeaf2;opacity:0.8;stroke:#cccccc;stroke-linejoin:miter;\"/>\n    </g>\n    <g id=\"PathCollection_3\">\n     <g>\n      <use style=\"fill:#c44e52;fill-opacity:0.7;stroke:#c44e52;stroke-opacity:0.7;\" x=\"59.16\" xlink:href=\"#madc7404c4a\" y=\"27.757969\"/>\n     </g>\n    </g>\n    <g id=\"text_12\">\n     <!-- Training Data -->\n     <defs>\n      <path d=\"M 25.921875 0 \nL 25.921875 63.140625 \nL 2.34375 63.140625 \nL 2.34375 71.578125 \nL 59.078125 71.578125 \nL 59.078125 63.140625 \nL 35.40625 63.140625 \nL 35.40625 0 \nz\n\" id=\"ArialMT-84\"/>\n      <path d=\"M 6.5 0 \nL 6.5 51.859375 \nL 14.40625 51.859375 \nL 14.40625 44 \nQ 17.4375 49.515625 20 51.265625 \nQ 22.5625 53.03125 25.640625 53.03125 \nQ 30.078125 53.03125 34.671875 50.203125 \nL 31.640625 42.046875 \nQ 28.421875 43.953125 25.203125 43.953125 \nQ 22.3125 43.953125 20.015625 42.21875 \nQ 17.71875 40.484375 16.75 37.40625 \nQ 15.28125 32.71875 15.28125 27.15625 \nL 15.28125 0 \nz\n\" id=\"ArialMT-114\"/>\n      <path d=\"M 40.4375 6.390625 \nQ 35.546875 2.25 31.03125 0.53125 \nQ 26.515625 -1.171875 21.34375 -1.171875 \nQ 12.796875 -1.171875 8.203125 3 \nQ 3.609375 7.171875 3.609375 13.671875 \nQ 3.609375 17.484375 5.34375 20.625 \nQ 7.078125 23.78125 9.890625 25.6875 \nQ 12.703125 27.59375 16.21875 28.5625 \nQ 18.796875 29.25 24.03125 29.890625 \nQ 34.671875 31.15625 39.703125 32.90625 \nQ 39.75 34.71875 39.75 35.203125 \nQ 39.75 40.578125 37.25 42.78125 \nQ 33.890625 45.75 27.25 45.75 \nQ 21.046875 45.75 18.09375 43.578125 \nQ 15.140625 41.40625 13.71875 35.890625 \nL 5.125 37.0625 \nQ 6.296875 42.578125 8.984375 45.96875 \nQ 11.671875 49.359375 16.75 51.1875 \nQ 21.828125 53.03125 28.515625 53.03125 \nQ 35.15625 53.03125 39.296875 51.46875 \nQ 43.453125 49.90625 45.40625 47.53125 \nQ 47.359375 45.171875 48.140625 41.546875 \nQ 48.578125 39.3125 48.578125 33.453125 \nL 48.578125 21.734375 \nQ 48.578125 9.46875 49.140625 6.21875 \nQ 49.703125 2.984375 51.375 0 \nL 42.1875 0 \nQ 40.828125 2.734375 40.4375 6.390625 \nz\nM 39.703125 26.03125 \nQ 34.90625 24.078125 25.34375 22.703125 \nQ 19.921875 21.921875 17.671875 20.9375 \nQ 15.4375 19.96875 14.203125 18.09375 \nQ 12.984375 16.21875 12.984375 13.921875 \nQ 12.984375 10.40625 15.640625 8.0625 \nQ 18.3125 5.71875 23.4375 5.71875 \nQ 28.515625 5.71875 32.46875 7.9375 \nQ 36.421875 10.15625 38.28125 14.015625 \nQ 39.703125 17 39.703125 22.796875 \nz\n\" id=\"ArialMT-97\"/>\n      <path d=\"M 6.640625 61.46875 \nL 6.640625 71.578125 \nL 15.4375 71.578125 \nL 15.4375 61.46875 \nz\nM 6.640625 0 \nL 6.640625 51.859375 \nL 15.4375 51.859375 \nL 15.4375 0 \nz\n\" id=\"ArialMT-105\"/>\n      <path d=\"M 6.59375 0 \nL 6.59375 51.859375 \nL 14.5 51.859375 \nL 14.5 44.484375 \nQ 20.21875 53.03125 31 53.03125 \nQ 35.6875 53.03125 39.625 51.34375 \nQ 43.5625 49.65625 45.515625 46.921875 \nQ 47.46875 44.1875 48.25 40.4375 \nQ 48.734375 37.984375 48.734375 31.890625 \nL 48.734375 0 \nL 39.9375 0 \nL 39.9375 31.546875 \nQ 39.9375 36.921875 38.90625 39.578125 \nQ 37.890625 42.234375 35.28125 43.8125 \nQ 32.671875 45.40625 29.15625 45.40625 \nQ 23.53125 45.40625 19.453125 41.84375 \nQ 15.375 38.28125 15.375 28.328125 \nL 15.375 0 \nz\n\" id=\"ArialMT-110\"/>\n      <path d=\"M 4.984375 -4.296875 \nL 13.53125 -5.5625 \nQ 14.0625 -9.515625 16.5 -11.328125 \nQ 19.78125 -13.765625 25.4375 -13.765625 \nQ 31.546875 -13.765625 34.859375 -11.328125 \nQ 38.1875 -8.890625 39.359375 -4.5 \nQ 40.046875 -1.8125 39.984375 6.78125 \nQ 34.234375 0 25.640625 0 \nQ 14.9375 0 9.078125 7.71875 \nQ 3.21875 15.4375 3.21875 26.21875 \nQ 3.21875 33.640625 5.90625 39.90625 \nQ 8.59375 46.1875 13.6875 49.609375 \nQ 18.796875 53.03125 25.6875 53.03125 \nQ 34.859375 53.03125 40.828125 45.609375 \nL 40.828125 51.859375 \nL 48.921875 51.859375 \nL 48.921875 7.03125 \nQ 48.921875 -5.078125 46.453125 -10.125 \nQ 44 -15.1875 38.640625 -18.109375 \nQ 33.296875 -21.046875 25.484375 -21.046875 \nQ 16.21875 -21.046875 10.5 -16.875 \nQ 4.78125 -12.703125 4.984375 -4.296875 \nz\nM 12.25 26.859375 \nQ 12.25 16.65625 16.296875 11.96875 \nQ 20.359375 7.28125 26.46875 7.28125 \nQ 32.515625 7.28125 36.609375 11.9375 \nQ 40.71875 16.609375 40.71875 26.5625 \nQ 40.71875 36.078125 36.5 40.90625 \nQ 32.28125 45.75 26.3125 45.75 \nQ 20.453125 45.75 16.34375 40.984375 \nQ 12.25 36.234375 12.25 26.859375 \nz\n\" id=\"ArialMT-103\"/>\n      <path id=\"ArialMT-32\"/>\n      <path d=\"M 7.71875 0 \nL 7.71875 71.578125 \nL 32.375 71.578125 \nQ 40.71875 71.578125 45.125 70.5625 \nQ 51.265625 69.140625 55.609375 65.4375 \nQ 61.28125 60.640625 64.078125 53.1875 \nQ 66.890625 45.75 66.890625 36.1875 \nQ 66.890625 28.03125 64.984375 21.734375 \nQ 63.09375 15.4375 60.109375 11.296875 \nQ 57.125 7.171875 53.578125 4.796875 \nQ 50.046875 2.4375 45.046875 1.21875 \nQ 40.046875 0 33.546875 0 \nz\nM 17.1875 8.453125 \nL 32.46875 8.453125 \nQ 39.546875 8.453125 43.578125 9.765625 \nQ 47.609375 11.078125 50 13.484375 \nQ 53.375 16.84375 55.25 22.53125 \nQ 57.125 28.21875 57.125 36.328125 \nQ 57.125 47.5625 53.4375 53.59375 \nQ 49.75 59.625 44.484375 61.671875 \nQ 40.671875 63.140625 32.234375 63.140625 \nL 17.1875 63.140625 \nz\n\" id=\"ArialMT-68\"/>\n      <path d=\"M 25.78125 7.859375 \nL 27.046875 0.09375 \nQ 23.34375 -0.6875 20.40625 -0.6875 \nQ 15.625 -0.6875 12.984375 0.828125 \nQ 10.359375 2.34375 9.28125 4.8125 \nQ 8.203125 7.28125 8.203125 15.1875 \nL 8.203125 45.015625 \nL 1.765625 45.015625 \nL 1.765625 51.859375 \nL 8.203125 51.859375 \nL 8.203125 64.703125 \nL 16.9375 69.96875 \nL 16.9375 51.859375 \nL 25.78125 51.859375 \nL 25.78125 45.015625 \nL 16.9375 45.015625 \nL 16.9375 14.703125 \nQ 16.9375 10.9375 17.40625 9.859375 \nQ 17.875 8.796875 18.921875 8.15625 \nQ 19.96875 7.515625 21.921875 7.515625 \nQ 23.390625 7.515625 25.78125 7.859375 \nz\n\" id=\"ArialMT-116\"/>\n     </defs>\n     <g style=\"fill:#262626;\" transform=\"translate(78.96 30.645469)scale(0.11 -0.11)\">\n      <use xlink:href=\"#ArialMT-84\"/>\n      <use x=\"57.333984\" xlink:href=\"#ArialMT-114\"/>\n      <use x=\"90.634766\" xlink:href=\"#ArialMT-97\"/>\n      <use x=\"146.25\" xlink:href=\"#ArialMT-105\"/>\n      <use x=\"168.466797\" xlink:href=\"#ArialMT-110\"/>\n      <use x=\"224.082031\" xlink:href=\"#ArialMT-105\"/>\n      <use x=\"246.298828\" xlink:href=\"#ArialMT-110\"/>\n      <use x=\"301.914062\" xlink:href=\"#ArialMT-103\"/>\n      <use x=\"357.529297\" xlink:href=\"#ArialMT-32\"/>\n      <use x=\"385.3125\" xlink:href=\"#ArialMT-68\"/>\n      <use x=\"457.529297\" xlink:href=\"#ArialMT-97\"/>\n      <use x=\"513.144531\" xlink:href=\"#ArialMT-116\"/>\n      <use x=\"540.927734\" xlink:href=\"#ArialMT-97\"/>\n     </g>\n    </g>\n    <g id=\"PathCollection_4\">\n     <g>\n      <use style=\"fill:#55a868;fill-opacity:0.7;stroke:#55a868;stroke-opacity:0.7;\" x=\"59.16\" xlink:href=\"#mb4e2a9aea8\" y=\"43.446719\"/>\n     </g>\n    </g>\n    <g id=\"text_13\">\n     <!-- Testing Data -->\n     <defs>\n      <path d=\"M 42.09375 16.703125 \nL 51.171875 15.578125 \nQ 49.03125 7.625 43.21875 3.21875 \nQ 37.40625 -1.171875 28.375 -1.171875 \nQ 17 -1.171875 10.328125 5.828125 \nQ 3.65625 12.84375 3.65625 25.484375 \nQ 3.65625 38.578125 10.390625 45.796875 \nQ 17.140625 53.03125 27.875 53.03125 \nQ 38.28125 53.03125 44.875 45.953125 \nQ 51.46875 38.875 51.46875 26.03125 \nQ 51.46875 25.25 51.421875 23.6875 \nL 12.75 23.6875 \nQ 13.234375 15.140625 17.578125 10.59375 \nQ 21.921875 6.0625 28.421875 6.0625 \nQ 33.25 6.0625 36.671875 8.59375 \nQ 40.09375 11.140625 42.09375 16.703125 \nz\nM 13.234375 30.90625 \nL 42.1875 30.90625 \nQ 41.609375 37.453125 38.875 40.71875 \nQ 34.671875 45.796875 27.984375 45.796875 \nQ 21.921875 45.796875 17.796875 41.75 \nQ 13.671875 37.703125 13.234375 30.90625 \nz\n\" id=\"ArialMT-101\"/>\n      <path d=\"M 3.078125 15.484375 \nL 11.765625 16.84375 \nQ 12.5 11.625 15.84375 8.84375 \nQ 19.1875 6.0625 25.203125 6.0625 \nQ 31.25 6.0625 34.171875 8.515625 \nQ 37.109375 10.984375 37.109375 14.3125 \nQ 37.109375 17.28125 34.515625 19 \nQ 32.71875 20.171875 25.53125 21.96875 \nQ 15.875 24.421875 12.140625 26.203125 \nQ 8.40625 27.984375 6.46875 31.125 \nQ 4.546875 34.28125 4.546875 38.09375 \nQ 4.546875 41.546875 6.125 44.5 \nQ 7.71875 47.46875 10.453125 49.421875 \nQ 12.5 50.921875 16.03125 51.96875 \nQ 19.578125 53.03125 23.640625 53.03125 \nQ 29.734375 53.03125 34.34375 51.265625 \nQ 38.96875 49.515625 41.15625 46.5 \nQ 43.359375 43.5 44.1875 38.484375 \nL 35.59375 37.3125 \nQ 35.015625 41.3125 32.203125 43.546875 \nQ 29.390625 45.796875 24.265625 45.796875 \nQ 18.21875 45.796875 15.625 43.796875 \nQ 13.03125 41.796875 13.03125 39.109375 \nQ 13.03125 37.40625 14.109375 36.03125 \nQ 15.1875 34.625 17.484375 33.6875 \nQ 18.796875 33.203125 25.25 31.453125 \nQ 34.578125 28.953125 38.25 27.359375 \nQ 41.9375 25.78125 44.03125 22.75 \nQ 46.140625 19.734375 46.140625 15.234375 \nQ 46.140625 10.84375 43.578125 6.953125 \nQ 41.015625 3.078125 36.171875 0.953125 \nQ 31.34375 -1.171875 25.25 -1.171875 \nQ 15.140625 -1.171875 9.84375 3.03125 \nQ 4.546875 7.234375 3.078125 15.484375 \nz\n\" id=\"ArialMT-115\"/>\n     </defs>\n     <g style=\"fill:#262626;\" transform=\"translate(78.96 46.334219)scale(0.11 -0.11)\">\n      <use xlink:href=\"#ArialMT-84\"/>\n      <use x=\"49.958984\" xlink:href=\"#ArialMT-101\"/>\n      <use x=\"105.574219\" xlink:href=\"#ArialMT-115\"/>\n      <use x=\"155.574219\" xlink:href=\"#ArialMT-116\"/>\n      <use x=\"183.357422\" xlink:href=\"#ArialMT-105\"/>\n      <use x=\"205.574219\" xlink:href=\"#ArialMT-110\"/>\n      <use x=\"261.189453\" xlink:href=\"#ArialMT-103\"/>\n      <use x=\"316.804688\" xlink:href=\"#ArialMT-32\"/>\n      <use x=\"344.587891\" xlink:href=\"#ArialMT-68\"/>\n      <use x=\"416.804688\" xlink:href=\"#ArialMT-97\"/>\n      <use x=\"472.419922\" xlink:href=\"#ArialMT-116\"/>\n      <use x=\"500.203125\" xlink:href=\"#ArialMT-97\"/>\n     </g>\n    </g>\n   </g>\n  </g>\n </g>\n <defs>\n  <clipPath id=\"p07bba923fd\">\n   <rect height=\"326.16\" width=\"558\" x=\"38.26\" y=\"12.871875\"/>\n  </clipPath>\n </defs>\n</svg>\n",
      "image/png": "[encoded data removed]"
     },
     "metadata": {}
    }
   ],
   "source": [
    "plt.xscale('log')\n",
    "plt.yscale('log')\n",
    "plt.xlim(100000,10000000000)\n",
    "plt.xticks([1e6, 1e7, 1e8, 1e9, 1e10])\n",
    "plt.ylim(100000,10000000000)\n",
    "plt.yticks([1e5,1e6, 1e7, 1e8, 1e9, 1e10])\n",
    "# ax = sns.scatterplot(x=base['Revenue'], y=base['Profit'])  \n",
    "\n",
    "# It's necesary to split the data into train and test. First the model is train using a speciffic part of data and after the model will be testing in the remain data\n",
    "\n",
    "#If the size of samples was not specify, the default size is 25% of the data however the best size is 80:20\n",
    "\n",
    "\n",
    "X_train, X_test, y_train, y_test = train_test_split(base.Revenue, base.Profit, train_size = 0.8, test_size = 0.2)\n",
    "\n",
    "# Ploting the train and test data\n",
    "\n",
    "plt.scatter(X_train,y_train, label = \"Training Data\", color = \"r\", alpha= .7)\n",
    "plt.scatter(X_test,y_test, label = \"Testing Data\", color = \"g\", alpha= .7)\n",
    "plt.legend()\n",
    "\n",
    "\n",
    "# regressor = LinearRegression()\n",
    "# lr.fit(X_train.values.reshape(-1,1), y_train.values)\n",
    "\n",
    "# prediction = lr.predict(X_test.values.reshape(-1,1))\n",
    "# plt.plot(X_test,prediction,label = \"Linear Regression\", color = \"b\")\n",
    "# plt.scatter(X_test,y_test, label = \"Actual Test Data\", color = \"g\", alpha=.7)\n",
    "# plt.legend()\n",
    "\n",
    "\n",
    "# sns.distplot(base['Profit'])\n",
    "\n",
    "# corre = np.corrcoef(base[\"Profit\"],base[\"Revenue\"])"
   ]
  },
  {
   "cell_type": "markdown",
   "metadata": {},
   "source": [
    "# Scatterplot Revenue x Profit"
   ]
  },
  {
   "cell_type": "code",
   "execution_count": null,
   "metadata": {},
   "outputs": [],
   "source": [
    "plt.xscale('log')\n",
    "plt.yscale('log')\n",
    "plt.xlim(100000,10000000000)\n",
    "plt.xticks([1e6, 1e7, 1e8, 1e9, 1e10])\n",
    "plt.ylim(100000,10000000000)\n",
    "plt.yticks([1e5,1e6, 1e7, 1e8, 1e9, 1e10])\n",
    "\n",
    "\n",
    "\n",
    "ax = sns.scatterplot(x=base['Revenue'], y=base['Profit'])"
   ]
  },
  {
   "cell_type": "markdown",
   "metadata": {},
   "source": [
    "This is a little mess because of 2 movies with higher revenue and profit. Let's find out which movies are they"
   ]
  },
  {
   "cell_type": "code",
   "execution_count": null,
   "metadata": {},
   "outputs": [],
   "source": [
    "base.sort_values(\"Profit\", ascending= False).head(10)"
   ]
  },
  {
   "cell_type": "code",
   "execution_count": null,
   "metadata": {},
   "outputs": [],
   "source": [
    "base.describe()"
   ]
  },
  {
   "cell_type": "code",
   "execution_count": null,
   "metadata": {},
   "outputs": [],
   "source": [
    "base.sort_values(\"Budget\",ascending = False).head(10)\n",
    "base.sort_values(\"Revenue\",ascending = False).head(10)"
   ]
  },
  {
   "cell_type": "markdown",
   "metadata": {},
   "source": [
    "* Ver se esse gráfico abaixo vai ser interessante e se sim, inverter a ordem dos filmes"
   ]
  },
  {
   "cell_type": "code",
   "execution_count": null,
   "metadata": {},
   "outputs": [],
   "source": [
    "plt.xscale('log')\n",
    "plt.xlim(10000,10000000000)\n",
    "plt.xticks([1e5,1e6, 1e7, 1e8, 1e9, 1e10])\n",
    "sns.set_style(\"white\")\n",
    "\n",
    "budget = base.sort_values(\"Budget\", ascending = False).iloc[0:20]\n",
    "\n",
    "\n",
    "lollipop = plt.hlines(budget[\"Movie\"], \n",
    "          xmin=base[\"Budget\"], \n",
    "          xmax=base['Revenue'],\n",
    "          color = \"navy\",\n",
    "          )"
   ]
  },
  {
   "cell_type": "code",
   "execution_count": null,
   "metadata": {},
   "outputs": [],
   "source": [
    "base.sort_values(\"Budget\", ascending= False).head(20)"
   ]
  },
  {
   "cell_type": "markdown",
   "metadata": {},
   "source": [
    "# Relation between Year and Revenue\n",
    "\n",
    "* Melhorar o hue (eixo)"
   ]
  },
  {
   "cell_type": "code",
   "execution_count": null,
   "metadata": {
    "tags": []
   },
   "outputs": [],
   "source": [
    "plt.yscale(\"log\")\n",
    "sns.set_context(\"notebook\", font_scale=1.2)\n",
    "sns.set(rc = {\"figure.figsize\":(12,8)})\n",
    "\n",
    "\n",
    "# sns.scatterplot(data = base, \n",
    "#                 x = \"Year\", \n",
    "#                 y = \"Budget\",\n",
    "#                 alpha=.6,\n",
    "#                 color = \"darkviolet\",\n",
    "#                 s = 150,\n",
    "#                 marker = \"X\")\n",
    "\n",
    "sns.scatterplot(data = base, \n",
    "                x = \"Year\", \n",
    "                y = \"Revenue\",\n",
    "                alpha=1,\n",
    "                color = \"navy\",\n",
    "                s = 150,\n",
    "                hue = \"Rating\"\n",
    "                )\n",
    "\n",
    "\n",
    "plt.ylim(100000,10000000000)\n",
    "plt.yticks([1e6, 1e7, 1e8, 1e9, 1e10])\n",
    "plt.xlim(1940,2020, 10)\n"
   ]
  },
  {
   "cell_type": "code",
   "execution_count": null,
   "metadata": {},
   "outputs": [],
   "source": [
    "#mask = np.triu(base.corr())\n",
    "values = base[[\"Year\", \"Rating\",\"Runtime\", \"Vote Average\", \"Vote Count\", \"Budget\", \"Revenue\", \"Profit\"]]\n",
    "sns.set(rc={'figure.figsize':(10,6)})\n",
    "\n",
    "#creating the colormap\n",
    "cmap = sns.diverging_palette(0, 230, 90, 60, as_cmap=True)\n",
    "\n",
    "\n",
    "sns.heatmap(values.corr(), \n",
    "            annot = True, \n",
    "            vmin=-1, vmax=1, center= 0, \n",
    "            cmap= cmap,\n",
    "            cbar_kws = {\"ticks\":[-1, -.5,0,.5,1]}\n",
    "            )\n",
    "            \n",
    "plt.xticks(rotation = 45, ha = \"center\")\n",
    "\n",
    "\n",
    "plt.savefig(\"Graphs/Correlation Heatmap\")"
   ]
  },
  {
   "cell_type": "code",
   "execution_count": null,
   "metadata": {},
   "outputs": [],
   "source": []
  }
 ],
 "metadata": {
  "language_info": {
   "codemirror_mode": {
    "name": "ipython",
    "version": 3
   },
   "file_extension": ".py",
   "mimetype": "text/x-python",
   "name": "python",
   "nbconvert_exporter": "python",
   "pygments_lexer": "ipython3",
   "version": 3
  },
  "orig_nbformat": 2,
  "kernelspec": {
   "name": "python_defaultSpec_1595393533684",
   "display_name": "Python 3.7.3 64-bit"
  }
 },
 "nbformat": 4,
 "nbformat_minor": 2
}