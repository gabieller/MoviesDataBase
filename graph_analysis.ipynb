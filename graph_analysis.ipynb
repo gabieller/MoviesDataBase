{
 "cells": [
  {
   "cell_type": "code",
   "execution_count": null,
   "metadata": {},
   "outputs": [],
   "source": [
    "import pandas as pd \n",
    "import numpy as np \n",
    "import seaborn as sns\n",
    "import matplotlib.pyplot as plt\n",
    "import os\n",
    "import shutil  \n",
    "\n",
    "sns.set_style(\"whitegrid\")"
   ]
  },
  {
   "cell_type": "code",
   "execution_count": null,
   "metadata": {},
   "outputs": [],
   "source": [
    "base = pd.read_csv(\"Movies_new.csv\")"
   ]
  },
  {
   "cell_type": "markdown",
   "metadata": {},
   "source": [
    "# Understanding the dataset"
   ]
  },
  {
   "cell_type": "code",
   "execution_count": null,
   "metadata": {},
   "outputs": [],
   "source": [
    "base.dtypes"
   ]
  },
  {
   "cell_type": "markdown",
   "metadata": {},
   "source": [
    "Describe function show that the Budget and Revenue columns has 0 as a min values, however, the info() function showed that there isnt any NaN value"
   ]
  },
  {
   "cell_type": "code",
   "execution_count": null,
   "metadata": {
    "tags": []
   },
   "outputs": [],
   "source": [
    "base.describe()\n",
    "base.info()\n",
    "base.count()\n",
    "base.isnull().sum()"
   ]
  },
  {
   "cell_type": "markdown",
   "metadata": {},
   "source": [
    "This function replace all 0 value to NaN and then it is possible to fill this values with the median of the specific column"
   ]
  },
  {
   "cell_type": "code",
   "execution_count": null,
   "metadata": {
    "tags": []
   },
   "outputs": [],
   "source": [
    "replace = base.replace(0, np.nan, inplace=True)"
   ]
  },
  {
   "cell_type": "code",
   "execution_count": null,
   "metadata": {},
   "outputs": [],
   "source": [
    "budget_median = base.Budget.median()\n",
    "revenue_median = base.Revenue.median()"
   ]
  },
  {
   "cell_type": "code",
   "execution_count": null,
   "metadata": {},
   "outputs": [],
   "source": [
    "base[\"Budget\"].fillna(budget_median, inplace = True)\n",
    "base[\"Revenue\"].fillna(revenue_median, inplace = True)"
   ]
  },
  {
   "cell_type": "markdown",
   "metadata": {},
   "source": [
    "It's possible to save another csv with all columns complete"
   ]
  },
  {
   "cell_type": "code",
   "execution_count": null,
   "metadata": {},
   "outputs": [],
   "source": [
    "base.to_csv(\"Movies_median.csv\", index=False)"
   ]
  },
  {
   "cell_type": "markdown",
   "metadata": {},
   "source": [
    "# Graph Analysis"
   ]
  },
  {
   "cell_type": "code",
   "execution_count": null,
   "metadata": {},
   "outputs": [],
   "source": [
    "fig, axs = plt.subplots(ncols=2, figsize = (12,6), sharey=True)\n",
    "fig.suptitle(\"Comparison between User Rating and Movie Database Average Ratings\", fontsize=16)\n",
    "plt.subplots_adjust(wspace=0, hspace=0)\n",
    "plt.ylim(1,5)\n",
    "sns.set_context(\"notebook\", font_scale=1.5, rc={\"lines.linewidth\": 2})\n",
    "sns.despine(left= True)\n",
    "\n",
    "\n",
    "\n",
    "user_boxplot = sns.boxplot(y = base[\"Rating\"], \n",
    "                            color=\"lightskyblue\", \n",
    "                            showmeans=True, \n",
    "                            meanprops= {\"marker\":\"o\",\n",
    "                                        \"markerfacecolor\":\"white\", \n",
    "                                        \"markeredgecolor\":\"black\", \n",
    "                                        \"markersize\":\"7\"},\n",
    "                            medianprops = {\"color\":\"orange\", \n",
    "                                           \"linestyle\":\"--\"}, \n",
    "                            ax=axs[0])\n",
    "\n",
    "\n",
    "database_boxplot = sns.boxplot(y = base[\"Vote Average\"], \n",
    "                           color=\"violet\", \n",
    "                           showmeans=True,\n",
    "                           meanprops= {\"marker\":\"o\",\n",
    "                                       \"markerfacecolor\":\"white\", \n",
    "                                       \"markeredgecolor\":\"black\", \n",
    "                                       \"markersize\":\"7\"},\n",
    "                           medianprops = {\"color\":\"springgreen\", \n",
    "                                          \"linestyle\":\"--\"},\n",
    "                           ax=axs[1]).set(ylabel=None)\n",
    "\n",
    "plt.savefig(\"Boxplot_ratings\")"
   ]
  },
  {
   "cell_type": "markdown",
   "metadata": {},
   "source": [
    "# Transform the genres in a Series of genres"
   ]
  },
  {
   "cell_type": "code",
   "execution_count": 56,
   "metadata": {
    "tags": []
   },
   "outputs": [
    {
     "output_type": "execute_result",
     "data": {
      "text/plain": "ID\n281957            Western\n281957              Drama\n281957          Adventure\n273248              Crime\n273248              Drama\n               ...       \n324857    Science Fiction\n324857             Comedy\n530385             Horror\n530385              Drama\n530385            Mystery\nName: Genres, Length: 771, dtype: object"
     },
     "metadata": {},
     "execution_count": 56
    }
   ],
   "source": [
    "genres= pd.Series(base[\"Genres\"].values, index = base[\"ID\"], name = \"Genres\")\n",
    "get_genres = genres.str.split(\"|\", expand = False)\n",
    "series = get_genres.explode()\n",
    "\n",
    "series"
   ]
  },
  {
   "cell_type": "code",
   "execution_count": null,
   "metadata": {
    "tags": []
   },
   "outputs": [],
   "source": [
    "def get_genres(csv):\n",
    "    for index,row in csv.iterrows():\n",
    "        split = csv.Genres.str.split(\"|\", expand = True)\n",
    "        #pd.Series(csv[\"Genres\"].values, index = csv[\"ID\"])\n",
    "    return split\n",
    "        \n",
    "\n",
    "teste = get_genres(base)\n",
    "print (genres)"
   ]
  },
  {
   "cell_type": "code",
   "execution_count": null,
   "metadata": {},
   "outputs": [],
   "source": []
  },
  {
   "cell_type": "markdown",
   "metadata": {},
   "source": [
    "# Finding the linear correlation between Budget and Revenue"
   ]
  },
  {
   "cell_type": "code",
   "execution_count": null,
   "metadata": {},
   "outputs": [],
   "source": [
    "corre = np.corrcoef(base[\"Budget\"], base[\"Revenue\"])\n",
    "corre"
   ]
  },
  {
   "cell_type": "code",
   "execution_count": null,
   "metadata": {},
   "outputs": [],
   "source": [
    "sns.scatterplot(base[\"Budget\"], base[\"Revenue\"])\n",
    "plt.yscale('log')\n",
    "plt.xscale('log')"
   ]
  },
  {
   "cell_type": "markdown",
   "metadata": {},
   "source": [
    "# Top 10 voted movies"
   ]
  },
  {
   "cell_type": "code",
   "execution_count": null,
   "metadata": {
    "tags": []
   },
   "outputs": [],
   "source": [
    "vote_count = base.sort_values(\"Vote Count\", ascending= False)\n",
    "top_voted = vote_count.head(n =10)"
   ]
  },
  {
   "cell_type": "code",
   "execution_count": null,
   "metadata": {},
   "outputs": [],
   "source": [
    "palette = sns.color_palette(\"Purples_r\", 10)\n",
    "sns.set_context(\"notebook\", font_scale=1.2, rc={\"lines.linewidth\": 2})\n",
    "sns.set(rc={'figure.figsize':(10,6)})\n",
    "\n",
    "\n",
    "barplot = sns.barplot(x= top_voted[\"Vote Count\"],\n",
    "                      y = top_voted[\"Movie\"], \n",
    "                      palette = palette,\n",
    "                      orient = \"h\").set(ylabel = None)\n",
    "\n",
    "plt.xticks(rotation=45, fontsize=12, ha = \"center\")\n",
    "plt.yticks(fontsize=12)\n",
    "\n",
    "\n",
    "img = plt.savefig(\"Barplot_votecount\", bbox_inches='tight')"
   ]
  },
  {
   "cell_type": "code",
   "execution_count": null,
   "metadata": {},
   "outputs": [],
   "source": []
  }
 ],
 "metadata": {
  "language_info": {
   "codemirror_mode": {
    "name": "ipython",
    "version": 3
   },
   "file_extension": ".py",
   "mimetype": "text/x-python",
   "name": "python",
   "nbconvert_exporter": "python",
   "pygments_lexer": "ipython3",
   "version": 3
  },
  "orig_nbformat": 2,
  "kernelspec": {
   "name": "python_defaultSpec_1594874656045",
   "display_name": "Python 3.7.3 64-bit"
  }
 },
 "nbformat": 4,
 "nbformat_minor": 2
}