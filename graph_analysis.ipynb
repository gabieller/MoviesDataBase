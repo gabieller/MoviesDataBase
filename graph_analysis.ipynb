{
 "cells": [
  {
   "cell_type": "code",
   "execution_count": 1,
   "metadata": {},
   "outputs": [],
   "source": [
    "# Data Wrangling libraries\n",
    "import pandas as pd \n",
    "import numpy as np \n",
    "from scipy import stats \n",
    "\n",
    "# Data Visualization libraries\n",
    "import seaborn as sns\n",
    "import matplotlib.pyplot as plt\n",
    "from wordcloud import WordCloud, ImageColorGenerator\n",
    "import matplotlib.ticker as ticker\n",
    "\n",
    "# Machine Learning libraries\n",
    "from sklearn.linear_model import LinearRegression\n",
    "from sklearn.model_selection import train_test_split\n",
    "from sklearn.metrics import r2_score\n",
    "from sklearn.preprocessing import MinMaxScaler\n",
    "from sklearn import preprocessing"
   ]
  },
  {
   "cell_type": "code",
   "execution_count": 2,
   "metadata": {},
   "outputs": [],
   "source": [
    "base = pd.read_csv(\"Movies_new.csv\")"
   ]
  },
  {
   "cell_type": "code",
   "execution_count": 3,
   "metadata": {},
   "outputs": [],
   "source": [
    "base[\"Profit\"] = base[\"Revenue\"] - base[\"Budget\"]\n",
    "base.to_csv(\"Movies_profit.csv\", index=False)"
   ]
  },
  {
   "cell_type": "code",
   "execution_count": 4,
   "metadata": {},
   "outputs": [
    {
     "output_type": "execute_result",
     "data": {
      "text/plain": "                  ID         Year      Rating  Vote Average    Vote Count  \\\ncount     277.000000   277.000000  277.000000    277.000000    277.000000   \nmean   208317.862816  2008.137184    3.732852      3.639711   5623.187726   \nstd    180983.979584    14.994055    0.808091      0.320683   4561.736731   \nmin        24.000000  1940.000000    1.000000      2.100000    139.000000   \n25%      9426.000000  2004.000000    3.000000      3.450000   2014.000000   \n50%    263115.000000  2015.000000    4.000000      3.650000   4099.000000   \n75%    346685.000000  2017.000000    4.000000      3.850000   8443.000000   \nmax    619264.000000  2020.000000    5.000000      4.350000  23392.000000   \n\n         Runtime        Budget       Revenue        Profit  \ncount  277.00000  2.770000e+02  2.770000e+02  2.770000e+02  \nmean   122.01444  5.533583e+07  2.791656e+08  2.238298e+08  \nstd     29.92018  6.705762e+07  3.811635e+08  3.263100e+08  \nmin     81.00000  0.000000e+00  0.000000e+00 -1.510000e+08  \n25%    105.00000  9.000000e+06  2.700707e+07  9.584500e+06  \n50%    118.00000  2.500000e+07  1.123999e+08  9.121694e+07  \n75%    133.00000  8.200000e+07  3.635333e+08  2.915159e+08  \nmax    467.00000  3.560000e+08  2.797801e+09  2.441801e+09  ",
      "text/html": "<div>\n<style scoped>\n    .dataframe tbody tr th:only-of-type {\n        vertical-align: middle;\n    }\n\n    .dataframe tbody tr th {\n        vertical-align: top;\n    }\n\n    .dataframe thead th {\n        text-align: right;\n    }\n</style>\n<table border=\"1\" class=\"dataframe\">\n  <thead>\n    <tr style=\"text-align: right;\">\n      <th></th>\n      <th>ID</th>\n      <th>Year</th>\n      <th>Rating</th>\n      <th>Vote Average</th>\n      <th>Vote Count</th>\n      <th>Runtime</th>\n      <th>Budget</th>\n      <th>Revenue</th>\n      <th>Profit</th>\n    </tr>\n  </thead>\n  <tbody>\n    <tr>\n      <th>count</th>\n      <td>277.000000</td>\n      <td>277.000000</td>\n      <td>277.000000</td>\n      <td>277.000000</td>\n      <td>277.000000</td>\n      <td>277.00000</td>\n      <td>2.770000e+02</td>\n      <td>2.770000e+02</td>\n      <td>2.770000e+02</td>\n    </tr>\n    <tr>\n      <th>mean</th>\n      <td>208317.862816</td>\n      <td>2008.137184</td>\n      <td>3.732852</td>\n      <td>3.639711</td>\n      <td>5623.187726</td>\n      <td>122.01444</td>\n      <td>5.533583e+07</td>\n      <td>2.791656e+08</td>\n      <td>2.238298e+08</td>\n    </tr>\n    <tr>\n      <th>std</th>\n      <td>180983.979584</td>\n      <td>14.994055</td>\n      <td>0.808091</td>\n      <td>0.320683</td>\n      <td>4561.736731</td>\n      <td>29.92018</td>\n      <td>6.705762e+07</td>\n      <td>3.811635e+08</td>\n      <td>3.263100e+08</td>\n    </tr>\n    <tr>\n      <th>min</th>\n      <td>24.000000</td>\n      <td>1940.000000</td>\n      <td>1.000000</td>\n      <td>2.100000</td>\n      <td>139.000000</td>\n      <td>81.00000</td>\n      <td>0.000000e+00</td>\n      <td>0.000000e+00</td>\n      <td>-1.510000e+08</td>\n    </tr>\n    <tr>\n      <th>25%</th>\n      <td>9426.000000</td>\n      <td>2004.000000</td>\n      <td>3.000000</td>\n      <td>3.450000</td>\n      <td>2014.000000</td>\n      <td>105.00000</td>\n      <td>9.000000e+06</td>\n      <td>2.700707e+07</td>\n      <td>9.584500e+06</td>\n    </tr>\n    <tr>\n      <th>50%</th>\n      <td>263115.000000</td>\n      <td>2015.000000</td>\n      <td>4.000000</td>\n      <td>3.650000</td>\n      <td>4099.000000</td>\n      <td>118.00000</td>\n      <td>2.500000e+07</td>\n      <td>1.123999e+08</td>\n      <td>9.121694e+07</td>\n    </tr>\n    <tr>\n      <th>75%</th>\n      <td>346685.000000</td>\n      <td>2017.000000</td>\n      <td>4.000000</td>\n      <td>3.850000</td>\n      <td>8443.000000</td>\n      <td>133.00000</td>\n      <td>8.200000e+07</td>\n      <td>3.635333e+08</td>\n      <td>2.915159e+08</td>\n    </tr>\n    <tr>\n      <th>max</th>\n      <td>619264.000000</td>\n      <td>2020.000000</td>\n      <td>5.000000</td>\n      <td>4.350000</td>\n      <td>23392.000000</td>\n      <td>467.00000</td>\n      <td>3.560000e+08</td>\n      <td>2.797801e+09</td>\n      <td>2.441801e+09</td>\n    </tr>\n  </tbody>\n</table>\n</div>"
     },
     "metadata": {},
     "execution_count": 4
    }
   ],
   "source": [
    "base.describe()"
   ]
  },
  {
   "cell_type": "markdown",
   "metadata": {},
   "source": [
    "Describe function show that the Budget and Revenue columns has 0 as a min values, however, the info() function showed that there isnt any NaN value"
   ]
  },
  {
   "cell_type": "code",
   "execution_count": 5,
   "metadata": {
    "tags": []
   },
   "outputs": [
    {
     "output_type": "stream",
     "name": "stdout",
     "text": "<class 'pandas.core.frame.DataFrame'>\nRangeIndex: 277 entries, 0 to 276\nData columns (total 14 columns):\n #   Column        Non-Null Count  Dtype  \n---  ------        --------------  -----  \n 0   ID            277 non-null    int64  \n 1   Movie         277 non-null    object \n 2   Year          277 non-null    int64  \n 3   Rating        277 non-null    int64  \n 4   Watched       277 non-null    object \n 5   Cinema        277 non-null    bool   \n 6   Vote Average  277 non-null    float64\n 7   Vote Count    277 non-null    int64  \n 8   Runtime       277 non-null    int64  \n 9   Genres        277 non-null    object \n 10  Budget        277 non-null    int64  \n 11  Revenue       277 non-null    int64  \n 12  Overview      277 non-null    object \n 13  Profit        277 non-null    int64  \ndtypes: bool(1), float64(1), int64(8), object(4)\nmemory usage: 28.5+ KB\n"
    }
   ],
   "source": [
    "base.info()"
   ]
  },
  {
   "cell_type": "code",
   "execution_count": 10,
   "metadata": {
    "tags": []
   },
   "outputs": [
    {
     "output_type": "execute_result",
     "data": {
      "text/plain": "ID              0\nMovie           0\nYear            0\nRating          0\nWatched         0\nCinema          0\nVote Average    0\nVote Count      0\nRuntime         0\nGenres          0\nBudget          0\nRevenue         0\nOverview        0\nProfit          0\ndtype: int64"
     },
     "metadata": {},
     "execution_count": 10
    }
   ],
   "source": [
    "base.count()\n",
    "base.isnull().sum()"
   ]
  },
  {
   "cell_type": "markdown",
   "metadata": {},
   "source": [
    "This function replace all 0 value to NaN and then it is possible to fill this values with the median of the specific column"
   ]
  },
  {
   "cell_type": "code",
   "execution_count": 6,
   "metadata": {
    "tags": []
   },
   "outputs": [],
   "source": [
    "replace = base.replace(0, np.nan, inplace=True)\n",
    "replace"
   ]
  },
  {
   "cell_type": "code",
   "execution_count": 11,
   "metadata": {},
   "outputs": [
    {
     "output_type": "execute_result",
     "data": {
      "text/plain": "ID               0\nMovie            0\nYear             0\nRating           0\nWatched          0\nCinema           0\nVote Average     0\nVote Count       0\nRuntime          0\nGenres           0\nBudget          20\nRevenue         23\nOverview         0\nProfit          11\ndtype: int64"
     },
     "metadata": {},
     "execution_count": 11
    }
   ],
   "source": [
    "#base.count()\n",
    "base.isnull().sum()"
   ]
  },
  {
   "cell_type": "code",
   "execution_count": 8,
   "metadata": {
    "tags": []
   },
   "outputs": [
    {
     "output_type": "stream",
     "name": "stdout",
     "text": "<class 'pandas.core.frame.DataFrame'>\nRangeIndex: 277 entries, 0 to 276\nData columns (total 14 columns):\n #   Column        Non-Null Count  Dtype  \n---  ------        --------------  -----  \n 0   ID            277 non-null    int64  \n 1   Movie         277 non-null    object \n 2   Year          277 non-null    int64  \n 3   Rating        277 non-null    int64  \n 4   Watched       277 non-null    object \n 5   Cinema        277 non-null    bool   \n 6   Vote Average  277 non-null    float64\n 7   Vote Count    277 non-null    int64  \n 8   Runtime       277 non-null    int64  \n 9   Genres        277 non-null    object \n 10  Budget        257 non-null    float64\n 11  Revenue       254 non-null    float64\n 12  Overview      277 non-null    object \n 13  Profit        266 non-null    float64\ndtypes: bool(1), float64(4), int64(5), object(4)\nmemory usage: 28.5+ KB\n"
    }
   ],
   "source": [
    "base.info()"
   ]
  },
  {
   "cell_type": "code",
   "execution_count": 13,
   "metadata": {},
   "outputs": [],
   "source": [
    "budget_median = base.Budget.median()\n",
    "revenue_median = base.Revenue.median()\n",
    "profit_median = base.Profit.median()"
   ]
  },
  {
   "cell_type": "code",
   "execution_count": 14,
   "metadata": {},
   "outputs": [],
   "source": [
    "base[\"Budget\"].fillna(budget_median, inplace = True)\n",
    "base[\"Revenue\"].fillna(revenue_median, inplace = True)\n",
    "base[\"Profit\"].fillna(profit_median, inplace = True)"
   ]
  },
  {
   "cell_type": "code",
   "execution_count": 16,
   "metadata": {},
   "outputs": [
    {
     "output_type": "execute_result",
     "data": {
      "text/plain": "                  ID         Year      Rating  Vote Average    Vote Count  \\\ncount     277.000000   277.000000  277.000000    277.000000    277.000000   \nmean   208317.862816  2008.137184    3.732852      3.639711   5623.187726   \nstd    180983.979584    14.994055    0.808091      0.320683   4561.736731   \nmin        24.000000  1940.000000    1.000000      2.100000    139.000000   \n25%      9426.000000  2004.000000    3.000000      3.450000   2014.000000   \n50%    263115.000000  2015.000000    4.000000      3.650000   4099.000000   \n75%    346685.000000  2017.000000    4.000000      3.850000   8443.000000   \nmax    619264.000000  2020.000000    5.000000      4.350000  23392.000000   \n\n         Runtime        Budget       Revenue        Profit  \ncount  277.00000  2.770000e+02  2.770000e+02  2.770000e+02  \nmean   122.01444  5.750189e+07  2.917754e+08  2.276384e+08  \nstd     29.92018  6.570116e+07  3.741417e+08  3.242207e+08  \nmin     81.00000  3.250000e+05  5.638500e+04 -1.510000e+08  \n25%    105.00000  1.300000e+07  4.666586e+07  1.772164e+07  \n50%    118.00000  3.000000e+07  1.518660e+08  9.590902e+07  \n75%    133.00000  8.200000e+07  3.635333e+08  2.915159e+08  \nmax    467.00000  3.560000e+08  2.797801e+09  2.441801e+09  ",
      "text/html": "<div>\n<style scoped>\n    .dataframe tbody tr th:only-of-type {\n        vertical-align: middle;\n    }\n\n    .dataframe tbody tr th {\n        vertical-align: top;\n    }\n\n    .dataframe thead th {\n        text-align: right;\n    }\n</style>\n<table border=\"1\" class=\"dataframe\">\n  <thead>\n    <tr style=\"text-align: right;\">\n      <th></th>\n      <th>ID</th>\n      <th>Year</th>\n      <th>Rating</th>\n      <th>Vote Average</th>\n      <th>Vote Count</th>\n      <th>Runtime</th>\n      <th>Budget</th>\n      <th>Revenue</th>\n      <th>Profit</th>\n    </tr>\n  </thead>\n  <tbody>\n    <tr>\n      <th>count</th>\n      <td>277.000000</td>\n      <td>277.000000</td>\n      <td>277.000000</td>\n      <td>277.000000</td>\n      <td>277.000000</td>\n      <td>277.00000</td>\n      <td>2.770000e+02</td>\n      <td>2.770000e+02</td>\n      <td>2.770000e+02</td>\n    </tr>\n    <tr>\n      <th>mean</th>\n      <td>208317.862816</td>\n      <td>2008.137184</td>\n      <td>3.732852</td>\n      <td>3.639711</td>\n      <td>5623.187726</td>\n      <td>122.01444</td>\n      <td>5.750189e+07</td>\n      <td>2.917754e+08</td>\n      <td>2.276384e+08</td>\n    </tr>\n    <tr>\n      <th>std</th>\n      <td>180983.979584</td>\n      <td>14.994055</td>\n      <td>0.808091</td>\n      <td>0.320683</td>\n      <td>4561.736731</td>\n      <td>29.92018</td>\n      <td>6.570116e+07</td>\n      <td>3.741417e+08</td>\n      <td>3.242207e+08</td>\n    </tr>\n    <tr>\n      <th>min</th>\n      <td>24.000000</td>\n      <td>1940.000000</td>\n      <td>1.000000</td>\n      <td>2.100000</td>\n      <td>139.000000</td>\n      <td>81.00000</td>\n      <td>3.250000e+05</td>\n      <td>5.638500e+04</td>\n      <td>-1.510000e+08</td>\n    </tr>\n    <tr>\n      <th>25%</th>\n      <td>9426.000000</td>\n      <td>2004.000000</td>\n      <td>3.000000</td>\n      <td>3.450000</td>\n      <td>2014.000000</td>\n      <td>105.00000</td>\n      <td>1.300000e+07</td>\n      <td>4.666586e+07</td>\n      <td>1.772164e+07</td>\n    </tr>\n    <tr>\n      <th>50%</th>\n      <td>263115.000000</td>\n      <td>2015.000000</td>\n      <td>4.000000</td>\n      <td>3.650000</td>\n      <td>4099.000000</td>\n      <td>118.00000</td>\n      <td>3.000000e+07</td>\n      <td>1.518660e+08</td>\n      <td>9.590902e+07</td>\n    </tr>\n    <tr>\n      <th>75%</th>\n      <td>346685.000000</td>\n      <td>2017.000000</td>\n      <td>4.000000</td>\n      <td>3.850000</td>\n      <td>8443.000000</td>\n      <td>133.00000</td>\n      <td>8.200000e+07</td>\n      <td>3.635333e+08</td>\n      <td>2.915159e+08</td>\n    </tr>\n    <tr>\n      <th>max</th>\n      <td>619264.000000</td>\n      <td>2020.000000</td>\n      <td>5.000000</td>\n      <td>4.350000</td>\n      <td>23392.000000</td>\n      <td>467.00000</td>\n      <td>3.560000e+08</td>\n      <td>2.797801e+09</td>\n      <td>2.441801e+09</td>\n    </tr>\n  </tbody>\n</table>\n</div>"
     },
     "metadata": {},
     "execution_count": 16
    }
   ],
   "source": [
    "base.describe()"
   ]
  },
  {
   "cell_type": "markdown",
   "metadata": {},
   "source": [
    "# Outliers"
   ]
  },
  {
   "cell_type": "code",
   "execution_count": null,
   "metadata": {},
   "outputs": [],
   "source": [
    "min_budget_thresold, max_budget_thresold = base.Budget.quantile([0.005, 0.995]) \n",
    "min_profit_thresold, max_profit_thresold = base.Budget.quantile([0.005, 0.995]) "
   ]
  },
  {
   "cell_type": "code",
   "execution_count": null,
   "metadata": {},
   "outputs": [],
   "source": [
    "min_profit_thresold, max_profit_thresold = base.Budget.quantile([0.005, 0.995]) \n",
    "min_profit_thresold, max_profit_thresold"
   ]
  },
  {
   "cell_type": "code",
   "execution_count": null,
   "metadata": {},
   "outputs": [],
   "source": [
    "base[base[\"Budget\"]< min_budget_thresold]\n",
    "base[base[\"Budget\"]> max_budget_thresold]"
   ]
  },
  {
   "cell_type": "code",
   "execution_count": null,
   "metadata": {},
   "outputs": [],
   "source": [
    "base[base[\"Profit\"]< min_profit_thresold]\n",
    "base[base[\"Profit\"]> max_profit_thresold]"
   ]
  },
  {
   "cell_type": "code",
   "execution_count": null,
   "metadata": {},
   "outputs": [],
   "source": [
    "base_outliers = base[(base.Budget < max_budget_thresold) & (base.Budget > min_budget_thresold) & (base.Profit < max_profit_thresold) &  (base.Profit > min_profit_thresold) ]"
   ]
  },
  {
   "cell_type": "code",
   "execution_count": null,
   "metadata": {},
   "outputs": [],
   "source": [
    "base_outliers"
   ]
  },
  {
   "cell_type": "markdown",
   "metadata": {},
   "source": [
    "# Graph Analysis"
   ]
  },
  {
   "cell_type": "markdown",
   "metadata": {},
   "source": [
    "# Boxplot comparing user rating and movies database average ratings"
   ]
  },
  {
   "cell_type": "code",
   "execution_count": 46,
   "metadata": {
    "tags": []
   },
   "outputs": [
    {
     "output_type": "display_data",
     "data": {
      "text/plain": "<Figure size 864x432 with 2 Axes>",
      "image/svg+xml": "<?xml version=\"1.0\" encoding=\"utf-8\" standalone=\"no\"?>\n<!DOCTYPE svg PUBLIC \"-//W3C//DTD SVG 1.1//EN\"\n  \"http://www.w3.org/Graphics/SVG/1.1/DTD/svg11.dtd\">\n<!-- Created with matplotlib (https://matplotlib.org/) -->\n<svg height=\"392.94457pt\" version=\"1.1\" viewBox=\"0 0 963.9705 392.94457\" width=\"963.9705pt\" xmlns=\"http://www.w3.org/2000/svg\" xmlns:xlink=\"http://www.w3.org/1999/xlink\">\n <defs>\n  <style type=\"text/css\">\n*{stroke-linecap:butt;stroke-linejoin:round;}\n  </style>\n </defs>\n <g id=\"figure_1\">\n  <g id=\"patch_1\">\n   <path d=\"M 0 392.94457 \nL 963.9705 392.94457 \nL 963.9705 0 \nL 0 0 \nz\n\" style=\"fill:#ffffff;\"/>\n  </g>\n  <g id=\"axes_1\">\n   <g id=\"patch_2\">\n    <path d=\"M 60.3075 376.56 \nL 395.1075 376.56 \nL 395.1075 50.4 \nL 60.3075 50.4 \nz\n\" style=\"fill:#ffffff;\"/>\n   </g>\n   <g id=\"matplotlib.axis_1\">\n    <g id=\"xtick_1\"/>\n   </g>\n   <g id=\"matplotlib.axis_2\">\n    <g id=\"ytick_1\">\n     <g id=\"line2d_1\">\n      <path clip-path=\"url(#p80bc1dc1ea)\" d=\"M 60.3075 376.56 \nL 395.1075 376.56 \n\" style=\"fill:none;stroke:#cccccc;stroke-linecap:round;\"/>\n     </g>\n     <g id=\"text_1\">\n      <!-- 1.0 -->\n      <defs>\n       <path d=\"M 37.25 0 \nL 28.46875 0 \nL 28.46875 56 \nQ 25.296875 52.984375 20.140625 49.953125 \nQ 14.984375 46.921875 10.890625 45.40625 \nL 10.890625 53.90625 \nQ 18.265625 57.375 23.78125 62.296875 \nQ 29.296875 67.234375 31.59375 71.875 \nL 37.25 71.875 \nz\n\" id=\"ArialMT-49\"/>\n       <path d=\"M 9.078125 0 \nL 9.078125 10.015625 \nL 19.09375 10.015625 \nL 19.09375 0 \nz\n\" id=\"ArialMT-46\"/>\n       <path d=\"M 4.15625 35.296875 \nQ 4.15625 48 6.765625 55.734375 \nQ 9.375 63.484375 14.515625 67.671875 \nQ 19.671875 71.875 27.484375 71.875 \nQ 33.25 71.875 37.59375 69.546875 \nQ 41.9375 67.234375 44.765625 62.859375 \nQ 47.609375 58.5 49.21875 52.21875 \nQ 50.828125 45.953125 50.828125 35.296875 \nQ 50.828125 22.703125 48.234375 14.96875 \nQ 45.65625 7.234375 40.5 3 \nQ 35.359375 -1.21875 27.484375 -1.21875 \nQ 17.140625 -1.21875 11.234375 6.203125 \nQ 4.15625 15.140625 4.15625 35.296875 \nz\nM 13.1875 35.296875 \nQ 13.1875 17.671875 17.3125 11.828125 \nQ 21.4375 6 27.484375 6 \nQ 33.546875 6 37.671875 11.859375 \nQ 41.796875 17.71875 41.796875 35.296875 \nQ 41.796875 52.984375 37.671875 58.78125 \nQ 33.546875 64.59375 27.390625 64.59375 \nQ 21.34375 64.59375 17.71875 59.46875 \nQ 13.1875 52.9375 13.1875 35.296875 \nz\n\" id=\"ArialMT-48\"/>\n      </defs>\n      <g style=\"fill:#262626;\" transform=\"translate(27.8725 382.465195)scale(0.165 -0.165)\">\n       <use xlink:href=\"#ArialMT-49\"/>\n       <use x=\"55.615234\" xlink:href=\"#ArialMT-46\"/>\n       <use x=\"83.398438\" xlink:href=\"#ArialMT-48\"/>\n      </g>\n     </g>\n    </g>\n    <g id=\"ytick_2\">\n     <g id=\"line2d_2\">\n      <path clip-path=\"url(#p80bc1dc1ea)\" d=\"M 60.3075 335.79 \nL 395.1075 335.79 \n\" style=\"fill:none;stroke:#cccccc;stroke-linecap:round;\"/>\n     </g>\n     <g id=\"text_2\">\n      <!-- 1.5 -->\n      <defs>\n       <path d=\"M 4.15625 18.75 \nL 13.375 19.53125 \nQ 14.40625 12.796875 18.140625 9.390625 \nQ 21.875 6 27.15625 6 \nQ 33.5 6 37.890625 10.78125 \nQ 42.28125 15.578125 42.28125 23.484375 \nQ 42.28125 31 38.0625 35.34375 \nQ 33.84375 39.703125 27 39.703125 \nQ 22.75 39.703125 19.328125 37.765625 \nQ 15.921875 35.84375 13.96875 32.765625 \nL 5.71875 33.84375 \nL 12.640625 70.609375 \nL 48.25 70.609375 \nL 48.25 62.203125 \nL 19.671875 62.203125 \nL 15.828125 42.96875 \nQ 22.265625 47.46875 29.34375 47.46875 \nQ 38.71875 47.46875 45.15625 40.96875 \nQ 51.609375 34.46875 51.609375 24.265625 \nQ 51.609375 14.546875 45.953125 7.46875 \nQ 39.0625 -1.21875 27.15625 -1.21875 \nQ 17.390625 -1.21875 11.203125 4.25 \nQ 5.03125 9.71875 4.15625 18.75 \nz\n\" id=\"ArialMT-53\"/>\n      </defs>\n      <g style=\"fill:#262626;\" transform=\"translate(27.8725 341.695195)scale(0.165 -0.165)\">\n       <use xlink:href=\"#ArialMT-49\"/>\n       <use x=\"55.615234\" xlink:href=\"#ArialMT-46\"/>\n       <use x=\"83.398438\" xlink:href=\"#ArialMT-53\"/>\n      </g>\n     </g>\n    </g>\n    <g id=\"ytick_3\">\n     <g id=\"line2d_3\">\n      <path clip-path=\"url(#p80bc1dc1ea)\" d=\"M 60.3075 295.02 \nL 395.1075 295.02 \n\" style=\"fill:none;stroke:#cccccc;stroke-linecap:round;\"/>\n     </g>\n     <g id=\"text_3\">\n      <!-- 2.0 -->\n      <defs>\n       <path d=\"M 50.34375 8.453125 \nL 50.34375 0 \nL 3.03125 0 \nQ 2.9375 3.171875 4.046875 6.109375 \nQ 5.859375 10.9375 9.828125 15.625 \nQ 13.8125 20.3125 21.34375 26.46875 \nQ 33.015625 36.03125 37.109375 41.625 \nQ 41.21875 47.21875 41.21875 52.203125 \nQ 41.21875 57.421875 37.46875 61 \nQ 33.734375 64.59375 27.734375 64.59375 \nQ 21.390625 64.59375 17.578125 60.78125 \nQ 13.765625 56.984375 13.71875 50.25 \nL 4.6875 51.171875 \nQ 5.609375 61.28125 11.65625 66.578125 \nQ 17.71875 71.875 27.9375 71.875 \nQ 38.234375 71.875 44.234375 66.15625 \nQ 50.25 60.453125 50.25 52 \nQ 50.25 47.703125 48.484375 43.546875 \nQ 46.734375 39.40625 42.65625 34.8125 \nQ 38.578125 30.21875 29.109375 22.21875 \nQ 21.1875 15.578125 18.9375 13.203125 \nQ 16.703125 10.84375 15.234375 8.453125 \nz\n\" id=\"ArialMT-50\"/>\n      </defs>\n      <g style=\"fill:#262626;\" transform=\"translate(27.8725 300.925195)scale(0.165 -0.165)\">\n       <use xlink:href=\"#ArialMT-50\"/>\n       <use x=\"55.615234\" xlink:href=\"#ArialMT-46\"/>\n       <use x=\"83.398438\" xlink:href=\"#ArialMT-48\"/>\n      </g>\n     </g>\n    </g>\n    <g id=\"ytick_4\">\n     <g id=\"line2d_4\">\n      <path clip-path=\"url(#p80bc1dc1ea)\" d=\"M 60.3075 254.25 \nL 395.1075 254.25 \n\" style=\"fill:none;stroke:#cccccc;stroke-linecap:round;\"/>\n     </g>\n     <g id=\"text_4\">\n      <!-- 2.5 -->\n      <g style=\"fill:#262626;\" transform=\"translate(27.8725 260.155195)scale(0.165 -0.165)\">\n       <use xlink:href=\"#ArialMT-50\"/>\n       <use x=\"55.615234\" xlink:href=\"#ArialMT-46\"/>\n       <use x=\"83.398438\" xlink:href=\"#ArialMT-53\"/>\n      </g>\n     </g>\n    </g>\n    <g id=\"ytick_5\">\n     <g id=\"line2d_5\">\n      <path clip-path=\"url(#p80bc1dc1ea)\" d=\"M 60.3075 213.48 \nL 395.1075 213.48 \n\" style=\"fill:none;stroke:#cccccc;stroke-linecap:round;\"/>\n     </g>\n     <g id=\"text_5\">\n      <!-- 3.0 -->\n      <defs>\n       <path d=\"M 4.203125 18.890625 \nL 12.984375 20.0625 \nQ 14.5 12.59375 18.140625 9.296875 \nQ 21.78125 6 27 6 \nQ 33.203125 6 37.46875 10.296875 \nQ 41.75 14.59375 41.75 20.953125 \nQ 41.75 27 37.796875 30.921875 \nQ 33.84375 34.859375 27.734375 34.859375 \nQ 25.25 34.859375 21.53125 33.890625 \nL 22.515625 41.609375 \nQ 23.390625 41.5 23.921875 41.5 \nQ 29.546875 41.5 34.03125 44.421875 \nQ 38.53125 47.359375 38.53125 53.46875 \nQ 38.53125 58.296875 35.25 61.46875 \nQ 31.984375 64.65625 26.8125 64.65625 \nQ 21.6875 64.65625 18.265625 61.421875 \nQ 14.84375 58.203125 13.875 51.765625 \nL 5.078125 53.328125 \nQ 6.6875 62.15625 12.390625 67.015625 \nQ 18.109375 71.875 26.609375 71.875 \nQ 32.46875 71.875 37.390625 69.359375 \nQ 42.328125 66.84375 44.9375 62.5 \nQ 47.5625 58.15625 47.5625 53.265625 \nQ 47.5625 48.640625 45.0625 44.828125 \nQ 42.578125 41.015625 37.703125 38.765625 \nQ 44.046875 37.3125 47.5625 32.6875 \nQ 51.078125 28.078125 51.078125 21.140625 \nQ 51.078125 11.765625 44.234375 5.25 \nQ 37.40625 -1.265625 26.953125 -1.265625 \nQ 17.53125 -1.265625 11.296875 4.34375 \nQ 5.078125 9.96875 4.203125 18.890625 \nz\n\" id=\"ArialMT-51\"/>\n      </defs>\n      <g style=\"fill:#262626;\" transform=\"translate(27.8725 219.385195)scale(0.165 -0.165)\">\n       <use xlink:href=\"#ArialMT-51\"/>\n       <use x=\"55.615234\" xlink:href=\"#ArialMT-46\"/>\n       <use x=\"83.398438\" xlink:href=\"#ArialMT-48\"/>\n      </g>\n     </g>\n    </g>\n    <g id=\"ytick_6\">\n     <g id=\"line2d_6\">\n      <path clip-path=\"url(#p80bc1dc1ea)\" d=\"M 60.3075 172.71 \nL 395.1075 172.71 \n\" style=\"fill:none;stroke:#cccccc;stroke-linecap:round;\"/>\n     </g>\n     <g id=\"text_6\">\n      <!-- 3.5 -->\n      <g style=\"fill:#262626;\" transform=\"translate(27.8725 178.615195)scale(0.165 -0.165)\">\n       <use xlink:href=\"#ArialMT-51\"/>\n       <use x=\"55.615234\" xlink:href=\"#ArialMT-46\"/>\n       <use x=\"83.398438\" xlink:href=\"#ArialMT-53\"/>\n      </g>\n     </g>\n    </g>\n    <g id=\"ytick_7\">\n     <g id=\"line2d_7\">\n      <path clip-path=\"url(#p80bc1dc1ea)\" d=\"M 60.3075 131.94 \nL 395.1075 131.94 \n\" style=\"fill:none;stroke:#cccccc;stroke-linecap:round;\"/>\n     </g>\n     <g id=\"text_7\">\n      <!-- 4.0 -->\n      <defs>\n       <path d=\"M 32.328125 0 \nL 32.328125 17.140625 \nL 1.265625 17.140625 \nL 1.265625 25.203125 \nL 33.9375 71.578125 \nL 41.109375 71.578125 \nL 41.109375 25.203125 \nL 50.78125 25.203125 \nL 50.78125 17.140625 \nL 41.109375 17.140625 \nL 41.109375 0 \nz\nM 32.328125 25.203125 \nL 32.328125 57.46875 \nL 9.90625 25.203125 \nz\n\" id=\"ArialMT-52\"/>\n      </defs>\n      <g style=\"fill:#262626;\" transform=\"translate(27.8725 137.845195)scale(0.165 -0.165)\">\n       <use xlink:href=\"#ArialMT-52\"/>\n       <use x=\"55.615234\" xlink:href=\"#ArialMT-46\"/>\n       <use x=\"83.398438\" xlink:href=\"#ArialMT-48\"/>\n      </g>\n     </g>\n    </g>\n    <g id=\"ytick_8\">\n     <g id=\"line2d_8\">\n      <path clip-path=\"url(#p80bc1dc1ea)\" d=\"M 60.3075 91.17 \nL 395.1075 91.17 \n\" style=\"fill:none;stroke:#cccccc;stroke-linecap:round;\"/>\n     </g>\n     <g id=\"text_8\">\n      <!-- 4.5 -->\n      <g style=\"fill:#262626;\" transform=\"translate(27.8725 97.075195)scale(0.165 -0.165)\">\n       <use xlink:href=\"#ArialMT-52\"/>\n       <use x=\"55.615234\" xlink:href=\"#ArialMT-46\"/>\n       <use x=\"83.398438\" xlink:href=\"#ArialMT-53\"/>\n      </g>\n     </g>\n    </g>\n    <g id=\"ytick_9\">\n     <g id=\"line2d_9\">\n      <path clip-path=\"url(#p80bc1dc1ea)\" d=\"M 60.3075 50.4 \nL 395.1075 50.4 \n\" style=\"fill:none;stroke:#cccccc;stroke-linecap:round;\"/>\n     </g>\n     <g id=\"text_9\">\n      <!-- 5.0 -->\n      <g style=\"fill:#262626;\" transform=\"translate(27.8725 56.305195)scale(0.165 -0.165)\">\n       <use xlink:href=\"#ArialMT-53\"/>\n       <use x=\"55.615234\" xlink:href=\"#ArialMT-46\"/>\n       <use x=\"83.398438\" xlink:href=\"#ArialMT-48\"/>\n      </g>\n     </g>\n    </g>\n    <g id=\"text_10\">\n     <!-- Rating -->\n     <defs>\n      <path d=\"M 7.859375 0 \nL 7.859375 71.578125 \nL 39.59375 71.578125 \nQ 49.171875 71.578125 54.140625 69.640625 \nQ 59.125 67.71875 62.109375 62.828125 \nQ 65.09375 57.953125 65.09375 52.046875 \nQ 65.09375 44.4375 60.15625 39.203125 \nQ 55.21875 33.984375 44.921875 32.5625 \nQ 48.6875 30.765625 50.640625 29 \nQ 54.78125 25.203125 58.5 19.484375 \nL 70.953125 0 \nL 59.03125 0 \nL 49.5625 14.890625 \nQ 45.40625 21.34375 42.71875 24.75 \nQ 40.046875 28.171875 37.921875 29.53125 \nQ 35.796875 30.90625 33.59375 31.453125 \nQ 31.984375 31.78125 28.328125 31.78125 \nL 17.328125 31.78125 \nL 17.328125 0 \nz\nM 17.328125 39.984375 \nL 37.703125 39.984375 \nQ 44.1875 39.984375 47.84375 41.328125 \nQ 51.515625 42.671875 53.421875 45.625 \nQ 55.328125 48.578125 55.328125 52.046875 \nQ 55.328125 57.125 51.640625 60.390625 \nQ 47.953125 63.671875 39.984375 63.671875 \nL 17.328125 63.671875 \nz\n\" id=\"ArialMT-82\"/>\n      <path d=\"M 40.4375 6.390625 \nQ 35.546875 2.25 31.03125 0.53125 \nQ 26.515625 -1.171875 21.34375 -1.171875 \nQ 12.796875 -1.171875 8.203125 3 \nQ 3.609375 7.171875 3.609375 13.671875 \nQ 3.609375 17.484375 5.34375 20.625 \nQ 7.078125 23.78125 9.890625 25.6875 \nQ 12.703125 27.59375 16.21875 28.5625 \nQ 18.796875 29.25 24.03125 29.890625 \nQ 34.671875 31.15625 39.703125 32.90625 \nQ 39.75 34.71875 39.75 35.203125 \nQ 39.75 40.578125 37.25 42.78125 \nQ 33.890625 45.75 27.25 45.75 \nQ 21.046875 45.75 18.09375 43.578125 \nQ 15.140625 41.40625 13.71875 35.890625 \nL 5.125 37.0625 \nQ 6.296875 42.578125 8.984375 45.96875 \nQ 11.671875 49.359375 16.75 51.1875 \nQ 21.828125 53.03125 28.515625 53.03125 \nQ 35.15625 53.03125 39.296875 51.46875 \nQ 43.453125 49.90625 45.40625 47.53125 \nQ 47.359375 45.171875 48.140625 41.546875 \nQ 48.578125 39.3125 48.578125 33.453125 \nL 48.578125 21.734375 \nQ 48.578125 9.46875 49.140625 6.21875 \nQ 49.703125 2.984375 51.375 0 \nL 42.1875 0 \nQ 40.828125 2.734375 40.4375 6.390625 \nz\nM 39.703125 26.03125 \nQ 34.90625 24.078125 25.34375 22.703125 \nQ 19.921875 21.921875 17.671875 20.9375 \nQ 15.4375 19.96875 14.203125 18.09375 \nQ 12.984375 16.21875 12.984375 13.921875 \nQ 12.984375 10.40625 15.640625 8.0625 \nQ 18.3125 5.71875 23.4375 5.71875 \nQ 28.515625 5.71875 32.46875 7.9375 \nQ 36.421875 10.15625 38.28125 14.015625 \nQ 39.703125 17 39.703125 22.796875 \nz\n\" id=\"ArialMT-97\"/>\n      <path d=\"M 25.78125 7.859375 \nL 27.046875 0.09375 \nQ 23.34375 -0.6875 20.40625 -0.6875 \nQ 15.625 -0.6875 12.984375 0.828125 \nQ 10.359375 2.34375 9.28125 4.8125 \nQ 8.203125 7.28125 8.203125 15.1875 \nL 8.203125 45.015625 \nL 1.765625 45.015625 \nL 1.765625 51.859375 \nL 8.203125 51.859375 \nL 8.203125 64.703125 \nL 16.9375 69.96875 \nL 16.9375 51.859375 \nL 25.78125 51.859375 \nL 25.78125 45.015625 \nL 16.9375 45.015625 \nL 16.9375 14.703125 \nQ 16.9375 10.9375 17.40625 9.859375 \nQ 17.875 8.796875 18.921875 8.15625 \nQ 19.96875 7.515625 21.921875 7.515625 \nQ 23.390625 7.515625 25.78125 7.859375 \nz\n\" id=\"ArialMT-116\"/>\n      <path d=\"M 6.640625 61.46875 \nL 6.640625 71.578125 \nL 15.4375 71.578125 \nL 15.4375 61.46875 \nz\nM 6.640625 0 \nL 6.640625 51.859375 \nL 15.4375 51.859375 \nL 15.4375 0 \nz\n\" id=\"ArialMT-105\"/>\n      <path d=\"M 6.59375 0 \nL 6.59375 51.859375 \nL 14.5 51.859375 \nL 14.5 44.484375 \nQ 20.21875 53.03125 31 53.03125 \nQ 35.6875 53.03125 39.625 51.34375 \nQ 43.5625 49.65625 45.515625 46.921875 \nQ 47.46875 44.1875 48.25 40.4375 \nQ 48.734375 37.984375 48.734375 31.890625 \nL 48.734375 0 \nL 39.9375 0 \nL 39.9375 31.546875 \nQ 39.9375 36.921875 38.90625 39.578125 \nQ 37.890625 42.234375 35.28125 43.8125 \nQ 32.671875 45.40625 29.15625 45.40625 \nQ 23.53125 45.40625 19.453125 41.84375 \nQ 15.375 38.28125 15.375 28.328125 \nL 15.375 0 \nz\n\" id=\"ArialMT-110\"/>\n      <path d=\"M 4.984375 -4.296875 \nL 13.53125 -5.5625 \nQ 14.0625 -9.515625 16.5 -11.328125 \nQ 19.78125 -13.765625 25.4375 -13.765625 \nQ 31.546875 -13.765625 34.859375 -11.328125 \nQ 38.1875 -8.890625 39.359375 -4.5 \nQ 40.046875 -1.8125 39.984375 6.78125 \nQ 34.234375 0 25.640625 0 \nQ 14.9375 0 9.078125 7.71875 \nQ 3.21875 15.4375 3.21875 26.21875 \nQ 3.21875 33.640625 5.90625 39.90625 \nQ 8.59375 46.1875 13.6875 49.609375 \nQ 18.796875 53.03125 25.6875 53.03125 \nQ 34.859375 53.03125 40.828125 45.609375 \nL 40.828125 51.859375 \nL 48.921875 51.859375 \nL 48.921875 7.03125 \nQ 48.921875 -5.078125 46.453125 -10.125 \nQ 44 -15.1875 38.640625 -18.109375 \nQ 33.296875 -21.046875 25.484375 -21.046875 \nQ 16.21875 -21.046875 10.5 -16.875 \nQ 4.78125 -12.703125 4.984375 -4.296875 \nz\nM 12.25 26.859375 \nQ 12.25 16.65625 16.296875 11.96875 \nQ 20.359375 7.28125 26.46875 7.28125 \nQ 32.515625 7.28125 36.609375 11.9375 \nQ 40.71875 16.609375 40.71875 26.5625 \nQ 40.71875 36.078125 36.5 40.90625 \nQ 32.28125 45.75 26.3125 45.75 \nQ 20.453125 45.75 16.34375 40.984375 \nQ 12.25 36.234375 12.25 26.859375 \nz\n\" id=\"ArialMT-103\"/>\n     </defs>\n     <g style=\"fill:#262626;\" transform=\"translate(20.084063 239.494219)rotate(-90)scale(0.18 -0.18)\">\n      <use xlink:href=\"#ArialMT-82\"/>\n      <use x=\"72.216797\" xlink:href=\"#ArialMT-97\"/>\n      <use x=\"127.832031\" xlink:href=\"#ArialMT-116\"/>\n      <use x=\"155.615234\" xlink:href=\"#ArialMT-105\"/>\n      <use x=\"177.832031\" xlink:href=\"#ArialMT-110\"/>\n      <use x=\"233.447266\" xlink:href=\"#ArialMT-103\"/>\n     </g>\n    </g>\n   </g>\n   <g id=\"patch_3\">\n    <path clip-path=\"url(#p80bc1dc1ea)\" d=\"M 93.7875 213.48 \nL 361.6275 213.48 \nL 361.6275 131.94 \nL 93.7875 131.94 \nL 93.7875 213.48 \nz\n\" style=\"fill:#95cbec;stroke:#737373;stroke-linejoin:miter;stroke-width:2;\"/>\n   </g>\n   <g id=\"line2d_10\">\n    <path clip-path=\"url(#p80bc1dc1ea)\" d=\"M 227.7075 213.48 \nL 227.7075 295.02 \n\" style=\"fill:none;stroke:#737373;stroke-linecap:round;stroke-width:2;\"/>\n   </g>\n   <g id=\"line2d_11\">\n    <path clip-path=\"url(#p80bc1dc1ea)\" d=\"M 227.7075 131.94 \nL 227.7075 50.4 \n\" style=\"fill:none;stroke:#737373;stroke-linecap:round;stroke-width:2;\"/>\n   </g>\n   <g id=\"line2d_12\">\n    <path clip-path=\"url(#p80bc1dc1ea)\" d=\"M 160.7475 295.02 \nL 294.6675 295.02 \n\" style=\"fill:none;stroke:#737373;stroke-linecap:round;stroke-width:2;\"/>\n   </g>\n   <g id=\"line2d_13\">\n    <path clip-path=\"url(#p80bc1dc1ea)\" d=\"M 160.7475 50.4 \nL 294.6675 50.4 \n\" style=\"fill:none;stroke:#737373;stroke-linecap:round;stroke-width:2;\"/>\n   </g>\n   <g id=\"line2d_14\">\n    <defs>\n     <path d=\"M -0 3.535534 \nL 2.12132 0 \nL -0 -3.535534 \nL -2.12132 -0 \nz\n\" id=\"m1136492b00\" style=\"stroke:#737373;stroke-linejoin:miter;\"/>\n    </defs>\n    <g clip-path=\"url(#p80bc1dc1ea)\">\n     <use style=\"fill:#737373;stroke:#737373;stroke-linejoin:miter;\" x=\"227.7075\" xlink:href=\"#m1136492b00\" y=\"376.56\"/>\n     <use style=\"fill:#737373;stroke:#737373;stroke-linejoin:miter;\" x=\"227.7075\" xlink:href=\"#m1136492b00\" y=\"376.56\"/>\n    </g>\n   </g>\n   <g id=\"line2d_15\">\n    <path clip-path=\"url(#p80bc1dc1ea)\" d=\"M 93.7875 131.94 \nL 361.6275 131.94 \n\" style=\"fill:none;stroke:#ffa500;stroke-dasharray:7.4,3.2;stroke-dashoffset:0;stroke-width:2;\"/>\n   </g>\n   <g id=\"line2d_16\">\n    <defs>\n     <path d=\"M 0 3.5 \nC 0.928211 3.5 1.81853 3.131218 2.474874 2.474874 \nC 3.131218 1.81853 3.5 0.928211 3.5 0 \nC 3.5 -0.928211 3.131218 -1.81853 2.474874 -2.474874 \nC 1.81853 -3.131218 0.928211 -3.5 0 -3.5 \nC -0.928211 -3.5 -1.81853 -3.131218 -2.474874 -2.474874 \nC -3.131218 -1.81853 -3.5 -0.928211 -3.5 0 \nC -3.5 0.928211 -3.131218 1.81853 -2.474874 2.474874 \nC -1.81853 3.131218 -0.928211 3.5 0 3.5 \nz\n\" id=\"m674d82f66c\" style=\"stroke:#000000;\"/>\n    </defs>\n    <g clip-path=\"url(#p80bc1dc1ea)\">\n     <use style=\"fill:#ffffff;stroke:#000000;\" x=\"227.7075\" xlink:href=\"#m674d82f66c\" y=\"153.723249\"/>\n    </g>\n   </g>\n   <g id=\"patch_4\">\n    <path d=\"M 60.3075 376.56 \nL 395.1075 376.56 \n\" style=\"fill:none;stroke:#cccccc;stroke-linecap:square;stroke-linejoin:miter;stroke-width:1.25;\"/>\n   </g>\n  </g>\n  <g id=\"axes_2\">\n   <g id=\"patch_5\">\n    <path d=\"M 395.1075 376.56 \nL 729.9075 376.56 \nL 729.9075 50.4 \nL 395.1075 50.4 \nz\n\" style=\"fill:#ffffff;\"/>\n   </g>\n   <g id=\"matplotlib.axis_3\">\n    <g id=\"xtick_2\"/>\n   </g>\n   <g id=\"matplotlib.axis_4\">\n    <g id=\"ytick_10\">\n     <g id=\"line2d_17\">\n      <path clip-path=\"url(#peaa46987dd)\" d=\"M 395.1075 376.56 \nL 729.9075 376.56 \n\" style=\"fill:none;stroke:#cccccc;stroke-linecap:round;\"/>\n     </g>\n    </g>\n    <g id=\"ytick_11\">\n     <g id=\"line2d_18\">\n      <path clip-path=\"url(#peaa46987dd)\" d=\"M 395.1075 335.79 \nL 729.9075 335.79 \n\" style=\"fill:none;stroke:#cccccc;stroke-linecap:round;\"/>\n     </g>\n    </g>\n    <g id=\"ytick_12\">\n     <g id=\"line2d_19\">\n      <path clip-path=\"url(#peaa46987dd)\" d=\"M 395.1075 295.02 \nL 729.9075 295.02 \n\" style=\"fill:none;stroke:#cccccc;stroke-linecap:round;\"/>\n     </g>\n    </g>\n    <g id=\"ytick_13\">\n     <g id=\"line2d_20\">\n      <path clip-path=\"url(#peaa46987dd)\" d=\"M 395.1075 254.25 \nL 729.9075 254.25 \n\" style=\"fill:none;stroke:#cccccc;stroke-linecap:round;\"/>\n     </g>\n    </g>\n    <g id=\"ytick_14\">\n     <g id=\"line2d_21\">\n      <path clip-path=\"url(#peaa46987dd)\" d=\"M 395.1075 213.48 \nL 729.9075 213.48 \n\" style=\"fill:none;stroke:#cccccc;stroke-linecap:round;\"/>\n     </g>\n    </g>\n    <g id=\"ytick_15\">\n     <g id=\"line2d_22\">\n      <path clip-path=\"url(#peaa46987dd)\" d=\"M 395.1075 172.71 \nL 729.9075 172.71 \n\" style=\"fill:none;stroke:#cccccc;stroke-linecap:round;\"/>\n     </g>\n    </g>\n    <g id=\"ytick_16\">\n     <g id=\"line2d_23\">\n      <path clip-path=\"url(#peaa46987dd)\" d=\"M 395.1075 131.94 \nL 729.9075 131.94 \n\" style=\"fill:none;stroke:#cccccc;stroke-linecap:round;\"/>\n     </g>\n    </g>\n    <g id=\"ytick_17\">\n     <g id=\"line2d_24\">\n      <path clip-path=\"url(#peaa46987dd)\" d=\"M 395.1075 91.17 \nL 729.9075 91.17 \n\" style=\"fill:none;stroke:#cccccc;stroke-linecap:round;\"/>\n     </g>\n    </g>\n    <g id=\"ytick_18\">\n     <g id=\"line2d_25\">\n      <path clip-path=\"url(#peaa46987dd)\" d=\"M 395.1075 50.4 \nL 729.9075 50.4 \n\" style=\"fill:none;stroke:#cccccc;stroke-linecap:round;\"/>\n     </g>\n    </g>\n   </g>\n   <g id=\"patch_6\">\n    <path clip-path=\"url(#peaa46987dd)\" d=\"M 428.5875 176.787 \nL 696.4275 176.787 \nL 696.4275 144.171 \nL 428.5875 144.171 \nL 428.5875 176.787 \nz\n\" style=\"fill:#e090e0;stroke:#6e6e6e;stroke-linejoin:miter;stroke-width:2;\"/>\n   </g>\n   <g id=\"line2d_26\">\n    <path clip-path=\"url(#peaa46987dd)\" d=\"M 562.5075 176.787 \nL 562.5075 221.634 \n\" style=\"fill:none;stroke:#6e6e6e;stroke-linecap:round;stroke-width:2;\"/>\n   </g>\n   <g id=\"line2d_27\">\n    <path clip-path=\"url(#peaa46987dd)\" d=\"M 562.5075 144.171 \nL 562.5075 103.401 \n\" style=\"fill:none;stroke:#6e6e6e;stroke-linecap:round;stroke-width:2;\"/>\n   </g>\n   <g id=\"line2d_28\">\n    <path clip-path=\"url(#peaa46987dd)\" d=\"M 495.5475 221.634 \nL 629.4675 221.634 \n\" style=\"fill:none;stroke:#6e6e6e;stroke-linecap:round;stroke-width:2;\"/>\n   </g>\n   <g id=\"line2d_29\">\n    <path clip-path=\"url(#peaa46987dd)\" d=\"M 495.5475 103.401 \nL 629.4675 103.401 \n\" style=\"fill:none;stroke:#6e6e6e;stroke-linecap:round;stroke-width:2;\"/>\n   </g>\n   <g id=\"line2d_30\">\n    <defs>\n     <path d=\"M -0 3.535534 \nL 2.12132 0 \nL -0 -3.535534 \nL -2.12132 -0 \nz\n\" id=\"me3084a5ca9\" style=\"stroke:#6e6e6e;stroke-linejoin:miter;\"/>\n    </defs>\n    <g clip-path=\"url(#peaa46987dd)\">\n     <use style=\"fill:#6e6e6e;stroke:#6e6e6e;stroke-linejoin:miter;\" x=\"562.5075\" xlink:href=\"#me3084a5ca9\" y=\"250.173\"/>\n     <use style=\"fill:#6e6e6e;stroke:#6e6e6e;stroke-linejoin:miter;\" x=\"562.5075\" xlink:href=\"#me3084a5ca9\" y=\"286.866\"/>\n     <use style=\"fill:#6e6e6e;stroke:#6e6e6e;stroke-linejoin:miter;\" x=\"562.5075\" xlink:href=\"#me3084a5ca9\" y=\"225.711\"/>\n    </g>\n   </g>\n   <g id=\"line2d_31\">\n    <path clip-path=\"url(#peaa46987dd)\" d=\"M 428.5875 160.479 \nL 696.4275 160.479 \n\" style=\"fill:none;stroke:#00ff7f;stroke-dasharray:7.4,3.2;stroke-dashoffset:0;stroke-width:2;\"/>\n   </g>\n   <g id=\"line2d_32\">\n    <g clip-path=\"url(#peaa46987dd)\">\n     <use style=\"fill:#ffffff;stroke:#000000;\" x=\"562.5075\" xlink:href=\"#m674d82f66c\" y=\"161.317949\"/>\n    </g>\n   </g>\n   <g id=\"patch_7\">\n    <path d=\"M 395.1075 376.56 \nL 729.9075 376.56 \n\" style=\"fill:none;stroke:#cccccc;stroke-linecap:square;stroke-linejoin:miter;stroke-width:1.25;\"/>\n   </g>\n   <g id=\"legend_1\">\n    <g id=\"patch_8\">\n     <path d=\"M 742.674922 72.549585 \nL 953.7717 72.549585 \nQ 956.7705 72.549585 956.7705 69.550785 \nL 956.7705 28.2798 \nQ 956.7705 25.281 953.7717 25.281 \nL 742.674922 25.281 \nQ 739.676123 25.281 739.676123 28.2798 \nL 739.676123 69.550785 \nQ 739.676123 72.549585 742.674922 72.549585 \nz\n\" style=\"fill:#ffffff;opacity:0.8;stroke:#cccccc;stroke-linejoin:miter;\"/>\n    </g>\n    <g id=\"line2d_33\">\n     <path d=\"M 745.673723 36.763124 \nL 775.661722 36.763124 \n\" style=\"fill:none;stroke:#87cefa;stroke-linecap:round;stroke-width:2;\"/>\n    </g>\n    <g id=\"line2d_34\"/>\n    <g id=\"text_11\">\n     <!-- User Ratings -->\n     <defs>\n      <path d=\"M 54.6875 71.578125 \nL 64.15625 71.578125 \nL 64.15625 30.21875 \nQ 64.15625 19.4375 61.71875 13.078125 \nQ 59.28125 6.734375 52.90625 2.75 \nQ 46.53125 -1.21875 36.1875 -1.21875 \nQ 26.125 -1.21875 19.71875 2.25 \nQ 13.328125 5.71875 10.59375 12.28125 \nQ 7.859375 18.84375 7.859375 30.21875 \nL 7.859375 71.578125 \nL 17.328125 71.578125 \nL 17.328125 30.28125 \nQ 17.328125 20.953125 19.0625 16.53125 \nQ 20.796875 12.109375 25.015625 9.71875 \nQ 29.25 7.328125 35.359375 7.328125 \nQ 45.796875 7.328125 50.234375 12.0625 \nQ 54.6875 16.796875 54.6875 30.28125 \nz\n\" id=\"ArialMT-85\"/>\n      <path d=\"M 3.078125 15.484375 \nL 11.765625 16.84375 \nQ 12.5 11.625 15.84375 8.84375 \nQ 19.1875 6.0625 25.203125 6.0625 \nQ 31.25 6.0625 34.171875 8.515625 \nQ 37.109375 10.984375 37.109375 14.3125 \nQ 37.109375 17.28125 34.515625 19 \nQ 32.71875 20.171875 25.53125 21.96875 \nQ 15.875 24.421875 12.140625 26.203125 \nQ 8.40625 27.984375 6.46875 31.125 \nQ 4.546875 34.28125 4.546875 38.09375 \nQ 4.546875 41.546875 6.125 44.5 \nQ 7.71875 47.46875 10.453125 49.421875 \nQ 12.5 50.921875 16.03125 51.96875 \nQ 19.578125 53.03125 23.640625 53.03125 \nQ 29.734375 53.03125 34.34375 51.265625 \nQ 38.96875 49.515625 41.15625 46.5 \nQ 43.359375 43.5 44.1875 38.484375 \nL 35.59375 37.3125 \nQ 35.015625 41.3125 32.203125 43.546875 \nQ 29.390625 45.796875 24.265625 45.796875 \nQ 18.21875 45.796875 15.625 43.796875 \nQ 13.03125 41.796875 13.03125 39.109375 \nQ 13.03125 37.40625 14.109375 36.03125 \nQ 15.1875 34.625 17.484375 33.6875 \nQ 18.796875 33.203125 25.25 31.453125 \nQ 34.578125 28.953125 38.25 27.359375 \nQ 41.9375 25.78125 44.03125 22.75 \nQ 46.140625 19.734375 46.140625 15.234375 \nQ 46.140625 10.84375 43.578125 6.953125 \nQ 41.015625 3.078125 36.171875 0.953125 \nQ 31.34375 -1.171875 25.25 -1.171875 \nQ 15.140625 -1.171875 9.84375 3.03125 \nQ 4.546875 7.234375 3.078125 15.484375 \nz\n\" id=\"ArialMT-115\"/>\n      <path d=\"M 42.09375 16.703125 \nL 51.171875 15.578125 \nQ 49.03125 7.625 43.21875 3.21875 \nQ 37.40625 -1.171875 28.375 -1.171875 \nQ 17 -1.171875 10.328125 5.828125 \nQ 3.65625 12.84375 3.65625 25.484375 \nQ 3.65625 38.578125 10.390625 45.796875 \nQ 17.140625 53.03125 27.875 53.03125 \nQ 38.28125 53.03125 44.875 45.953125 \nQ 51.46875 38.875 51.46875 26.03125 \nQ 51.46875 25.25 51.421875 23.6875 \nL 12.75 23.6875 \nQ 13.234375 15.140625 17.578125 10.59375 \nQ 21.921875 6.0625 28.421875 6.0625 \nQ 33.25 6.0625 36.671875 8.59375 \nQ 40.09375 11.140625 42.09375 16.703125 \nz\nM 13.234375 30.90625 \nL 42.1875 30.90625 \nQ 41.609375 37.453125 38.875 40.71875 \nQ 34.671875 45.796875 27.984375 45.796875 \nQ 21.921875 45.796875 17.796875 41.75 \nQ 13.671875 37.703125 13.234375 30.90625 \nz\n\" id=\"ArialMT-101\"/>\n      <path d=\"M 6.5 0 \nL 6.5 51.859375 \nL 14.40625 51.859375 \nL 14.40625 44 \nQ 17.4375 49.515625 20 51.265625 \nQ 22.5625 53.03125 25.640625 53.03125 \nQ 30.078125 53.03125 34.671875 50.203125 \nL 31.640625 42.046875 \nQ 28.421875 43.953125 25.203125 43.953125 \nQ 22.3125 43.953125 20.015625 42.21875 \nQ 17.71875 40.484375 16.75 37.40625 \nQ 15.28125 32.71875 15.28125 27.15625 \nL 15.28125 0 \nz\n\" id=\"ArialMT-114\"/>\n      <path id=\"ArialMT-32\"/>\n     </defs>\n     <g style=\"fill:#262626;\" transform=\"translate(787.656923 42.011024)scale(0.14994 -0.14994)\">\n      <use xlink:href=\"#ArialMT-85\"/>\n      <use x=\"72.216797\" xlink:href=\"#ArialMT-115\"/>\n      <use x=\"122.216797\" xlink:href=\"#ArialMT-101\"/>\n      <use x=\"177.832031\" xlink:href=\"#ArialMT-114\"/>\n      <use x=\"211.132812\" xlink:href=\"#ArialMT-32\"/>\n      <use x=\"238.916016\" xlink:href=\"#ArialMT-82\"/>\n      <use x=\"311.132812\" xlink:href=\"#ArialMT-97\"/>\n      <use x=\"366.748047\" xlink:href=\"#ArialMT-116\"/>\n      <use x=\"394.53125\" xlink:href=\"#ArialMT-105\"/>\n      <use x=\"416.748047\" xlink:href=\"#ArialMT-110\"/>\n      <use x=\"472.363281\" xlink:href=\"#ArialMT-103\"/>\n      <use x=\"527.978516\" xlink:href=\"#ArialMT-115\"/>\n     </g>\n    </g>\n    <g id=\"line2d_35\">\n     <path d=\"M 745.673723 58.148317 \nL 775.661722 58.148317 \n\" style=\"fill:none;stroke:#ee82ee;stroke-linecap:round;stroke-width:2;\"/>\n    </g>\n    <g id=\"line2d_36\"/>\n    <g id=\"text_12\">\n     <!-- Data Base Vote Average -->\n     <defs>\n      <path d=\"M 7.71875 0 \nL 7.71875 71.578125 \nL 32.375 71.578125 \nQ 40.71875 71.578125 45.125 70.5625 \nQ 51.265625 69.140625 55.609375 65.4375 \nQ 61.28125 60.640625 64.078125 53.1875 \nQ 66.890625 45.75 66.890625 36.1875 \nQ 66.890625 28.03125 64.984375 21.734375 \nQ 63.09375 15.4375 60.109375 11.296875 \nQ 57.125 7.171875 53.578125 4.796875 \nQ 50.046875 2.4375 45.046875 1.21875 \nQ 40.046875 0 33.546875 0 \nz\nM 17.1875 8.453125 \nL 32.46875 8.453125 \nQ 39.546875 8.453125 43.578125 9.765625 \nQ 47.609375 11.078125 50 13.484375 \nQ 53.375 16.84375 55.25 22.53125 \nQ 57.125 28.21875 57.125 36.328125 \nQ 57.125 47.5625 53.4375 53.59375 \nQ 49.75 59.625 44.484375 61.671875 \nQ 40.671875 63.140625 32.234375 63.140625 \nL 17.1875 63.140625 \nz\n\" id=\"ArialMT-68\"/>\n      <path d=\"M 7.328125 0 \nL 7.328125 71.578125 \nL 34.1875 71.578125 \nQ 42.390625 71.578125 47.34375 69.40625 \nQ 52.296875 67.234375 55.09375 62.71875 \nQ 57.90625 58.203125 57.90625 53.265625 \nQ 57.90625 48.6875 55.421875 44.625 \nQ 52.9375 40.578125 47.90625 38.09375 \nQ 54.390625 36.1875 57.875 31.59375 \nQ 61.375 27 61.375 20.75 \nQ 61.375 15.71875 59.25 11.390625 \nQ 57.125 7.078125 54 4.734375 \nQ 50.875 2.390625 46.15625 1.1875 \nQ 41.453125 0 34.625 0 \nz\nM 16.796875 41.5 \nL 32.28125 41.5 \nQ 38.578125 41.5 41.3125 42.328125 \nQ 44.921875 43.40625 46.75 45.890625 \nQ 48.578125 48.390625 48.578125 52.15625 \nQ 48.578125 55.71875 46.875 58.421875 \nQ 45.171875 61.140625 41.984375 62.140625 \nQ 38.8125 63.140625 31.109375 63.140625 \nL 16.796875 63.140625 \nz\nM 16.796875 8.453125 \nL 34.625 8.453125 \nQ 39.203125 8.453125 41.0625 8.796875 \nQ 44.34375 9.375 46.53125 10.734375 \nQ 48.734375 12.109375 50.140625 14.71875 \nQ 51.5625 17.328125 51.5625 20.75 \nQ 51.5625 24.75 49.515625 27.703125 \nQ 47.46875 30.671875 43.828125 31.859375 \nQ 40.1875 33.0625 33.34375 33.0625 \nL 16.796875 33.0625 \nz\n\" id=\"ArialMT-66\"/>\n      <path d=\"M 28.171875 0 \nL 0.4375 71.578125 \nL 10.6875 71.578125 \nL 29.296875 19.578125 \nQ 31.546875 13.328125 33.0625 7.859375 \nQ 34.71875 13.71875 36.921875 19.578125 \nL 56.25 71.578125 \nL 65.921875 71.578125 \nL 37.890625 0 \nz\n\" id=\"ArialMT-86\"/>\n      <path d=\"M 3.328125 25.921875 \nQ 3.328125 40.328125 11.328125 47.265625 \nQ 18.015625 53.03125 27.640625 53.03125 \nQ 38.328125 53.03125 45.109375 46.015625 \nQ 51.90625 39.015625 51.90625 26.65625 \nQ 51.90625 16.65625 48.90625 10.90625 \nQ 45.90625 5.171875 40.15625 2 \nQ 34.421875 -1.171875 27.640625 -1.171875 \nQ 16.75 -1.171875 10.03125 5.8125 \nQ 3.328125 12.796875 3.328125 25.921875 \nz\nM 12.359375 25.921875 \nQ 12.359375 15.96875 16.703125 11.015625 \nQ 21.046875 6.0625 27.640625 6.0625 \nQ 34.1875 6.0625 38.53125 11.03125 \nQ 42.875 16.015625 42.875 26.21875 \nQ 42.875 35.84375 38.5 40.796875 \nQ 34.125 45.75 27.640625 45.75 \nQ 21.046875 45.75 16.703125 40.8125 \nQ 12.359375 35.890625 12.359375 25.921875 \nz\n\" id=\"ArialMT-111\"/>\n      <path d=\"M -0.140625 0 \nL 27.34375 71.578125 \nL 37.546875 71.578125 \nL 66.84375 0 \nL 56.0625 0 \nL 47.703125 21.6875 \nL 17.78125 21.6875 \nL 9.90625 0 \nz\nM 20.515625 29.390625 \nL 44.78125 29.390625 \nL 37.3125 49.21875 \nQ 33.890625 58.25 32.234375 64.0625 \nQ 30.859375 57.171875 28.375 50.390625 \nz\n\" id=\"ArialMT-65\"/>\n      <path d=\"M 21 0 \nL 1.265625 51.859375 \nL 10.546875 51.859375 \nL 21.6875 20.796875 \nQ 23.484375 15.765625 25 10.359375 \nQ 26.171875 14.453125 28.265625 20.21875 \nL 39.796875 51.859375 \nL 48.828125 51.859375 \nL 29.203125 0 \nz\n\" id=\"ArialMT-118\"/>\n     </defs>\n     <g style=\"fill:#262626;\" transform=\"translate(787.656923 63.396217)scale(0.14994 -0.14994)\">\n      <use xlink:href=\"#ArialMT-68\"/>\n      <use x=\"72.216797\" xlink:href=\"#ArialMT-97\"/>\n      <use x=\"127.832031\" xlink:href=\"#ArialMT-116\"/>\n      <use x=\"155.615234\" xlink:href=\"#ArialMT-97\"/>\n      <use x=\"211.230469\" xlink:href=\"#ArialMT-32\"/>\n      <use x=\"239.013672\" xlink:href=\"#ArialMT-66\"/>\n      <use x=\"305.712891\" xlink:href=\"#ArialMT-97\"/>\n      <use x=\"361.328125\" xlink:href=\"#ArialMT-115\"/>\n      <use x=\"411.328125\" xlink:href=\"#ArialMT-101\"/>\n      <use x=\"466.943359\" xlink:href=\"#ArialMT-32\"/>\n      <use x=\"494.726562\" xlink:href=\"#ArialMT-86\"/>\n      <use x=\"555.925781\" xlink:href=\"#ArialMT-111\"/>\n      <use x=\"611.541016\" xlink:href=\"#ArialMT-116\"/>\n      <use x=\"639.324219\" xlink:href=\"#ArialMT-101\"/>\n      <use x=\"694.939453\" xlink:href=\"#ArialMT-32\"/>\n      <use x=\"717.222656\" xlink:href=\"#ArialMT-65\"/>\n      <use x=\"782.171875\" xlink:href=\"#ArialMT-118\"/>\n      <use x=\"832.171875\" xlink:href=\"#ArialMT-101\"/>\n      <use x=\"887.787109\" xlink:href=\"#ArialMT-114\"/>\n      <use x=\"921.087891\" xlink:href=\"#ArialMT-97\"/>\n      <use x=\"976.703125\" xlink:href=\"#ArialMT-103\"/>\n      <use x=\"1032.318359\" xlink:href=\"#ArialMT-101\"/>\n     </g>\n    </g>\n   </g>\n  </g>\n  <g id=\"text_13\">\n   <!-- Comparison between User Rating and Movie Database Average Ratings -->\n   <defs>\n    <path d=\"M 58.796875 25.09375 \nL 68.265625 22.703125 \nQ 65.28125 11.03125 57.546875 4.90625 \nQ 49.8125 -1.21875 38.625 -1.21875 \nQ 27.046875 -1.21875 19.796875 3.484375 \nQ 12.546875 8.203125 8.765625 17.140625 \nQ 4.984375 26.078125 4.984375 36.328125 \nQ 4.984375 47.515625 9.25 55.828125 \nQ 13.53125 64.15625 21.40625 68.46875 \nQ 29.296875 72.796875 38.765625 72.796875 \nQ 49.515625 72.796875 56.828125 67.328125 \nQ 64.15625 61.859375 67.046875 51.953125 \nL 57.71875 49.75 \nQ 55.21875 57.5625 50.484375 61.125 \nQ 45.75 64.703125 38.578125 64.703125 \nQ 30.328125 64.703125 24.78125 60.734375 \nQ 19.234375 56.78125 16.984375 50.109375 \nQ 14.75 43.453125 14.75 36.375 \nQ 14.75 27.25 17.40625 20.4375 \nQ 20.0625 13.625 25.671875 10.25 \nQ 31.296875 6.890625 37.84375 6.890625 \nQ 45.796875 6.890625 51.3125 11.46875 \nQ 56.84375 16.0625 58.796875 25.09375 \nz\n\" id=\"ArialMT-67\"/>\n    <path d=\"M 6.59375 0 \nL 6.59375 51.859375 \nL 14.453125 51.859375 \nL 14.453125 44.578125 \nQ 16.890625 48.390625 20.9375 50.703125 \nQ 25 53.03125 30.171875 53.03125 \nQ 35.9375 53.03125 39.625 50.640625 \nQ 43.3125 48.25 44.828125 43.953125 \nQ 50.984375 53.03125 60.84375 53.03125 \nQ 68.5625 53.03125 72.703125 48.75 \nQ 76.859375 44.484375 76.859375 35.59375 \nL 76.859375 0 \nL 68.109375 0 \nL 68.109375 32.671875 \nQ 68.109375 37.9375 67.25 40.25 \nQ 66.40625 42.578125 64.15625 43.984375 \nQ 61.921875 45.40625 58.890625 45.40625 \nQ 53.421875 45.40625 49.796875 41.765625 \nQ 46.1875 38.140625 46.1875 30.125 \nL 46.1875 0 \nL 37.40625 0 \nL 37.40625 33.6875 \nQ 37.40625 39.546875 35.25 42.46875 \nQ 33.109375 45.40625 28.21875 45.40625 \nQ 24.515625 45.40625 21.359375 43.453125 \nQ 18.21875 41.5 16.796875 37.734375 \nQ 15.375 33.984375 15.375 26.90625 \nL 15.375 0 \nz\n\" id=\"ArialMT-109\"/>\n    <path d=\"M 6.59375 -19.875 \nL 6.59375 51.859375 \nL 14.59375 51.859375 \nL 14.59375 45.125 \nQ 17.4375 49.078125 21 51.046875 \nQ 24.5625 53.03125 29.640625 53.03125 \nQ 36.28125 53.03125 41.359375 49.609375 \nQ 46.4375 46.1875 49.015625 39.953125 \nQ 51.609375 33.734375 51.609375 26.3125 \nQ 51.609375 18.359375 48.75 11.984375 \nQ 45.90625 5.609375 40.453125 2.21875 \nQ 35.015625 -1.171875 29 -1.171875 \nQ 24.609375 -1.171875 21.109375 0.6875 \nQ 17.625 2.546875 15.375 5.375 \nL 15.375 -19.875 \nz\nM 14.546875 25.640625 \nQ 14.546875 15.625 18.59375 10.84375 \nQ 22.65625 6.0625 28.421875 6.0625 \nQ 34.28125 6.0625 38.453125 11.015625 \nQ 42.625 15.96875 42.625 26.375 \nQ 42.625 36.28125 38.546875 41.203125 \nQ 34.46875 46.140625 28.8125 46.140625 \nQ 23.1875 46.140625 18.859375 40.890625 \nQ 14.546875 35.640625 14.546875 25.640625 \nz\n\" id=\"ArialMT-112\"/>\n    <path d=\"M 14.703125 0 \nL 6.546875 0 \nL 6.546875 71.578125 \nL 15.328125 71.578125 \nL 15.328125 46.046875 \nQ 20.90625 53.03125 29.546875 53.03125 \nQ 34.328125 53.03125 38.59375 51.09375 \nQ 42.875 49.171875 45.625 45.671875 \nQ 48.390625 42.1875 49.953125 37.25 \nQ 51.515625 32.328125 51.515625 26.703125 \nQ 51.515625 13.375 44.921875 6.09375 \nQ 38.328125 -1.171875 29.109375 -1.171875 \nQ 19.921875 -1.171875 14.703125 6.5 \nz\nM 14.59375 26.3125 \nQ 14.59375 17 17.140625 12.84375 \nQ 21.296875 6.0625 28.375 6.0625 \nQ 34.125 6.0625 38.328125 11.0625 \nQ 42.53125 16.0625 42.53125 25.984375 \nQ 42.53125 36.140625 38.5 40.96875 \nQ 34.46875 45.796875 28.765625 45.796875 \nQ 23 45.796875 18.796875 40.796875 \nQ 14.59375 35.796875 14.59375 26.3125 \nz\n\" id=\"ArialMT-98\"/>\n    <path d=\"M 16.15625 0 \nL 0.296875 51.859375 \nL 9.375 51.859375 \nL 17.625 21.921875 \nL 20.703125 10.796875 \nQ 20.90625 11.625 23.390625 21.484375 \nL 31.640625 51.859375 \nL 40.671875 51.859375 \nL 48.4375 21.78125 \nL 51.03125 11.859375 \nL 54 21.875 \nL 62.890625 51.859375 \nL 71.4375 51.859375 \nL 55.21875 0 \nL 46.09375 0 \nL 37.84375 31.0625 \nL 35.84375 39.890625 \nL 25.34375 0 \nz\n\" id=\"ArialMT-119\"/>\n    <path d=\"M 40.234375 0 \nL 40.234375 6.546875 \nQ 35.296875 -1.171875 25.734375 -1.171875 \nQ 19.53125 -1.171875 14.328125 2.25 \nQ 9.125 5.671875 6.265625 11.796875 \nQ 3.421875 17.921875 3.421875 25.875 \nQ 3.421875 33.640625 6 39.96875 \nQ 8.59375 46.296875 13.765625 49.65625 \nQ 18.953125 53.03125 25.34375 53.03125 \nQ 30.03125 53.03125 33.6875 51.046875 \nQ 37.359375 49.078125 39.65625 45.90625 \nL 39.65625 71.578125 \nL 48.390625 71.578125 \nL 48.390625 0 \nz\nM 12.453125 25.875 \nQ 12.453125 15.921875 16.640625 10.984375 \nQ 20.84375 6.0625 26.5625 6.0625 \nQ 32.328125 6.0625 36.34375 10.765625 \nQ 40.375 15.484375 40.375 25.140625 \nQ 40.375 35.796875 36.265625 40.765625 \nQ 32.171875 45.75 26.171875 45.75 \nQ 20.3125 45.75 16.375 40.96875 \nQ 12.453125 36.1875 12.453125 25.875 \nz\n\" id=\"ArialMT-100\"/>\n    <path d=\"M 7.421875 0 \nL 7.421875 71.578125 \nL 21.6875 71.578125 \nL 38.625 20.90625 \nQ 40.96875 13.8125 42.046875 10.296875 \nQ 43.265625 14.203125 45.84375 21.78125 \nL 62.984375 71.578125 \nL 75.734375 71.578125 \nL 75.734375 0 \nL 66.609375 0 \nL 66.609375 59.90625 \nL 45.796875 0 \nL 37.25 0 \nL 16.546875 60.9375 \nL 16.546875 0 \nz\n\" id=\"ArialMT-77\"/>\n   </defs>\n   <g style=\"fill:#262626;\" transform=\"translate(127.87625 18.8475)scale(0.16 -0.16)\">\n    <use xlink:href=\"#ArialMT-67\"/>\n    <use x=\"72.216797\" xlink:href=\"#ArialMT-111\"/>\n    <use x=\"127.832031\" xlink:href=\"#ArialMT-109\"/>\n    <use x=\"211.132812\" xlink:href=\"#ArialMT-112\"/>\n    <use x=\"266.748047\" xlink:href=\"#ArialMT-97\"/>\n    <use x=\"322.363281\" xlink:href=\"#ArialMT-114\"/>\n    <use x=\"355.664062\" xlink:href=\"#ArialMT-105\"/>\n    <use x=\"377.880859\" xlink:href=\"#ArialMT-115\"/>\n    <use x=\"427.880859\" xlink:href=\"#ArialMT-111\"/>\n    <use x=\"483.496094\" xlink:href=\"#ArialMT-110\"/>\n    <use x=\"539.111328\" xlink:href=\"#ArialMT-32\"/>\n    <use x=\"566.894531\" xlink:href=\"#ArialMT-98\"/>\n    <use x=\"622.509766\" xlink:href=\"#ArialMT-101\"/>\n    <use x=\"678.125\" xlink:href=\"#ArialMT-116\"/>\n    <use x=\"705.908203\" xlink:href=\"#ArialMT-119\"/>\n    <use x=\"778.125\" xlink:href=\"#ArialMT-101\"/>\n    <use x=\"833.740234\" xlink:href=\"#ArialMT-101\"/>\n    <use x=\"889.355469\" xlink:href=\"#ArialMT-110\"/>\n    <use x=\"944.970703\" xlink:href=\"#ArialMT-32\"/>\n    <use x=\"972.753906\" xlink:href=\"#ArialMT-85\"/>\n    <use x=\"1044.970703\" xlink:href=\"#ArialMT-115\"/>\n    <use x=\"1094.970703\" xlink:href=\"#ArialMT-101\"/>\n    <use x=\"1150.585938\" xlink:href=\"#ArialMT-114\"/>\n    <use x=\"1183.886719\" xlink:href=\"#ArialMT-32\"/>\n    <use x=\"1211.669922\" xlink:href=\"#ArialMT-82\"/>\n    <use x=\"1283.886719\" xlink:href=\"#ArialMT-97\"/>\n    <use x=\"1339.501953\" xlink:href=\"#ArialMT-116\"/>\n    <use x=\"1367.285156\" xlink:href=\"#ArialMT-105\"/>\n    <use x=\"1389.501953\" xlink:href=\"#ArialMT-110\"/>\n    <use x=\"1445.117188\" xlink:href=\"#ArialMT-103\"/>\n    <use x=\"1500.732422\" xlink:href=\"#ArialMT-32\"/>\n    <use x=\"1528.515625\" xlink:href=\"#ArialMT-97\"/>\n    <use x=\"1584.130859\" xlink:href=\"#ArialMT-110\"/>\n    <use x=\"1639.746094\" xlink:href=\"#ArialMT-100\"/>\n    <use x=\"1695.361328\" xlink:href=\"#ArialMT-32\"/>\n    <use x=\"1723.144531\" xlink:href=\"#ArialMT-77\"/>\n    <use x=\"1806.445312\" xlink:href=\"#ArialMT-111\"/>\n    <use x=\"1862.060547\" xlink:href=\"#ArialMT-118\"/>\n    <use x=\"1912.060547\" xlink:href=\"#ArialMT-105\"/>\n    <use x=\"1934.277344\" xlink:href=\"#ArialMT-101\"/>\n    <use x=\"1989.892578\" xlink:href=\"#ArialMT-32\"/>\n    <use x=\"2017.675781\" xlink:href=\"#ArialMT-68\"/>\n    <use x=\"2089.892578\" xlink:href=\"#ArialMT-97\"/>\n    <use x=\"2145.507812\" xlink:href=\"#ArialMT-116\"/>\n    <use x=\"2173.291016\" xlink:href=\"#ArialMT-97\"/>\n    <use x=\"2228.90625\" xlink:href=\"#ArialMT-98\"/>\n    <use x=\"2284.521484\" xlink:href=\"#ArialMT-97\"/>\n    <use x=\"2340.136719\" xlink:href=\"#ArialMT-115\"/>\n    <use x=\"2390.136719\" xlink:href=\"#ArialMT-101\"/>\n    <use x=\"2445.751953\" xlink:href=\"#ArialMT-32\"/>\n    <use x=\"2468.035156\" xlink:href=\"#ArialMT-65\"/>\n    <use x=\"2532.984375\" xlink:href=\"#ArialMT-118\"/>\n    <use x=\"2582.984375\" xlink:href=\"#ArialMT-101\"/>\n    <use x=\"2638.599609\" xlink:href=\"#ArialMT-114\"/>\n    <use x=\"2671.900391\" xlink:href=\"#ArialMT-97\"/>\n    <use x=\"2727.515625\" xlink:href=\"#ArialMT-103\"/>\n    <use x=\"2783.130859\" xlink:href=\"#ArialMT-101\"/>\n    <use x=\"2838.746094\" xlink:href=\"#ArialMT-32\"/>\n    <use x=\"2866.529297\" xlink:href=\"#ArialMT-82\"/>\n    <use x=\"2938.746094\" xlink:href=\"#ArialMT-97\"/>\n    <use x=\"2994.361328\" xlink:href=\"#ArialMT-116\"/>\n    <use x=\"3022.144531\" xlink:href=\"#ArialMT-105\"/>\n    <use x=\"3044.361328\" xlink:href=\"#ArialMT-110\"/>\n    <use x=\"3099.976562\" xlink:href=\"#ArialMT-103\"/>\n    <use x=\"3155.591797\" xlink:href=\"#ArialMT-115\"/>\n   </g>\n  </g>\n </g>\n <defs>\n  <clipPath id=\"p80bc1dc1ea\">\n   <rect height=\"326.16\" width=\"334.8\" x=\"60.3075\" y=\"50.4\"/>\n  </clipPath>\n  <clipPath id=\"peaa46987dd\">\n   <rect height=\"326.16\" width=\"334.8\" x=\"395.1075\" y=\"50.4\"/>\n  </clipPath>\n </defs>\n</svg>\n",
      "image/png": "[encoded data removed]"
     },
     "metadata": {}
    }
   ],
   "source": [
    "fig, axs = plt.subplots(ncols=2, figsize = (12,6), sharey=True)\n",
    "fig.suptitle(\"Comparison between User Rating and Movie Database Average Ratings\", fontsize=16)\n",
    "plt.subplots_adjust(wspace=0, hspace=0)\n",
    "plt.ylim(1,5)\n",
    "sns.set_context(\"notebook\", font_scale=1.5, rc={\"lines.linewidth\": 2})\n",
    "sns.despine(left= True)\n",
    "sns.set_style(\"whitegrid\")\n",
    "\n",
    "\n",
    "\n",
    "user_boxplot = sns.boxplot(y = base[\"Rating\"], \n",
    "                            color=\"lightskyblue\", \n",
    "                            showmeans=True, \n",
    "                            meanprops= {\"marker\":\"o\",\n",
    "                                        \"markerfacecolor\":\"white\", \n",
    "                                        \"markeredgecolor\":\"black\", \n",
    "                                        \"markersize\":\"7\"},\n",
    "                            medianprops = {\"color\":\"orange\", \n",
    "                                           \"linestyle\":\"--\"}, \n",
    "                            ax=axs[0])\n",
    "\n",
    "\n",
    "database_boxplot = sns.boxplot(y = base[\"Vote Average\"], \n",
    "                           color=\"violet\", \n",
    "                           showmeans=True,\n",
    "                           meanprops= {\"marker\":\"o\",\n",
    "                                       \"markerfacecolor\":\"white\", \n",
    "                                       \"markeredgecolor\":\"black\", \n",
    "                                       \"markersize\":\"7\"},\n",
    "                           medianprops = {\"color\":\"springgreen\", \n",
    "                                          \"linestyle\":\"--\"},\n",
    "  \n",
    "                           ax=axs[1]).set(ylabel=None)\n",
    "\n",
    "legend = plt.legend(loc='upper right', labels=['User Ratings', 'Data Base Vote Average'], bbox_to_anchor=(1.7, 1.1), fontsize = \"small\")\n",
    "legend.legendHandles[0].set_color('lightskyblue')\n",
    "legend.legendHandles[1].set_color('violet')\n",
    "\n",
    "\n",
    "plt.savefig(\"Graphs/Boxplot_Ratings\")"
   ]
  },
  {
   "cell_type": "markdown",
   "metadata": {},
   "source": [
    "# Transform the genres in a Series of genres and  Genres x Rating x Vote Average"
   ]
  },
  {
   "cell_type": "code",
   "execution_count": null,
   "metadata": {
    "tags": []
   },
   "outputs": [],
   "source": [
    "df_genres_id= pd.Series(base[\"Genres\"].values, index = base[\"ID\"], name = \"Genres\")\n",
    "split_genres = df_genres_id.str.split(\"|\", expand = False)\n",
    "genres_explode = split_genres.explode()\n",
    "\n",
    "genres_explode"
   ]
  },
  {
   "cell_type": "code",
   "execution_count": null,
   "metadata": {},
   "outputs": [],
   "source": [
    "df_genres = genres_explode.to_frame()\n",
    "df_genres.reset_index(level=0, inplace=True)\n",
    "genres_count = genres_explode.value_counts()\n",
    "\n",
    "genres_unique = df_genres[\"Genres\"].unique()\n"
   ]
  },
  {
   "cell_type": "code",
   "execution_count": null,
   "metadata": {},
   "outputs": [],
   "source": [
    "merge_data = df_genres.merge(base[['ID','Rating', 'Vote Average']], \n",
    "           on = \"ID\",\n",
    "           how='left')   \n",
    "by_genres = merge_data.groupby(\"Genres\")   "
   ]
  },
  {
   "cell_type": "code",
   "execution_count": null,
   "metadata": {},
   "outputs": [],
   "source": [
    "merge_data\n",
    "merge_data.to_csv(\"Merge Data.csv\", index=False)"
   ]
  },
  {
   "cell_type": "code",
   "execution_count": null,
   "metadata": {
    "tags": []
   },
   "outputs": [],
   "source": [
    "sns.set(style='white')\n",
    "sns.despine(right=True, left=True)\n",
    "\n",
    "\n",
    "bins = [0.5, 1, 1.5, 2, 2.5, 3, 3.5, 4, 4.5, 5, 5.5]\n",
    "\n",
    "g = sns.FacetGrid(merge_data, col = \"Genres\", col_wrap= 6, sharex= False, sharey= False)\n",
    "g = g.map(plt.hist, \"Rating\", color = \"violet\", bins = bins, alpha = 0.5)\n",
    "g = g.map(plt.hist, \"Vote Average\", color = \"lightskyblue\", bins = bins, alpha = 0.5)\n",
    "\n",
    "g.set(xlim=(0, 6))\n",
    "g.set_titles(\"{col_name}\")\n",
    "g.set_axis_labels(\"Votes\", \"Occorences\")\n",
    "\n",
    "\n",
    "plt.legend(loc='upper center', labels=['User Rating', 'Data Base Rating'], bbox_to_anchor=(1.5, 3.2), fontsize = \"large\")"
   ]
  },
  {
   "cell_type": "code",
   "execution_count": null,
   "metadata": {},
   "outputs": [],
   "source": [
    "merge_data.Genres.value_counts()"
   ]
  },
  {
   "cell_type": "code",
   "execution_count": null,
   "metadata": {},
   "outputs": [],
   "source": [
    "genres_unique"
   ]
  },
  {
   "cell_type": "markdown",
   "metadata": {},
   "source": [
    "# Year x Rating\n",
    "\n",
    "* Deixar esse gráfico legal - decidir se vou realmente usar\n",
    "* Arrumar o hue\n",
    "* Tentar colocar uma colorbar somente nos valores de vote average relacionando com vote count"
   ]
  },
  {
   "cell_type": "code",
   "execution_count": null,
   "metadata": {
    "tags": []
   },
   "outputs": [],
   "source": [
    "sns.set(rc={\"figure.figsize\": (12,10)},font_scale=1.5)\n",
    "sns.set_style(\"white\")\n",
    "\n",
    "\n",
    "user_ratings= sns.scatterplot(x = base[\"Rating\"], \n",
    "                y = base[\"Year\"],\n",
    "                s = 200,\n",
    "                color = \"green\"\n",
    "                )\n",
    "\n",
    "database_rating = sns.scatterplot(x = base[\"Vote Average\"], \n",
    "                y = base[\"Year\"],\n",
    "                s = 200,\n",
    "                hue = base[\"Vote Average\"]\n",
    "                )\n",
    "\n",
    "#cbar = plt.colorbar(database_rating) \n",
    "\n",
    "user_ratings.set(xlabel='Rating', ylabel='Year')\n",
    "\n",
    "plt.savefig(\"Graphs/Year_Rating\")"
   ]
  },
  {
   "cell_type": "markdown",
   "metadata": {},
   "source": [
    "# WordCloud dos generos"
   ]
  },
  {
   "cell_type": "code",
   "execution_count": null,
   "metadata": {},
   "outputs": [],
   "source": [
    "all_genres = \" \".join(s for s in genres_explode).strip()\n",
    "\n",
    "all_genres"
   ]
  },
  {
   "cell_type": "code",
   "execution_count": null,
   "metadata": {},
   "outputs": [],
   "source": [
    "all_genres = \" \".join(s for s in genres_explode)\n",
    "\n",
    "\n",
    "wordcloud = WordCloud(background_color=\"black\",\n",
    "                      font_path='Andale Mono',\n",
    "                      width=1600, height=800,\n",
    "                      collocations=False,\n",
    "                      colormap = \"viridis\").generate(all_genres)\n",
    "\n",
    "plt.figure(figsize=(20,10))\n",
    "plt.imshow(wordcloud, interpolation='bilinear')\n",
    "plt.tight_layout(pad=0)\n",
    "plt.axis(\"off\")\n",
    "\n",
    "plt.savefig(\"Graphs/WordCloud\")"
   ]
  },
  {
   "cell_type": "code",
   "execution_count": null,
   "metadata": {},
   "outputs": [],
   "source": [
    "wordcloud.words_"
   ]
  },
  {
   "cell_type": "markdown",
   "metadata": {},
   "source": [
    "Provavelmente não vou usar esse gráfico"
   ]
  },
  {
   "cell_type": "code",
   "execution_count": null,
   "metadata": {},
   "outputs": [],
   "source": [
    "palette = sns.color_palette(\"PiYG_r\", 18)\n",
    "sns.set_context(\"notebook\", font_scale=1.2, rc={\"lines.linewidth\": 2})\n",
    "sns.set(rc={'figure.figsize':(10,6)})\n",
    "\n",
    "\n",
    "barplot = sns.barplot(genres_count.index,\n",
    "                      genres_count.values,\n",
    "                      palette = palette\n",
    "                      )\n",
    "\n",
    "plt.xticks(rotation=45, fontsize=12, ha = \"right\")\n",
    "plt.yticks(fontsize=12)"
   ]
  },
  {
   "cell_type": "markdown",
   "metadata": {},
   "source": [
    "# Top 10 voted movies"
   ]
  },
  {
   "cell_type": "code",
   "execution_count": null,
   "metadata": {
    "tags": []
   },
   "outputs": [],
   "source": [
    "vote_count = base.sort_values(\"Vote Count\", ascending= False)\n",
    "top_voted = vote_count.head(n =10)\n",
    "\n",
    "top_voted"
   ]
  },
  {
   "cell_type": "code",
   "execution_count": null,
   "metadata": {},
   "outputs": [],
   "source": [
    "palette = sns.color_palette(\"Purples_r\", 10)\n",
    "sns.set_context(\"notebook\", font_scale=1.2, rc={\"lines.linewidth\": 2})\n",
    "sns.set(rc={'figure.figsize':(10,6)})\n",
    "\n",
    "\n",
    "barplot = sns.barplot(x= top_voted[\"Vote Count\"],\n",
    "                      y = top_voted[\"Movie\"], \n",
    "                      palette = palette,\n",
    "                      orient = \"h\").set(ylabel = None)\n",
    "\n",
    "plt.xticks(rotation=45, fontsize=12, ha = \"center\")\n",
    "plt.yticks(fontsize=12)\n",
    "\n",
    "plt.savefig(plt.savefig(\"Graphs/Top Voted Movies\"), bbox_inches='tight')"
   ]
  },
  {
   "cell_type": "markdown",
   "metadata": {},
   "source": [
    "# Top 10 rated movies"
   ]
  },
  {
   "cell_type": "code",
   "execution_count": null,
   "metadata": {},
   "outputs": [],
   "source": [
    "vote = base.sort_values(\"Vote Average\", ascending= False)\n",
    "top_rated = vote.head(n =10)\n",
    "\n",
    "top_rated"
   ]
  },
  {
   "cell_type": "markdown",
   "metadata": {},
   "source": [
    "# Linear regression between Budget and Profit\n",
    "\n",
    "* Trying to discover if it is possible to predict the Profit by the Revenue - any relationship"
   ]
  },
  {
   "cell_type": "code",
   "execution_count": null,
   "metadata": {},
   "outputs": [],
   "source": [
    "base.corr()"
   ]
  },
  {
   "cell_type": "code",
   "execution_count": null,
   "metadata": {},
   "outputs": [],
   "source": [
    "max_thresold = base[\"Budget\"].quantile(0.95)\n",
    "min_thresold = base[\"Budget\"].quantile(0.05)"
   ]
  },
  {
   "cell_type": "code",
   "execution_count": null,
   "metadata": {},
   "outputs": [],
   "source": [
    "max_thresold\n"
   ]
  },
  {
   "cell_type": "code",
   "execution_count": null,
   "metadata": {},
   "outputs": [],
   "source": [
    "base.sort_values(\"Profit\", ascending= False).head(10)"
   ]
  },
  {
   "cell_type": "code",
   "execution_count": null,
   "metadata": {},
   "outputs": [],
   "source": [
    "base.describe()"
   ]
  },
  {
   "cell_type": "code",
   "execution_count": null,
   "metadata": {},
   "outputs": [],
   "source": [
    "base.sort_values(\"Budget\",ascending = False).head(10)\n",
    "base.sort_values(\"Revenue\",ascending = False).head(10)"
   ]
  },
  {
   "cell_type": "markdown",
   "metadata": {},
   "source": [
    "* Ver se esse gráfico abaixo vai ser interessante e se sim, inverter a ordem dos filmes"
   ]
  },
  {
   "cell_type": "code",
   "execution_count": null,
   "metadata": {},
   "outputs": [],
   "source": [
    "plt.xscale('log')\n",
    "plt.xlim(10000,10000000000)\n",
    "plt.xticks([1e5,1e6, 1e7, 1e8, 1e9, 1e10])\n",
    "sns.set_style(\"white\")\n",
    "\n",
    "budget = base.sort_values(\"Budget\", ascending = False).iloc[0:20]\n",
    "\n",
    "\n",
    "lollipop = plt.hlines(budget[\"Movie\"], \n",
    "          xmin=base[\"Budget\"], \n",
    "          xmax=base['Revenue'],\n",
    "          color = \"navy\",\n",
    "          )"
   ]
  },
  {
   "cell_type": "code",
   "execution_count": null,
   "metadata": {},
   "outputs": [],
   "source": [
    "base.sort_values(\"Budget\", ascending= False).head(20)"
   ]
  },
  {
   "cell_type": "markdown",
   "metadata": {},
   "source": [
    "# Relation between Year and Revenue\n",
    "\n",
    "* Melhorar o hue (eixo)"
   ]
  },
  {
   "cell_type": "code",
   "execution_count": null,
   "metadata": {
    "tags": []
   },
   "outputs": [],
   "source": [
    "plt.yscale(\"log\")\n",
    "sns.set_context(\"notebook\", font_scale=1.2)\n",
    "sns.set(rc = {\"figure.figsize\":(12,8)})\n",
    "\n",
    "\n",
    "# sns.scatterplot(data = base, \n",
    "#                 x = \"Year\", \n",
    "#                 y = \"Budget\",\n",
    "#                 alpha=.6,\n",
    "#                 color = \"darkviolet\",\n",
    "#                 s = 150,\n",
    "#                 marker = \"X\")\n",
    "\n",
    "sns.scatterplot(data = base, \n",
    "                x = \"Year\", \n",
    "                y = \"Revenue\",\n",
    "                alpha=1,\n",
    "                color = \"navy\",\n",
    "                s = 150,\n",
    "                hue = \"Rating\"\n",
    "                )\n",
    "\n",
    "\n",
    "plt.ylim(100000,10000000000)\n",
    "plt.yticks([1e6, 1e7, 1e8, 1e9, 1e10])\n",
    "plt.xlim(1940,2020, 10)\n"
   ]
  },
  {
   "cell_type": "code",
   "execution_count": null,
   "metadata": {},
   "outputs": [],
   "source": [
    "#mask = np.triu(base.corr())\n",
    "values = base[[\"Year\", \"Rating\",\"Runtime\", \"Vote Average\", \"Vote Count\", \"Budget\", \"Revenue\", \"Profit\"]]\n",
    "sns.set(rc={'figure.figsize':(10,6)})\n",
    "\n",
    "#creating the colormap\n",
    "cmap = sns.diverging_palette(0, 230, 90, 60, as_cmap=True)\n",
    "\n",
    "\n",
    "sns.heatmap(values.corr(), \n",
    "            annot = True, \n",
    "            vmin=-1, vmax=1, center= 0, \n",
    "            cmap= cmap,\n",
    "            cbar_kws = {\"ticks\":[-1, -.5,0,.5,1]}\n",
    "            )\n",
    "            \n",
    "plt.xticks(rotation = 45, ha = \"center\")\n",
    "\n",
    "\n",
    "plt.savefig(\"Graphs/Correlation Heatmap\")"
   ]
  }
 ],
 "metadata": {
  "language_info": {
   "codemirror_mode": {
    "name": "ipython",
    "version": 3
   },
   "file_extension": ".py",
   "mimetype": "text/x-python",
   "name": "python",
   "nbconvert_exporter": "python",
   "pygments_lexer": "ipython3",
   "version": "3.7.3-final"
  },
  "orig_nbformat": 2,
  "kernelspec": {
   "name": "python_defaultSpec_1598290210961",
   "display_name": "Python 3.7.3 64-bit"
  }
 },
 "nbformat": 4,
 "nbformat_minor": 2
}