{
 "cells": [
  {
   "cell_type": "code",
   "execution_count": null,
   "metadata": {},
   "outputs": [],
   "source": [
    "# Data Wrangling libraries\n",
    "import pandas as pd \n",
    "import numpy as np \n",
    "\n",
    "# Data Visualization libraries\n",
    "import seaborn as sns\n",
    "import matplotlib.pyplot as plt\n",
    "from PIL import Image\n",
    "from wordcloud import WordCloud, ImageColorGenerator\n",
    "import matplotlib.ticker as ticker\n",
    "\n",
    "# Machine Learning libraries\n",
    "from sklearn.linear_model import LinearRegression\n",
    "from sklearn.model_selection import train_test_split\n",
    "\n",
    "# Graph style\n",
    "#sns.set_style(\"whitegrid\")\n",
    "\n",
    "\n",
    "from itertools import chain\n",
    "\n",
    "\n",
    "import os\n",
    "import shutil  \n",
    "from os import path"
   ]
  },
  {
   "cell_type": "code",
   "execution_count": null,
   "metadata": {},
   "outputs": [],
   "source": [
    "base = pd.read_csv(\"Movies_new.csv\")"
   ]
  },
  {
   "cell_type": "markdown",
   "metadata": {},
   "source": [
    "Describe function show that the Budget and Revenue columns has 0 as a min values, however, the info() function showed that there isnt any NaN value"
   ]
  },
  {
   "cell_type": "code",
   "execution_count": null,
   "metadata": {
    "tags": []
   },
   "outputs": [],
   "source": [
    "base.count()\n",
    "base.isnull().sum()"
   ]
  },
  {
   "cell_type": "markdown",
   "metadata": {},
   "source": [
    "This function replace all 0 value to NaN and then it is possible to fill this values with the median of the specific column"
   ]
  },
  {
   "cell_type": "code",
   "execution_count": null,
   "metadata": {
    "tags": []
   },
   "outputs": [],
   "source": [
    "replace = base.replace(0, np.nan, inplace=True)"
   ]
  },
  {
   "cell_type": "code",
   "execution_count": null,
   "metadata": {},
   "outputs": [],
   "source": [
    "budget_median = base.Budget.median()\n",
    "revenue_median = base.Revenue.median()"
   ]
  },
  {
   "cell_type": "code",
   "execution_count": null,
   "metadata": {},
   "outputs": [],
   "source": [
    "base[\"Budget\"].fillna(budget_median, inplace = True)\n",
    "base[\"Revenue\"].fillna(revenue_median, inplace = True)"
   ]
  },
  {
   "cell_type": "code",
   "execution_count": null,
   "metadata": {},
   "outputs": [],
   "source": [
    "base[\"Profit\"] = base[\"Revenue\"] - base[\"Budget\"]\n",
    "base.to_csv(\"Movies_profit.csv\", index=False)"
   ]
  },
  {
   "cell_type": "markdown",
   "metadata": {},
   "source": [
    "# Graph Analysis"
   ]
  },
  {
   "cell_type": "markdown",
   "metadata": {},
   "source": [
    "# Boxplot comparing user rating and movies database average ratings"
   ]
  },
  {
   "cell_type": "code",
   "execution_count": null,
   "metadata": {},
   "outputs": [],
   "source": [
    "fig, axs = plt.subplots(ncols=2, figsize = (12,6), sharey=True)\n",
    "fig.suptitle(\"Comparison between User Rating and Movie Database Average Ratings\", fontsize=16)\n",
    "plt.subplots_adjust(wspace=0, hspace=0)\n",
    "plt.ylim(1,5)\n",
    "sns.set_context(\"notebook\", font_scale=1.5, rc={\"lines.linewidth\": 2})\n",
    "sns.despine(left= True)\n",
    "\n",
    "\n",
    "\n",
    "user_boxplot = sns.boxplot(y = base[\"Rating\"], \n",
    "                            color=\"lightskyblue\", \n",
    "                            showmeans=True, \n",
    "                            meanprops= {\"marker\":\"o\",\n",
    "                                        \"markerfacecolor\":\"white\", \n",
    "                                        \"markeredgecolor\":\"black\", \n",
    "                                        \"markersize\":\"7\"},\n",
    "                            medianprops = {\"color\":\"orange\", \n",
    "                                           \"linestyle\":\"--\"}, \n",
    "                            ax=axs[0])\n",
    "\n",
    "\n",
    "database_boxplot = sns.boxplot(y = base[\"Vote Average\"], \n",
    "                           color=\"violet\", \n",
    "                           showmeans=True,\n",
    "                           meanprops= {\"marker\":\"o\",\n",
    "                                       \"markerfacecolor\":\"white\", \n",
    "                                       \"markeredgecolor\":\"black\", \n",
    "                                       \"markersize\":\"7\"},\n",
    "                           medianprops = {\"color\":\"springgreen\", \n",
    "                                          \"linestyle\":\"--\"},\n",
    "                           ax=axs[1]).set(ylabel=None)\n",
    "\n",
    "plt.savefig(\"Graphs/Boxplot_Ratings\")"
   ]
  },
  {
   "cell_type": "markdown",
   "metadata": {},
   "source": [
    "# Transform the genres in a Series of genres"
   ]
  },
  {
   "cell_type": "code",
   "execution_count": null,
   "metadata": {
    "tags": []
   },
   "outputs": [],
   "source": [
    "df_genres_id= pd.Series(base[\"Genres\"].values, index = base[\"ID\"], name = \"Genres\")\n",
    "split_genres = df_genres_id.str.split(\"|\", expand = False)\n",
    "genres_explode = split_genres.explode()\n",
    "\n",
    "genres_explode"
   ]
  },
  {
   "cell_type": "code",
   "execution_count": 52,
   "metadata": {},
   "outputs": [
    {
     "output_type": "execute_result",
     "data": {
      "text/plain": "         ID     Genres\n0    281957    Western\n1    281957      Drama\n2    281957  Adventure\n3    273248      Crime\n4    273248      Drama\n..      ...        ...\n764  324857      SciFi\n765  324857     Comedy\n766  530385     Horror\n767  530385      Drama\n768  530385    Mystery\n\n[769 rows x 2 columns]",
      "text/html": "<div>\n<style scoped>\n    .dataframe tbody tr th:only-of-type {\n        vertical-align: middle;\n    }\n\n    .dataframe tbody tr th {\n        vertical-align: top;\n    }\n\n    .dataframe thead th {\n        text-align: right;\n    }\n</style>\n<table border=\"1\" class=\"dataframe\">\n  <thead>\n    <tr style=\"text-align: right;\">\n      <th></th>\n      <th>ID</th>\n      <th>Genres</th>\n    </tr>\n  </thead>\n  <tbody>\n    <tr>\n      <th>0</th>\n      <td>281957</td>\n      <td>Western</td>\n    </tr>\n    <tr>\n      <th>1</th>\n      <td>281957</td>\n      <td>Drama</td>\n    </tr>\n    <tr>\n      <th>2</th>\n      <td>281957</td>\n      <td>Adventure</td>\n    </tr>\n    <tr>\n      <th>3</th>\n      <td>273248</td>\n      <td>Crime</td>\n    </tr>\n    <tr>\n      <th>4</th>\n      <td>273248</td>\n      <td>Drama</td>\n    </tr>\n    <tr>\n      <th>...</th>\n      <td>...</td>\n      <td>...</td>\n    </tr>\n    <tr>\n      <th>764</th>\n      <td>324857</td>\n      <td>SciFi</td>\n    </tr>\n    <tr>\n      <th>765</th>\n      <td>324857</td>\n      <td>Comedy</td>\n    </tr>\n    <tr>\n      <th>766</th>\n      <td>530385</td>\n      <td>Horror</td>\n    </tr>\n    <tr>\n      <th>767</th>\n      <td>530385</td>\n      <td>Drama</td>\n    </tr>\n    <tr>\n      <th>768</th>\n      <td>530385</td>\n      <td>Mystery</td>\n    </tr>\n  </tbody>\n</table>\n<p>769 rows × 2 columns</p>\n</div>"
     },
     "metadata": {},
     "execution_count": 52
    }
   ],
   "source": [
    "df_genres = genres_explode.to_frame()\n",
    "\n",
    "df_genres.reset_index(level=0, inplace=True)\n",
    "\n",
    "df_genres"
   ]
  },
  {
   "cell_type": "code",
   "execution_count": 53,
   "metadata": {},
   "outputs": [
    {
     "output_type": "execute_result",
     "data": {
      "text/plain": "         ID     Genres  Rating  Vote Average _merge\n0    281957    Western       4          3.75   both\n1    281957      Drama       4          3.75   both\n2    281957  Adventure       4          3.75   both\n3    273248      Crime       5          3.85   both\n4    273248      Drama       5          3.85   both\n..      ...        ...     ...           ...    ...\n782  324857      SciFi       5          4.20   both\n783  324857     Comedy       5          4.20   both\n784  530385     Horror       4          3.55   both\n785  530385      Drama       4          3.55   both\n786  530385    Mystery       4          3.55   both\n\n[787 rows x 5 columns]",
      "text/html": "<div>\n<style scoped>\n    .dataframe tbody tr th:only-of-type {\n        vertical-align: middle;\n    }\n\n    .dataframe tbody tr th {\n        vertical-align: top;\n    }\n\n    .dataframe thead th {\n        text-align: right;\n    }\n</style>\n<table border=\"1\" class=\"dataframe\">\n  <thead>\n    <tr style=\"text-align: right;\">\n      <th></th>\n      <th>ID</th>\n      <th>Genres</th>\n      <th>Rating</th>\n      <th>Vote Average</th>\n      <th>_merge</th>\n    </tr>\n  </thead>\n  <tbody>\n    <tr>\n      <th>0</th>\n      <td>281957</td>\n      <td>Western</td>\n      <td>4</td>\n      <td>3.75</td>\n      <td>both</td>\n    </tr>\n    <tr>\n      <th>1</th>\n      <td>281957</td>\n      <td>Drama</td>\n      <td>4</td>\n      <td>3.75</td>\n      <td>both</td>\n    </tr>\n    <tr>\n      <th>2</th>\n      <td>281957</td>\n      <td>Adventure</td>\n      <td>4</td>\n      <td>3.75</td>\n      <td>both</td>\n    </tr>\n    <tr>\n      <th>3</th>\n      <td>273248</td>\n      <td>Crime</td>\n      <td>5</td>\n      <td>3.85</td>\n      <td>both</td>\n    </tr>\n    <tr>\n      <th>4</th>\n      <td>273248</td>\n      <td>Drama</td>\n      <td>5</td>\n      <td>3.85</td>\n      <td>both</td>\n    </tr>\n    <tr>\n      <th>...</th>\n      <td>...</td>\n      <td>...</td>\n      <td>...</td>\n      <td>...</td>\n      <td>...</td>\n    </tr>\n    <tr>\n      <th>782</th>\n      <td>324857</td>\n      <td>SciFi</td>\n      <td>5</td>\n      <td>4.20</td>\n      <td>both</td>\n    </tr>\n    <tr>\n      <th>783</th>\n      <td>324857</td>\n      <td>Comedy</td>\n      <td>5</td>\n      <td>4.20</td>\n      <td>both</td>\n    </tr>\n    <tr>\n      <th>784</th>\n      <td>530385</td>\n      <td>Horror</td>\n      <td>4</td>\n      <td>3.55</td>\n      <td>both</td>\n    </tr>\n    <tr>\n      <th>785</th>\n      <td>530385</td>\n      <td>Drama</td>\n      <td>4</td>\n      <td>3.55</td>\n      <td>both</td>\n    </tr>\n    <tr>\n      <th>786</th>\n      <td>530385</td>\n      <td>Mystery</td>\n      <td>4</td>\n      <td>3.55</td>\n      <td>both</td>\n    </tr>\n  </tbody>\n</table>\n<p>787 rows × 5 columns</p>\n</div>"
     },
     "metadata": {},
     "execution_count": 53
    }
   ],
   "source": [
    "merging = df_genres.merge(base[['ID','Rating', 'Vote Average']], \n",
    "           on = \"ID\",\n",
    "           how='left',\n",
    "           indicator= True)\n",
    "\n",
    "merging\n",
    "\n"
   ]
  },
  {
   "cell_type": "code",
   "execution_count": null,
   "metadata": {
    "tags": []
   },
   "outputs": [],
   "source": [
    "def genres_rating(csv1, csv2):\n",
    "    for index,row in csv1.iterrows():\n",
    "        movie_id = csv1[\"ID\"]\n",
    "        id_row = csv2[\"ID\"]\n",
    "        #print(f\"Buscando {movie_id}\")\n",
    "        if movie_id == id_row:\n",
    "            print(f\"Buscando {movie_id}\")\n",
    "\n",
    "        #     csv1[\"Rating\"] = [d['Rating'] for d in csv2]\n",
    "    return csv1\n",
    "\n",
    "test = genres_rating(df_genres,base)"
   ]
  },
  {
   "cell_type": "code",
   "execution_count": null,
   "metadata": {},
   "outputs": [],
   "source": [
    "def movies(csv):\n",
    "    results = []\n",
    "    for index, row in csv.iterrows():\n",
    "        movie_title = row[\"Movie\"]\n",
    "        print(f\"Buscando {movie_title}\")\n",
    "        movie_id = row[\"ID\"]\n",
    "        movie_info = get_movie_info(movie_id)\n",
    "        results.append(movie_info)\n",
    "    return results"
   ]
  },
  {
   "cell_type": "code",
   "execution_count": null,
   "metadata": {},
   "outputs": [],
   "source": [
    "genres_count = genres_explode.value_counts()\n",
    "\n",
    "genres_count"
   ]
  },
  {
   "cell_type": "code",
   "execution_count": null,
   "metadata": {},
   "outputs": [],
   "source": [
    "genres_explode.to_frame().reset_index()\n",
    "\n",
    "def creating_df(csv1, csv2):\n",
    "    for index,row in csv1.iteritems:\n",
    "        if csv1[\"ID\"] == csv2[\"ID\"]:\n",
    "            csv1[\"Rating\"] = csv2[\"Rating\"]\n",
    "            csv1[\"Vote Average\"] = csv2[\"Vote Average\"]\n",
    "    return csv1\n",
    "\n",
    "\n",
    "creating_df(genres_explode,base).head()"
   ]
  },
  {
   "cell_type": "code",
   "execution_count": null,
   "metadata": {},
   "outputs": [],
   "source": [
    "genres_explode.unique()"
   ]
  },
  {
   "cell_type": "markdown",
   "metadata": {},
   "source": [
    "# Genres x Rating x Vote Average"
   ]
  },
  {
   "cell_type": "code",
   "execution_count": null,
   "metadata": {
    "tags": []
   },
   "outputs": [],
   "source": []
  },
  {
   "cell_type": "markdown",
   "metadata": {},
   "source": [
    "# Year x Rating\n",
    "\n",
    "* Deixar esse gráfico legal\n",
    "* Arrumar o hue\n",
    "* Tentar colocar uma colorbar somente nos valores de vote average relacionando com vote count"
   ]
  },
  {
   "cell_type": "code",
   "execution_count": null,
   "metadata": {
    "tags": []
   },
   "outputs": [],
   "source": [
    "sns.set(rc={\"figure.figsize\": (12,10)},font_scale=1.5)\n",
    "sns.set_style(\"white\")\n",
    "\n",
    "\n",
    "\n",
    "user_ratings= sns.scatterplot(x = base[\"Rating\"], \n",
    "                y = base[\"Year\"],\n",
    "                s = 200,\n",
    "                color = \"green\"\n",
    "                )\n",
    "\n",
    "database_rating = sns.scatterplot(x = base[\"Vote Average\"], \n",
    "                y = base[\"Year\"],\n",
    "                s = 200,\n",
    "                hue = base[\"Vote Average\"]\n",
    "                )\n",
    "\n",
    "#cbar = plt.colorbar(database_rating) \n",
    "\n",
    "user_ratings.set(xlabel='Rating', ylabel='Year')\n",
    "\n",
    "plt.savefig(\"Graphs/Year_Rating\")"
   ]
  },
  {
   "cell_type": "markdown",
   "metadata": {},
   "source": [
    "# WordCloud dos generos"
   ]
  },
  {
   "cell_type": "code",
   "execution_count": null,
   "metadata": {},
   "outputs": [],
   "source": [
    "all_genres = \" \".join(s for s in genres_explode).strip()\n",
    "\n",
    "all_genres"
   ]
  },
  {
   "cell_type": "code",
   "execution_count": null,
   "metadata": {},
   "outputs": [],
   "source": [
    "all_genres = \" \".join(s for s in genres_explode)\n",
    "\n",
    "\n",
    "wordcloud = WordCloud(background_color=\"black\",\n",
    "                      font_path='Andale Mono',\n",
    "                      width=1600, height=800,\n",
    "                      collocations=False,\n",
    "                      colormap = \"viridis\").generate(all_genres)\n",
    "\n",
    "plt.figure(figsize=(20,10))\n",
    "plt.imshow(wordcloud, interpolation='bilinear')\n",
    "plt.tight_layout(pad=0)\n",
    "plt.axis(\"off\")\n",
    "\n",
    "plt.savefig(\"Graphs/WordCloud\")"
   ]
  },
  {
   "cell_type": "code",
   "execution_count": null,
   "metadata": {},
   "outputs": [],
   "source": [
    "wordcloud.words_"
   ]
  },
  {
   "cell_type": "markdown",
   "metadata": {},
   "source": [
    "Provavelmente não vou usar esse gráfico"
   ]
  },
  {
   "cell_type": "code",
   "execution_count": null,
   "metadata": {},
   "outputs": [],
   "source": [
    "palette = sns.color_palette(\"PiYG_r\", 18)\n",
    "sns.set_context(\"notebook\", font_scale=1.2, rc={\"lines.linewidth\": 2})\n",
    "sns.set(rc={'figure.figsize':(10,6)})\n",
    "\n",
    "\n",
    "barplot = sns.barplot(genres_count.index,\n",
    "                      genres_count.values,\n",
    "                      palette = palette\n",
    "                      )\n",
    "\n",
    "plt.xticks(rotation=45, fontsize=12, ha = \"right\")\n",
    "plt.yticks(fontsize=12)"
   ]
  },
  {
   "cell_type": "markdown",
   "metadata": {},
   "source": [
    "# Top 10 voted movies"
   ]
  },
  {
   "cell_type": "code",
   "execution_count": null,
   "metadata": {
    "tags": []
   },
   "outputs": [],
   "source": [
    "vote_count = base.sort_values(\"Vote Count\", ascending= False)\n",
    "top_voted = vote_count.head(n =10)\n",
    "\n",
    "top_voted"
   ]
  },
  {
   "cell_type": "code",
   "execution_count": null,
   "metadata": {},
   "outputs": [],
   "source": [
    "palette = sns.color_palette(\"Purples_r\", 10)\n",
    "sns.set_context(\"notebook\", font_scale=1.2, rc={\"lines.linewidth\": 2})\n",
    "sns.set(rc={'figure.figsize':(10,6)})\n",
    "\n",
    "\n",
    "barplot = sns.barplot(x= top_voted[\"Vote Count\"],\n",
    "                      y = top_voted[\"Movie\"], \n",
    "                      palette = palette,\n",
    "                      orient = \"h\").set(ylabel = None)\n",
    "\n",
    "plt.xticks(rotation=45, fontsize=12, ha = \"center\")\n",
    "plt.yticks(fontsize=12)\n",
    "\n",
    "plt.savefig(plt.savefig(\"Graphs/Top Voted Movies\"), bbox_inches='tight')"
   ]
  },
  {
   "cell_type": "markdown",
   "metadata": {},
   "source": [
    "# Top 10 rated movies"
   ]
  },
  {
   "cell_type": "code",
   "execution_count": null,
   "metadata": {},
   "outputs": [],
   "source": [
    "vote = base.sort_values(\"Vote Average\", ascending= False)\n",
    "top_rated = vote.head(n =10)\n",
    "\n",
    "top_rated"
   ]
  },
  {
   "cell_type": "markdown",
   "metadata": {},
   "source": [
    "# Finding the linear regression between Revenue and Profit\n",
    "\n",
    "* Trying to discover if it is possible to predict the Profit by the Revenue - any relationship"
   ]
  },
  {
   "cell_type": "code",
   "execution_count": null,
   "metadata": {},
   "outputs": [],
   "source": [
    "base.corr()"
   ]
  },
  {
   "cell_type": "code",
   "execution_count": null,
   "metadata": {},
   "outputs": [],
   "source": [
    "plt.xscale('log')\n",
    "plt.yscale('log')\n",
    "plt.xlim(100000,10000000000)\n",
    "plt.xticks([1e6, 1e7, 1e8, 1e9, 1e10])\n",
    "plt.ylim(100000,10000000000)\n",
    "plt.yticks([1e5,1e6, 1e7, 1e8, 1e9, 1e10])\n",
    "# ax = sns.scatterplot(x=base['Revenue'], y=base['Profit'])  \n",
    "\n",
    "# It's necesary to split the data into train and test. First the model is train using a speciffic part of data and after the model will be testing in the remain data\n",
    "\n",
    "#If the size of samples was not specify, the default size is 25% of the data however the best size is 80:20\n",
    "\n",
    "\n",
    "X_train, X_test, y_train, y_test = train_test_split(base.Revenue, base.Profit, train_size = 0.8, test_size = 0.2)\n",
    "\n",
    "# Ploting the train and test data\n",
    "\n",
    "plt.scatter(X_train,y_train, label = \"Training Data\", color = \"r\", alpha= .7)\n",
    "plt.scatter(X_test,y_test, label = \"Testing Data\", color = \"g\", alpha= .7)\n",
    "plt.legend()\n",
    "\n",
    "\n",
    "# regressor = LinearRegression()\n",
    "# lr.fit(X_train.values.reshape(-1,1), y_train.values)\n",
    "\n",
    "# prediction = lr.predict(X_test.values.reshape(-1,1))\n",
    "# plt.plot(X_test,prediction,label = \"Linear Regression\", color = \"b\")\n",
    "# plt.scatter(X_test,y_test, label = \"Actual Test Data\", color = \"g\", alpha=.7)\n",
    "# plt.legend()\n",
    "\n",
    "\n",
    "# sns.distplot(base['Profit'])\n",
    "\n",
    "# corre = np.corrcoef(base[\"Profit\"],base[\"Revenue\"])"
   ]
  },
  {
   "cell_type": "markdown",
   "metadata": {},
   "source": [
    "# Scatterplot Revenue x Profit"
   ]
  },
  {
   "cell_type": "code",
   "execution_count": null,
   "metadata": {},
   "outputs": [],
   "source": [
    "plt.xscale('log')\n",
    "plt.yscale('log')\n",
    "plt.xlim(100000,10000000000)\n",
    "plt.xticks([1e6, 1e7, 1e8, 1e9, 1e10])\n",
    "plt.ylim(100000,10000000000)\n",
    "plt.yticks([1e5,1e6, 1e7, 1e8, 1e9, 1e10])\n",
    "\n",
    "\n",
    "\n",
    "ax = sns.scatterplot(x=base['Revenue'], y=base['Profit'])"
   ]
  },
  {
   "cell_type": "markdown",
   "metadata": {},
   "source": [
    "This is a little mess because of 2 movies with higher revenue and profit. Let's find out which movies are they"
   ]
  },
  {
   "cell_type": "code",
   "execution_count": null,
   "metadata": {},
   "outputs": [],
   "source": [
    "base.sort_values(\"Profit\", ascending= False).head(10)"
   ]
  },
  {
   "cell_type": "code",
   "execution_count": null,
   "metadata": {},
   "outputs": [],
   "source": [
    "base.describe()"
   ]
  },
  {
   "cell_type": "code",
   "execution_count": null,
   "metadata": {},
   "outputs": [],
   "source": [
    "base.sort_values(\"Budget\",ascending = False).head(10)\n",
    "base.sort_values(\"Revenue\",ascending = False).head(10)"
   ]
  },
  {
   "cell_type": "markdown",
   "metadata": {},
   "source": [
    "* Ver se esse gráfico abaixo vai ser interessante e se sim, inverter a ordem dos filmes"
   ]
  },
  {
   "cell_type": "code",
   "execution_count": null,
   "metadata": {},
   "outputs": [],
   "source": [
    "plt.xscale('log')\n",
    "plt.xlim(10000,10000000000)\n",
    "plt.xticks([1e5,1e6, 1e7, 1e8, 1e9, 1e10])\n",
    "sns.set_style(\"white\")\n",
    "\n",
    "budget = base.sort_values(\"Budget\", ascending = False).iloc[0:20]\n",
    "\n",
    "\n",
    "lollipop = plt.hlines(budget[\"Movie\"], \n",
    "          xmin=base[\"Budget\"], \n",
    "          xmax=base['Revenue'],\n",
    "          color = \"navy\",\n",
    "          )"
   ]
  },
  {
   "cell_type": "code",
   "execution_count": null,
   "metadata": {},
   "outputs": [],
   "source": [
    "base.sort_values(\"Budget\", ascending= False).head(20)"
   ]
  },
  {
   "cell_type": "markdown",
   "metadata": {},
   "source": [
    "# Relation between Year and Revenue\n",
    "\n",
    "* Melhorar o hue (eixo)"
   ]
  },
  {
   "cell_type": "code",
   "execution_count": null,
   "metadata": {
    "tags": []
   },
   "outputs": [],
   "source": [
    "plt.yscale(\"log\")\n",
    "sns.set_context(\"notebook\", font_scale=1.2)\n",
    "sns.set(rc = {\"figure.figsize\":(12,8)})\n",
    "\n",
    "\n",
    "# sns.scatterplot(data = base, \n",
    "#                 x = \"Year\", \n",
    "#                 y = \"Budget\",\n",
    "#                 alpha=.6,\n",
    "#                 color = \"darkviolet\",\n",
    "#                 s = 150,\n",
    "#                 marker = \"X\")\n",
    "\n",
    "sns.scatterplot(data = base, \n",
    "                x = \"Year\", \n",
    "                y = \"Revenue\",\n",
    "                alpha=1,\n",
    "                color = \"navy\",\n",
    "                s = 150,\n",
    "                hue = \"Rating\"\n",
    "                )\n",
    "\n",
    "\n",
    "plt.ylim(100000,10000000000)\n",
    "plt.yticks([1e6, 1e7, 1e8, 1e9, 1e10])\n",
    "plt.xlim(1940,2020, 10)\n"
   ]
  },
  {
   "cell_type": "code",
   "execution_count": null,
   "metadata": {},
   "outputs": [],
   "source": [
    "#mask = np.triu(base.corr())\n",
    "values = base[[\"Year\", \"Rating\",\"Runtime\", \"Vote Average\", \"Vote Count\", \"Budget\", \"Revenue\", \"Profit\"]]\n",
    "sns.set(rc={'figure.figsize':(10,6)})\n",
    "\n",
    "#creating the colormap\n",
    "cmap = sns.diverging_palette(0, 230, 90, 60, as_cmap=True)\n",
    "\n",
    "\n",
    "sns.heatmap(values.corr(), \n",
    "            annot = True, \n",
    "            vmin=-1, vmax=1, center= 0, \n",
    "            cmap= cmap,\n",
    "            cbar_kws = {\"ticks\":[-1, -.5,0,.5,1]}\n",
    "            )\n",
    "            \n",
    "plt.xticks(rotation = 45, ha = \"center\")\n",
    "\n",
    "\n",
    "plt.savefig(\"Graphs/Correlation Heatmap\")"
   ]
  },
  {
   "cell_type": "code",
   "execution_count": null,
   "metadata": {},
   "outputs": [],
   "source": []
  }
 ],
 "metadata": {
  "language_info": {
   "codemirror_mode": {
    "name": "ipython",
    "version": 3
   },
   "file_extension": ".py",
   "mimetype": "text/x-python",
   "name": "python",
   "nbconvert_exporter": "python",
   "pygments_lexer": "ipython3",
   "version": 3
  },
  "orig_nbformat": 2,
  "kernelspec": {
   "name": "python_defaultSpec_1595826532019",
   "display_name": "Python 3.7.3 64-bit"
  }
 },
 "nbformat": 4,
 "nbformat_minor": 2
}