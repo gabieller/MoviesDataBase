{
 "cells": [
  {
   "cell_type": "code",
   "execution_count": null,
   "metadata": {},
   "outputs": [],
   "source": [
    "# Data Wrangling libraries\n",
    "import pandas as pd \n",
    "import numpy as np \n",
    "\n",
    "# Data Visualization libraries\n",
    "import seaborn as sns\n",
    "import matplotlib.pyplot as plt\n",
    "from PIL import Image\n",
    "from wordcloud import WordCloud, ImageColorGenerator\n",
    "import matplotlib.ticker as ticker\n",
    "\n",
    "# Machine Learning libraries\n",
    "from sklearn.linear_model import LinearRegression\n",
    "from sklearn.model_selection import train_test_split\n",
    "\n",
    "# Graph style\n",
    "#sns.set_style(\"whitegrid\")\n",
    "\n",
    "\n",
    "from itertools import chain\n",
    "\n",
    "\n",
    "import os\n",
    "import shutil  \n",
    "from os import path"
   ]
  },
  {
   "cell_type": "code",
   "execution_count": null,
   "metadata": {},
   "outputs": [],
   "source": [
    "base = pd.read_csv(\"Movies_new.csv\")"
   ]
  },
  {
   "cell_type": "markdown",
   "metadata": {},
   "source": [
    "Describe function show that the Budget and Revenue columns has 0 as a min values, however, the info() function showed that there isnt any NaN value"
   ]
  },
  {
   "cell_type": "code",
   "execution_count": null,
   "metadata": {
    "tags": []
   },
   "outputs": [],
   "source": [
    "base.count()\n",
    "base.isnull().sum()"
   ]
  },
  {
   "cell_type": "markdown",
   "metadata": {},
   "source": [
    "This function replace all 0 value to NaN and then it is possible to fill this values with the median of the specific column"
   ]
  },
  {
   "cell_type": "code",
   "execution_count": null,
   "metadata": {
    "tags": []
   },
   "outputs": [],
   "source": [
    "replace = base.replace(0, np.nan, inplace=True)"
   ]
  },
  {
   "cell_type": "code",
   "execution_count": null,
   "metadata": {},
   "outputs": [],
   "source": [
    "budget_median = base.Budget.median()\n",
    "revenue_median = base.Revenue.median()"
   ]
  },
  {
   "cell_type": "code",
   "execution_count": null,
   "metadata": {},
   "outputs": [],
   "source": [
    "base[\"Budget\"].fillna(budget_median, inplace = True)\n",
    "base[\"Revenue\"].fillna(revenue_median, inplace = True)"
   ]
  },
  {
   "cell_type": "code",
   "execution_count": null,
   "metadata": {},
   "outputs": [],
   "source": [
    "base[\"Profit\"] = base[\"Revenue\"] - base[\"Budget\"]\n",
    "base.to_csv(\"Movies_profit.csv\", index=False)"
   ]
  },
  {
   "cell_type": "markdown",
   "metadata": {},
   "source": [
    "# Graph Analysis"
   ]
  },
  {
   "cell_type": "markdown",
   "metadata": {},
   "source": [
    "# Boxplot comparing user rating and movies database average ratings"
   ]
  },
  {
   "cell_type": "code",
   "execution_count": null,
   "metadata": {},
   "outputs": [],
   "source": [
    "fig, axs = plt.subplots(ncols=2, figsize = (12,6), sharey=True)\n",
    "fig.suptitle(\"Comparison between User Rating and Movie Database Average Ratings\", fontsize=16)\n",
    "plt.subplots_adjust(wspace=0, hspace=0)\n",
    "plt.ylim(1,5)\n",
    "sns.set_context(\"notebook\", font_scale=1.5, rc={\"lines.linewidth\": 2})\n",
    "sns.despine(left= True)\n",
    "\n",
    "\n",
    "\n",
    "user_boxplot = sns.boxplot(y = base[\"Rating\"], \n",
    "                            color=\"lightskyblue\", \n",
    "                            showmeans=True, \n",
    "                            meanprops= {\"marker\":\"o\",\n",
    "                                        \"markerfacecolor\":\"white\", \n",
    "                                        \"markeredgecolor\":\"black\", \n",
    "                                        \"markersize\":\"7\"},\n",
    "                            medianprops = {\"color\":\"orange\", \n",
    "                                           \"linestyle\":\"--\"}, \n",
    "                            ax=axs[0])\n",
    "\n",
    "\n",
    "database_boxplot = sns.boxplot(y = base[\"Vote Average\"], \n",
    "                           color=\"violet\", \n",
    "                           showmeans=True,\n",
    "                           meanprops= {\"marker\":\"o\",\n",
    "                                       \"markerfacecolor\":\"white\", \n",
    "                                       \"markeredgecolor\":\"black\", \n",
    "                                       \"markersize\":\"7\"},\n",
    "                           medianprops = {\"color\":\"springgreen\", \n",
    "                                          \"linestyle\":\"--\"},\n",
    "                           ax=axs[1]).set(ylabel=None)\n",
    "\n",
    "plt.savefig(\"Graphs/Boxplot_Ratings\")"
   ]
  },
  {
   "cell_type": "markdown",
   "metadata": {},
   "source": [
    "# Transform the genres in a Series of genres"
   ]
  },
  {
   "cell_type": "code",
   "execution_count": 74,
   "metadata": {
    "tags": []
   },
   "outputs": [
    {
     "output_type": "execute_result",
     "data": {
      "text/plain": "ID\n281957      Western\n281957        Drama\n281957    Adventure\n273248        Crime\n273248        Drama\n            ...    \n324857        SciFi\n324857       Comedy\n530385       Horror\n530385        Drama\n530385      Mystery\nName: Genres, Length: 769, dtype: object"
     },
     "metadata": {},
     "execution_count": 74
    }
   ],
   "source": [
    "df_genres_id= pd.Series(base[\"Genres\"].values, index = base[\"ID\"], name = \"Genres\")\n",
    "split_genres = df_genres_id.str.split(\"|\", expand = False)\n",
    "genres_explode = split_genres.explode()\n",
    "\n",
    "genres_explode"
   ]
  },
  {
   "cell_type": "code",
   "execution_count": 78,
   "metadata": {},
   "outputs": [
    {
     "output_type": "execute_result",
     "data": {
      "text/plain": "ID         int64\nGenres    object\ndtype: object"
     },
     "metadata": {},
     "execution_count": 78
    }
   ],
   "source": [
    "df_genres = genres_explode.to_frame()\n",
    "\n",
    "df_genres.reset_index(level=0, inplace=True)\n",
    "\n",
    "df_genres.dtypes"
   ]
  },
  {
   "cell_type": "code",
   "execution_count": 86,
   "metadata": {
    "tags": []
   },
   "outputs": [
    {
     "output_type": "stream",
     "name": "stdout",
     "text": "Buscando 281957\nBuscando 281957\nBuscando 281957\nBuscando 273248\nBuscando 273248\nBuscando 273248\nBuscando 273248\nBuscando 9741\nBuscando 9741\nBuscando 9741\nBuscando 141\nBuscando 141\nBuscando 141\nBuscando 24\nBuscando 24\nBuscando 312221\nBuscando 500\nBuscando 500\nBuscando 393\nBuscando 393\nBuscando 393\nBuscando 129\nBuscando 129\nBuscando 129\nBuscando 935\nBuscando 935\nBuscando 935\nBuscando 289\nBuscando 289\nBuscando 7735\nBuscando 7735\nBuscando 318846\nBuscando 318846\nBuscando 5955\nBuscando 5955\nBuscando 37257\nBuscando 37257\nBuscando 37257\nBuscando 261023\nBuscando 261023\nBuscando 1573\nBuscando 1573\nBuscando 314365\nBuscando 314365\nBuscando 314365\nBuscando 9366\nBuscando 9366\nBuscando 9366\nBuscando 293660\nBuscando 293660\nBuscando 293660\nBuscando 264644\nBuscando 264644\nBuscando 642\nBuscando 642\nBuscando 642\nBuscando 4771\nBuscando 4771\nBuscando 4771\nBuscando 50348\nBuscando 50348\nBuscando 50348\nBuscando 111083\nBuscando 111083\nBuscando 3432\nBuscando 3432\nBuscando 3432\nBuscando 3432\nBuscando 85\nBuscando 85\nBuscando 197\nBuscando 197\nBuscando 197\nBuscando 197\nBuscando 3580\nBuscando 3580\nBuscando 3580\nBuscando 10778\nBuscando 10778\nBuscando 87\nBuscando 87\nBuscando 11096\nBuscando 11096\nBuscando 11096\nBuscando 310131\nBuscando 310131\nBuscando 310131\nBuscando 55\nBuscando 55\nBuscando 228202\nBuscando 209112\nBuscando 209112\nBuscando 209112\nBuscando 264660\nBuscando 264660\nBuscando 1598\nBuscando 1598\nBuscando 15472\nBuscando 15472\nBuscando 15472\nBuscando 15472\nBuscando 592\nBuscando 592\nBuscando 592\nBuscando 333371\nBuscando 333371\nBuscando 333371\nBuscando 333371\nBuscando 1580\nBuscando 1580\nBuscando 223\nBuscando 223\nBuscando 278927\nBuscando 278927\nBuscando 278927\nBuscando 278927\nBuscando 376570\nBuscando 376570\nBuscando 271110\nBuscando 271110\nBuscando 271110\nBuscando 89\nBuscando 89\nBuscando 924\nBuscando 924\nBuscando 924\nBuscando 924\nBuscando 49517\nBuscando 49517\nBuscando 49517\nBuscando 307081\nBuscando 307081\nBuscando 521\nBuscando 521\nBuscando 521\nBuscando 207686\nBuscando 207686\nBuscando 207686\nBuscando 207686\nBuscando 207686\nBuscando 612\nBuscando 612\nBuscando 612\nBuscando 612\nBuscando 45317\nBuscando 10633\nBuscando 10633\nBuscando 10633\nBuscando 10633\nBuscando 277216\nBuscando 277216\nBuscando 158011\nBuscando 158011\nBuscando 46738\nBuscando 46738\nBuscando 46738\nBuscando 1246\nBuscando 195589\nBuscando 1091\nBuscando 1091\nBuscando 1091\nBuscando 9426\nBuscando 9426\nBuscando 11423\nBuscando 11423\nBuscando 11423\nBuscando 259693\nBuscando 259693\nBuscando 259693\nBuscando 4553\nBuscando 4553\nBuscando 181886\nBuscando 181886\nBuscando 82633\nBuscando 82633\nBuscando 82633\nBuscando 24253\nBuscando 24253\nBuscando 24253\nBuscando 24253\nBuscando 24253\nBuscando 426\nBuscando 426\nBuscando 426\nBuscando 23629\nBuscando 23629\nBuscando 23629\nBuscando 262\nBuscando 262\nBuscando 451\nBuscando 451\nBuscando 11906\nBuscando 1359\nBuscando 1359\nBuscando 1359\nBuscando 1359\nBuscando 207\nBuscando 164457\nBuscando 164457\nBuscando 164457\nBuscando 127380\nBuscando 127380\nBuscando 127380\nBuscando 127380\nBuscando 6145\nBuscando 64690\nBuscando 64690\nBuscando 64690\nBuscando 1538\nBuscando 1538\nBuscando 1538\nBuscando 37903\nBuscando 37903\nBuscando 13016\nBuscando 13016\nBuscando 2118\nBuscando 2118\nBuscando 10734\nBuscando 10734\nBuscando 256917\nBuscando 256917\nBuscando 297761\nBuscando 297761\nBuscando 297761\nBuscando 297761\nBuscando 297761\nBuscando 1480\nBuscando 1480\nBuscando 290250\nBuscando 290250\nBuscando 290250\nBuscando 968\nBuscando 968\nBuscando 968\nBuscando 11368\nBuscando 11368\nBuscando 11368\nBuscando 321741\nBuscando 855\nBuscando 855\nBuscando 855\nBuscando 11336\nBuscando 11336\nBuscando 11336\nBuscando 2252\nBuscando 2252\nBuscando 2252\nBuscando 153\nBuscando 153\nBuscando 153\nBuscando 192\nBuscando 192\nBuscando 192\nBuscando 13475\nBuscando 13475\nBuscando 13475\nBuscando 11206\nBuscando 11206\nBuscando 11206\nBuscando 300669\nBuscando 300669\nBuscando 300669\nBuscando 553\nBuscando 553\nBuscando 553\nBuscando 283366\nBuscando 283366\nBuscando 283366\nBuscando 283366\nBuscando 45094\nBuscando 335796\nBuscando 335796\nBuscando 12153\nBuscando 12153\nBuscando 31011\nBuscando 31011\nBuscando 31011\nBuscando 31011\nBuscando 333352\nBuscando 333352\nBuscando 333352\nBuscando 284052\nBuscando 284052\nBuscando 284052\nBuscando 284052\nBuscando 176\nBuscando 176\nBuscando 176\nBuscando 650\nBuscando 54138\nBuscando 54138\nBuscando 54138\nBuscando 671\nBuscando 671\nBuscando 671\nBuscando 672\nBuscando 672\nBuscando 673\nBuscando 673\nBuscando 674\nBuscando 674\nBuscando 674\nBuscando 259316\nBuscando 259316\nBuscando 259316\nBuscando 675\nBuscando 675\nBuscando 675\nBuscando 767\nBuscando 767\nBuscando 12444\nBuscando 12444\nBuscando 329865\nBuscando 329865\nBuscando 329865\nBuscando 12445\nBuscando 12445\nBuscando 8681\nBuscando 8681\nBuscando 330459\nBuscando 330459\nBuscando 330459\nBuscando 9631\nBuscando 9631\nBuscando 9631\nBuscando 9631\nBuscando 329440\nBuscando 329440\nBuscando 329440\nBuscando 302946\nBuscando 302946\nBuscando 302946\nBuscando 345911\nBuscando 345911\nBuscando 345911\nBuscando 345911\nBuscando 313369\nBuscando 313369\nBuscando 313369\nBuscando 313369\nBuscando 376867\nBuscando 346685\nBuscando 346685\nBuscando 346685\nBuscando 346685\nBuscando 346685\nBuscando 334541\nBuscando 338766\nBuscando 338766\nBuscando 393457\nBuscando 381284\nBuscando 381284\nBuscando 263115\nBuscando 263115\nBuscando 263115\nBuscando 377462\nBuscando 75638\nBuscando 381288\nBuscando 381288\nBuscando 68730\nBuscando 68730\nBuscando 245891\nBuscando 245891\nBuscando 315837\nBuscando 315837\nBuscando 315837\nBuscando 315837\nBuscando 363676\nBuscando 363676\nBuscando 283995\nBuscando 283995\nBuscando 283995\nBuscando 283995\nBuscando 419430\nBuscando 419430\nBuscando 419430\nBuscando 397243\nBuscando 397243\nBuscando 297762\nBuscando 297762\nBuscando 297762\nBuscando 324552\nBuscando 324552\nBuscando 324552\nBuscando 395992\nBuscando 395992\nBuscando 395992\nBuscando 9693\nBuscando 9693\nBuscando 9693\nBuscando 9693\nBuscando 120\nBuscando 120\nBuscando 120\nBuscando 61791\nBuscando 61791\nBuscando 61791\nBuscando 61791\nBuscando 119450\nBuscando 119450\nBuscando 119450\nBuscando 119450\nBuscando 328387\nBuscando 328387\nBuscando 328387\nBuscando 315635\nBuscando 315635\nBuscando 315635\nBuscando 315635\nBuscando 411088\nBuscando 411088\nBuscando 411088\nBuscando 65086\nBuscando 65086\nBuscando 65086\nBuscando 374720\nBuscando 374720\nBuscando 374720\nBuscando 18405\nBuscando 18405\nBuscando 18405\nBuscando 18405\nBuscando 281338\nBuscando 281338\nBuscando 281338\nBuscando 306947\nBuscando 12477\nBuscando 12477\nBuscando 12477\nBuscando 372058\nBuscando 372058\nBuscando 372058\nBuscando 9323\nBuscando 9323\nBuscando 9323\nBuscando 351460\nBuscando 351460\nBuscando 351460\nBuscando 351460\nBuscando 396422\nBuscando 396422\nBuscando 396422\nBuscando 418078\nBuscando 418078\nBuscando 418078\nBuscando 7446\nBuscando 7446\nBuscando 7446\nBuscando 7446\nBuscando 345938\nBuscando 345938\nBuscando 346364\nBuscando 238\nBuscando 238\nBuscando 381283\nBuscando 381283\nBuscando 381283\nBuscando 335984\nBuscando 335984\nBuscando 339403\nBuscando 339403\nBuscando 343674\nBuscando 343674\nBuscando 343674\nBuscando 284053\nBuscando 284053\nBuscando 284053\nBuscando 284053\nBuscando 395834\nBuscando 395834\nBuscando 395834\nBuscando 395834\nBuscando 141052\nBuscando 141052\nBuscando 141052\nBuscando 141052\nBuscando 269149\nBuscando 269149\nBuscando 269149\nBuscando 269149\nBuscando 294016\nBuscando 400106\nBuscando 400106\nBuscando 400106\nBuscando 400106\nBuscando 181808\nBuscando 181808\nBuscando 181808\nBuscando 297762\nBuscando 297762\nBuscando 297762\nBuscando 21208\nBuscando 21208\nBuscando 21208\nBuscando 2898\nBuscando 2898\nBuscando 49018\nBuscando 49018\nBuscando 446354\nBuscando 446354\nBuscando 392044\nBuscando 392044\nBuscando 392044\nBuscando 399055\nBuscando 399055\nBuscando 399055\nBuscando 429200\nBuscando 429200\nBuscando 429200\nBuscando 284054\nBuscando 284054\nBuscando 284054\nBuscando 284054\nBuscando 359940\nBuscando 359940\nBuscando 354912\nBuscando 354912\nBuscando 354912\nBuscando 354912\nBuscando 354912\nBuscando 300668\nBuscando 300668\nBuscando 333339\nBuscando 333339\nBuscando 447332\nBuscando 447332\nBuscando 447332\nBuscando 91586\nBuscando 91586\nBuscando 280092\nBuscando 280092\nBuscando 280092\nBuscando 862\nBuscando 862\nBuscando 862\nBuscando 9487\nBuscando 9487\nBuscando 9487\nBuscando 9487\nBuscando 299536\nBuscando 299536\nBuscando 299536\nBuscando 863\nBuscando 863\nBuscando 863\nBuscando 585\nBuscando 585\nBuscando 585\nBuscando 371638\nBuscando 371638\nBuscando 353486\nBuscando 353486\nBuscando 353486\nBuscando 353486\nBuscando 383498\nBuscando 383498\nBuscando 383498\nBuscando 343668\nBuscando 343668\nBuscando 343668\nBuscando 425972\nBuscando 425972\nBuscando 425972\nBuscando 425972\nBuscando 49047\nBuscando 49047\nBuscando 49047\nBuscando 401981\nBuscando 401981\nBuscando 260513\nBuscando 260513\nBuscando 260513\nBuscando 260513\nBuscando 334533\nBuscando 334533\nBuscando 334533\nBuscando 363088\nBuscando 363088\nBuscando 363088\nBuscando 363088\nBuscando 338970\nBuscando 338970\nBuscando 338970\nBuscando 476299\nBuscando 476299\nBuscando 476299\nBuscando 345\nBuscando 345\nBuscando 345\nBuscando 56292\nBuscando 56292\nBuscando 56292\nBuscando 353081\nBuscando 353081\nBuscando 281\nBuscando 281\nBuscando 281\nBuscando 281\nBuscando 493922\nBuscando 493922\nBuscando 493922\nBuscando 500664\nBuscando 500664\nBuscando 500664\nBuscando 500664\nBuscando 393519\nBuscando 393519\nBuscando 393519\nBuscando 6114\nBuscando 6114\nBuscando 162\nBuscando 162\nBuscando 162\nBuscando 439079\nBuscando 439079\nBuscando 439079\nBuscando 259693\nBuscando 259693\nBuscando 259693\nBuscando 489999\nBuscando 489999\nBuscando 489999\nBuscando 335983\nBuscando 335983\nBuscando 318256\nBuscando 22538\nBuscando 22538\nBuscando 22538\nBuscando 22538\nBuscando 22538\nBuscando 351286\nBuscando 351286\nBuscando 351286\nBuscando 345887\nBuscando 345887\nBuscando 345887\nBuscando 418680\nBuscando 418680\nBuscando 948\nBuscando 948\nBuscando 338952\nBuscando 338952\nBuscando 338952\nBuscando 297802\nBuscando 297802\nBuscando 297802\nBuscando 405774\nBuscando 405774\nBuscando 405774\nBuscando 339877\nBuscando 339877\nBuscando 339877\nBuscando 424694\nBuscando 424694\nBuscando 299537\nBuscando 299537\nBuscando 299537\nBuscando 490132\nBuscando 490132\nBuscando 480530\nBuscando 287947\nBuscando 287947\nBuscando 287947\nBuscando 299534\nBuscando 299534\nBuscando 299534\nBuscando 450465\nBuscando 450465\nBuscando 450465\nBuscando 487558\nBuscando 487558\nBuscando 487558\nBuscando 487558\nBuscando 458723\nBuscando 458723\nBuscando 458723\nBuscando 474350\nBuscando 474350\nBuscando 310307\nBuscando 310307\nBuscando 475557\nBuscando 475557\nBuscando 475557\nBuscando 559969\nBuscando 559969\nBuscando 559969\nBuscando 559969\nBuscando 568091\nBuscando 396422\nBuscando 396422\nBuscando 396422\nBuscando 398978\nBuscando 398978\nBuscando 398978\nBuscando 181812\nBuscando 181812\nBuscando 181812\nBuscando 496243\nBuscando 496243\nBuscando 496243\nBuscando 546554\nBuscando 546554\nBuscando 546554\nBuscando 546554\nBuscando 546554\nBuscando 503919\nBuscando 503919\nBuscando 503919\nBuscando 503919\nBuscando 466272\nBuscando 466272\nBuscando 466272\nBuscando 515001\nBuscando 515001\nBuscando 515001\nBuscando 157433\nBuscando 157433\nBuscando 530915\nBuscando 530915\nBuscando 530915\nBuscando 530915\nBuscando 473033\nBuscando 473033\nBuscando 473033\nBuscando 473033\nBuscando 64682\nBuscando 64682\nBuscando 68722\nBuscando 265195\nBuscando 265195\nBuscando 265195\nBuscando 207932\nBuscando 207932\nBuscando 207932\nBuscando 570670\nBuscando 570670\nBuscando 570670\nBuscando 501170\nBuscando 501170\nBuscando 501170\nBuscando 501170\nBuscando 619264\nBuscando 619264\nBuscando 619264\nBuscando 359724\nBuscando 359724\nBuscando 492188\nBuscando 595\nBuscando 595\nBuscando 105\nBuscando 105\nBuscando 105\nBuscando 105\nBuscando 446159\nBuscando 446159\nBuscando 446159\nBuscando 331482\nBuscando 331482\nBuscando 429617\nBuscando 429617\nBuscando 429617\nBuscando 324857\nBuscando 324857\nBuscando 324857\nBuscando 324857\nBuscando 324857\nBuscando 530385\nBuscando 530385\nBuscando 530385\n           Genres\nID               \n281957    Western\n281957      Drama\n281957  Adventure\n273248      Crime\n273248      Drama\n"
    }
   ],
   "source": [
    "df_genres = genres_explode.to_frame()\n",
    "\n",
    "def genres_rating(csv1, csv2):\n",
    "    for row in csv1.iterrows():\n",
    "        movie_id = row[0]\n",
    "        print(f\"Buscando {movie_id}\")\n",
    "\n",
    "        # if movie_id == csv2[\"ID\"]:\n",
    "        #     csv1[\"Rating\"] = [d['Rating'] for d in csv2]\n",
    "    return csv1\n",
    "\n",
    "test = genres_rating(df_genres, base)\n",
    "print(test.head())\n",
    "\n",
    "\n"
   ]
  },
  {
   "cell_type": "code",
   "execution_count": 77,
   "metadata": {},
   "outputs": [
    {
     "output_type": "error",
     "ename": "TypeError",
     "evalue": "tuple indices must be integers or slices, not str",
     "traceback": [
      "\u001b[0;31m---------------------------------------------------------------------------\u001b[0m",
      "\u001b[0;31mTypeError\u001b[0m                                 Traceback (most recent call last)",
      "\u001b[0;32m<ipython-input-77-630d01c27f47>\u001b[0m in \u001b[0;36m<module>\u001b[0;34m\u001b[0m\n\u001b[1;32m      5\u001b[0m     \u001b[0;32mreturn\u001b[0m \u001b[0mcsv\u001b[0m\u001b[0;34m\u001b[0m\u001b[0;34m\u001b[0m\u001b[0m\n\u001b[1;32m      6\u001b[0m \u001b[0;34m\u001b[0m\u001b[0m\n\u001b[0;32m----> 7\u001b[0;31m \u001b[0mmovies\u001b[0m\u001b[0;34m(\u001b[0m\u001b[0mdf_genres\u001b[0m\u001b[0;34m)\u001b[0m\u001b[0;34m\u001b[0m\u001b[0;34m\u001b[0m\u001b[0m\n\u001b[0m",
      "\u001b[0;32m<ipython-input-77-630d01c27f47>\u001b[0m in \u001b[0;36mmovies\u001b[0;34m(csv)\u001b[0m\n\u001b[1;32m      1\u001b[0m \u001b[0;32mdef\u001b[0m \u001b[0mmovies\u001b[0m\u001b[0;34m(\u001b[0m\u001b[0mcsv\u001b[0m\u001b[0;34m)\u001b[0m\u001b[0;34m:\u001b[0m\u001b[0;34m\u001b[0m\u001b[0;34m\u001b[0m\u001b[0m\n\u001b[1;32m      2\u001b[0m     \u001b[0;32mfor\u001b[0m \u001b[0mrow\u001b[0m \u001b[0;32min\u001b[0m \u001b[0mcsv\u001b[0m\u001b[0;34m.\u001b[0m\u001b[0miterrows\u001b[0m\u001b[0;34m(\u001b[0m\u001b[0;34m)\u001b[0m\u001b[0;34m:\u001b[0m\u001b[0;34m\u001b[0m\u001b[0;34m\u001b[0m\u001b[0m\n\u001b[0;32m----> 3\u001b[0;31m         \u001b[0mmovie_id\u001b[0m \u001b[0;34m=\u001b[0m \u001b[0mrow\u001b[0m\u001b[0;34m[\u001b[0m\u001b[0;34m\"ID\"\u001b[0m\u001b[0;34m]\u001b[0m\u001b[0;34m\u001b[0m\u001b[0;34m\u001b[0m\u001b[0m\n\u001b[0m\u001b[1;32m      4\u001b[0m         \u001b[0mprint\u001b[0m\u001b[0;34m(\u001b[0m\u001b[0;34mf\"Buscando {movie_id}\"\u001b[0m\u001b[0;34m)\u001b[0m\u001b[0;34m\u001b[0m\u001b[0;34m\u001b[0m\u001b[0m\n\u001b[1;32m      5\u001b[0m     \u001b[0;32mreturn\u001b[0m \u001b[0mcsv\u001b[0m\u001b[0;34m\u001b[0m\u001b[0;34m\u001b[0m\u001b[0m\n",
      "\u001b[0;31mTypeError\u001b[0m: tuple indices must be integers or slices, not str"
     ]
    }
   ],
   "source": [
    "def movies(csv):\n",
    "    for row in csv.iterrows():\n",
    "        movie_id = row[\"ID\"]\n",
    "        print(f\"Buscando {movie_id}\")\n",
    "    return csv\n",
    "\n",
    "movies(df_genres)"
   ]
  },
  {
   "cell_type": "code",
   "execution_count": null,
   "metadata": {},
   "outputs": [],
   "source": [
    "genres_count = genres_explode.value_counts()\n",
    "\n",
    "genres_count"
   ]
  },
  {
   "cell_type": "code",
   "execution_count": null,
   "metadata": {},
   "outputs": [],
   "source": [
    "genres_explode.to_frame().reset_index()\n",
    "\n",
    "def creating_df(csv1, csv2):\n",
    "    for index,row in csv1.iteritems:\n",
    "        if csv1[\"ID\"] == csv2[\"ID\"]:\n",
    "            csv1[\"Rating\"] = csv2[\"Rating\"]\n",
    "            csv1[\"Vote Average\"] = csv2[\"Vote Average\"]\n",
    "    return csv1\n",
    "\n",
    "\n",
    "creating_df(genres_explode,base).head()"
   ]
  },
  {
   "cell_type": "code",
   "execution_count": null,
   "metadata": {},
   "outputs": [],
   "source": [
    "genres_explode.unique()"
   ]
  },
  {
   "cell_type": "markdown",
   "metadata": {},
   "source": [
    "# Genres x Rating x Vote Average"
   ]
  },
  {
   "cell_type": "code",
   "execution_count": null,
   "metadata": {
    "tags": []
   },
   "outputs": [],
   "source": []
  },
  {
   "cell_type": "markdown",
   "metadata": {},
   "source": [
    "# Year x Rating\n",
    "\n",
    "* Deixar esse gráfico legal\n",
    "* Arrumar o hue\n",
    "* Tentar colocar uma colorbar somente nos valores de vote average relacionando com vote count"
   ]
  },
  {
   "cell_type": "code",
   "execution_count": null,
   "metadata": {
    "tags": []
   },
   "outputs": [],
   "source": [
    "sns.set(rc={\"figure.figsize\": (12,10)},font_scale=1.5)\n",
    "sns.set_style(\"white\")\n",
    "\n",
    "\n",
    "\n",
    "user_ratings= sns.scatterplot(x = base[\"Rating\"], \n",
    "                y = base[\"Year\"],\n",
    "                s = 200,\n",
    "                color = \"green\"\n",
    "                )\n",
    "\n",
    "database_rating = sns.scatterplot(x = base[\"Vote Average\"], \n",
    "                y = base[\"Year\"],\n",
    "                s = 200,\n",
    "                hue = base[\"Vote Average\"]\n",
    "                )\n",
    "\n",
    "#cbar = plt.colorbar(database_rating) \n",
    "\n",
    "user_ratings.set(xlabel='Rating', ylabel='Year')\n",
    "\n",
    "plt.savefig(\"Graphs/Year_Rating\")"
   ]
  },
  {
   "cell_type": "markdown",
   "metadata": {},
   "source": [
    "# WordCloud dos generos"
   ]
  },
  {
   "cell_type": "code",
   "execution_count": null,
   "metadata": {},
   "outputs": [],
   "source": [
    "all_genres = \" \".join(s for s in genres_explode).strip()\n",
    "\n",
    "all_genres"
   ]
  },
  {
   "cell_type": "code",
   "execution_count": null,
   "metadata": {},
   "outputs": [],
   "source": [
    "all_genres = \" \".join(s for s in genres_explode)\n",
    "\n",
    "\n",
    "wordcloud = WordCloud(background_color=\"black\",\n",
    "                      font_path='Andale Mono',\n",
    "                      width=1600, height=800,\n",
    "                      collocations=False,\n",
    "                      colormap = \"viridis\").generate(all_genres)\n",
    "\n",
    "plt.figure(figsize=(20,10))\n",
    "plt.imshow(wordcloud, interpolation='bilinear')\n",
    "plt.tight_layout(pad=0)\n",
    "plt.axis(\"off\")\n",
    "\n",
    "plt.savefig(\"Graphs/WordCloud\")"
   ]
  },
  {
   "cell_type": "code",
   "execution_count": null,
   "metadata": {},
   "outputs": [],
   "source": [
    "wordcloud.words_"
   ]
  },
  {
   "cell_type": "markdown",
   "metadata": {},
   "source": [
    "Provavelmente não vou usar esse gráfico"
   ]
  },
  {
   "cell_type": "code",
   "execution_count": null,
   "metadata": {},
   "outputs": [],
   "source": [
    "palette = sns.color_palette(\"PiYG_r\", 18)\n",
    "sns.set_context(\"notebook\", font_scale=1.2, rc={\"lines.linewidth\": 2})\n",
    "sns.set(rc={'figure.figsize':(10,6)})\n",
    "\n",
    "\n",
    "barplot = sns.barplot(genres_count.index,\n",
    "                      genres_count.values,\n",
    "                      palette = palette\n",
    "                      )\n",
    "\n",
    "plt.xticks(rotation=45, fontsize=12, ha = \"right\")\n",
    "plt.yticks(fontsize=12)"
   ]
  },
  {
   "cell_type": "markdown",
   "metadata": {},
   "source": [
    "# Top 10 voted movies"
   ]
  },
  {
   "cell_type": "code",
   "execution_count": null,
   "metadata": {
    "tags": []
   },
   "outputs": [],
   "source": [
    "vote_count = base.sort_values(\"Vote Count\", ascending= False)\n",
    "top_voted = vote_count.head(n =10)\n",
    "\n",
    "top_voted"
   ]
  },
  {
   "cell_type": "code",
   "execution_count": null,
   "metadata": {},
   "outputs": [],
   "source": [
    "palette = sns.color_palette(\"Purples_r\", 10)\n",
    "sns.set_context(\"notebook\", font_scale=1.2, rc={\"lines.linewidth\": 2})\n",
    "sns.set(rc={'figure.figsize':(10,6)})\n",
    "\n",
    "\n",
    "barplot = sns.barplot(x= top_voted[\"Vote Count\"],\n",
    "                      y = top_voted[\"Movie\"], \n",
    "                      palette = palette,\n",
    "                      orient = \"h\").set(ylabel = None)\n",
    "\n",
    "plt.xticks(rotation=45, fontsize=12, ha = \"center\")\n",
    "plt.yticks(fontsize=12)\n",
    "\n",
    "plt.savefig(plt.savefig(\"Graphs/Top Voted Movies\"), bbox_inches='tight')"
   ]
  },
  {
   "cell_type": "markdown",
   "metadata": {},
   "source": [
    "# Top 10 rated movies"
   ]
  },
  {
   "cell_type": "code",
   "execution_count": null,
   "metadata": {},
   "outputs": [],
   "source": [
    "vote = base.sort_values(\"Vote Average\", ascending= False)\n",
    "top_rated = vote.head(n =10)\n",
    "\n",
    "top_rated"
   ]
  },
  {
   "cell_type": "markdown",
   "metadata": {},
   "source": [
    "# Finding the linear regression between Revenue and Profit\n",
    "\n",
    "* Trying to discover if it is possible to predict the Profit by the Revenue - any relationship"
   ]
  },
  {
   "cell_type": "code",
   "execution_count": null,
   "metadata": {},
   "outputs": [],
   "source": [
    "base.corr()"
   ]
  },
  {
   "cell_type": "code",
   "execution_count": null,
   "metadata": {},
   "outputs": [],
   "source": [
    "plt.xscale('log')\n",
    "plt.yscale('log')\n",
    "plt.xlim(100000,10000000000)\n",
    "plt.xticks([1e6, 1e7, 1e8, 1e9, 1e10])\n",
    "plt.ylim(100000,10000000000)\n",
    "plt.yticks([1e5,1e6, 1e7, 1e8, 1e9, 1e10])\n",
    "# ax = sns.scatterplot(x=base['Revenue'], y=base['Profit'])  \n",
    "\n",
    "# It's necesary to split the data into train and test. First the model is train using a speciffic part of data and after the model will be testing in the remain data\n",
    "\n",
    "#If the size of samples was not specify, the default size is 25% of the data however the best size is 80:20\n",
    "\n",
    "\n",
    "X_train, X_test, y_train, y_test = train_test_split(base.Revenue, base.Profit, train_size = 0.8, test_size = 0.2)\n",
    "\n",
    "# Ploting the train and test data\n",
    "\n",
    "plt.scatter(X_train,y_train, label = \"Training Data\", color = \"r\", alpha= .7)\n",
    "plt.scatter(X_test,y_test, label = \"Testing Data\", color = \"g\", alpha= .7)\n",
    "plt.legend()\n",
    "\n",
    "\n",
    "# regressor = LinearRegression()\n",
    "# lr.fit(X_train.values.reshape(-1,1), y_train.values)\n",
    "\n",
    "# prediction = lr.predict(X_test.values.reshape(-1,1))\n",
    "# plt.plot(X_test,prediction,label = \"Linear Regression\", color = \"b\")\n",
    "# plt.scatter(X_test,y_test, label = \"Actual Test Data\", color = \"g\", alpha=.7)\n",
    "# plt.legend()\n",
    "\n",
    "\n",
    "# sns.distplot(base['Profit'])\n",
    "\n",
    "# corre = np.corrcoef(base[\"Profit\"],base[\"Revenue\"])"
   ]
  },
  {
   "cell_type": "markdown",
   "metadata": {},
   "source": [
    "# Scatterplot Revenue x Profit"
   ]
  },
  {
   "cell_type": "code",
   "execution_count": null,
   "metadata": {},
   "outputs": [],
   "source": [
    "plt.xscale('log')\n",
    "plt.yscale('log')\n",
    "plt.xlim(100000,10000000000)\n",
    "plt.xticks([1e6, 1e7, 1e8, 1e9, 1e10])\n",
    "plt.ylim(100000,10000000000)\n",
    "plt.yticks([1e5,1e6, 1e7, 1e8, 1e9, 1e10])\n",
    "\n",
    "\n",
    "\n",
    "ax = sns.scatterplot(x=base['Revenue'], y=base['Profit'])"
   ]
  },
  {
   "cell_type": "markdown",
   "metadata": {},
   "source": [
    "This is a little mess because of 2 movies with higher revenue and profit. Let's find out which movies are they"
   ]
  },
  {
   "cell_type": "code",
   "execution_count": null,
   "metadata": {},
   "outputs": [],
   "source": [
    "base.sort_values(\"Profit\", ascending= False).head(10)"
   ]
  },
  {
   "cell_type": "code",
   "execution_count": null,
   "metadata": {},
   "outputs": [],
   "source": [
    "base.describe()"
   ]
  },
  {
   "cell_type": "code",
   "execution_count": null,
   "metadata": {},
   "outputs": [],
   "source": [
    "base.sort_values(\"Budget\",ascending = False).head(10)\n",
    "base.sort_values(\"Revenue\",ascending = False).head(10)"
   ]
  },
  {
   "cell_type": "markdown",
   "metadata": {},
   "source": [
    "* Ver se esse gráfico abaixo vai ser interessante e se sim, inverter a ordem dos filmes"
   ]
  },
  {
   "cell_type": "code",
   "execution_count": null,
   "metadata": {},
   "outputs": [],
   "source": [
    "plt.xscale('log')\n",
    "plt.xlim(10000,10000000000)\n",
    "plt.xticks([1e5,1e6, 1e7, 1e8, 1e9, 1e10])\n",
    "sns.set_style(\"white\")\n",
    "\n",
    "budget = base.sort_values(\"Budget\", ascending = False).iloc[0:20]\n",
    "\n",
    "\n",
    "lollipop = plt.hlines(budget[\"Movie\"], \n",
    "          xmin=base[\"Budget\"], \n",
    "          xmax=base['Revenue'],\n",
    "          color = \"navy\",\n",
    "          )"
   ]
  },
  {
   "cell_type": "code",
   "execution_count": null,
   "metadata": {},
   "outputs": [],
   "source": [
    "base.sort_values(\"Budget\", ascending= False).head(20)"
   ]
  },
  {
   "cell_type": "markdown",
   "metadata": {},
   "source": [
    "# Relation between Year and Revenue\n",
    "\n",
    "* Melhorar o hue (eixo)"
   ]
  },
  {
   "cell_type": "code",
   "execution_count": null,
   "metadata": {
    "tags": []
   },
   "outputs": [],
   "source": [
    "plt.yscale(\"log\")\n",
    "sns.set_context(\"notebook\", font_scale=1.2)\n",
    "sns.set(rc = {\"figure.figsize\":(12,8)})\n",
    "\n",
    "\n",
    "# sns.scatterplot(data = base, \n",
    "#                 x = \"Year\", \n",
    "#                 y = \"Budget\",\n",
    "#                 alpha=.6,\n",
    "#                 color = \"darkviolet\",\n",
    "#                 s = 150,\n",
    "#                 marker = \"X\")\n",
    "\n",
    "sns.scatterplot(data = base, \n",
    "                x = \"Year\", \n",
    "                y = \"Revenue\",\n",
    "                alpha=1,\n",
    "                color = \"navy\",\n",
    "                s = 150,\n",
    "                hue = \"Rating\"\n",
    "                )\n",
    "\n",
    "\n",
    "plt.ylim(100000,10000000000)\n",
    "plt.yticks([1e6, 1e7, 1e8, 1e9, 1e10])\n",
    "plt.xlim(1940,2020, 10)\n"
   ]
  },
  {
   "cell_type": "code",
   "execution_count": null,
   "metadata": {},
   "outputs": [],
   "source": [
    "#mask = np.triu(base.corr())\n",
    "values = base[[\"Year\", \"Rating\",\"Runtime\", \"Vote Average\", \"Vote Count\", \"Budget\", \"Revenue\", \"Profit\"]]\n",
    "sns.set(rc={'figure.figsize':(10,6)})\n",
    "\n",
    "#creating the colormap\n",
    "cmap = sns.diverging_palette(0, 230, 90, 60, as_cmap=True)\n",
    "\n",
    "\n",
    "sns.heatmap(values.corr(), \n",
    "            annot = True, \n",
    "            vmin=-1, vmax=1, center= 0, \n",
    "            cmap= cmap,\n",
    "            cbar_kws = {\"ticks\":[-1, -.5,0,.5,1]}\n",
    "            )\n",
    "            \n",
    "plt.xticks(rotation = 45, ha = \"center\")\n",
    "\n",
    "\n",
    "plt.savefig(\"Graphs/Correlation Heatmap\")"
   ]
  },
  {
   "cell_type": "code",
   "execution_count": null,
   "metadata": {},
   "outputs": [],
   "source": []
  }
 ],
 "metadata": {
  "language_info": {
   "codemirror_mode": {
    "name": "ipython",
    "version": 3
   },
   "file_extension": ".py",
   "mimetype": "text/x-python",
   "name": "python",
   "nbconvert_exporter": "python",
   "pygments_lexer": "ipython3",
   "version": 3
  },
  "orig_nbformat": 2,
  "kernelspec": {
   "name": "python_defaultSpec_1595616179986",
   "display_name": "Python 3.7.3 64-bit"
  }
 },
 "nbformat": 4,
 "nbformat_minor": 2
}