{
 "cells": [
  {
   "cell_type": "code",
   "execution_count": 64,
   "metadata": {},
   "outputs": [],
   "source": [
    "# Data Wrangling libraries\n",
    "import pandas as pd \n",
    "import numpy as np \n",
    "from scipy import stats \n",
    "\n",
    "\n",
    "# Data Visualization libraries\n",
    "import seaborn as sns\n",
    "import matplotlib.pyplot as plt\n",
    "from PIL import Image\n",
    "from wordcloud import WordCloud, ImageColorGenerator\n",
    "import matplotlib.ticker as ticker\n",
    "\n",
    "# Machine Learning libraries\n",
    "from sklearn.linear_model import LinearRegression\n",
    "from sklearn.model_selection import train_test_split\n",
    "from sklearn.metrics import r2_score\n",
    "# Graph style\n",
    "#sns.set_style(\"whitegrid\")\n",
    "\n",
    "\n",
    "from itertools import chain"
   ]
  },
  {
   "cell_type": "code",
   "execution_count": null,
   "metadata": {},
   "outputs": [],
   "source": [
    "base = pd.read_csv(\"Movies_new.csv\")"
   ]
  },
  {
   "cell_type": "markdown",
   "metadata": {},
   "source": [
    "Describe function show that the Budget and Revenue columns has 0 as a min values, however, the info() function showed that there isnt any NaN value"
   ]
  },
  {
   "cell_type": "code",
   "execution_count": null,
   "metadata": {
    "tags": []
   },
   "outputs": [],
   "source": [
    "base.count()\n",
    "base.isnull().sum()"
   ]
  },
  {
   "cell_type": "markdown",
   "metadata": {},
   "source": [
    "This function replace all 0 value to NaN and then it is possible to fill this values with the median of the specific column"
   ]
  },
  {
   "cell_type": "code",
   "execution_count": null,
   "metadata": {
    "tags": []
   },
   "outputs": [],
   "source": [
    "replace = base.replace(0, np.nan, inplace=True)"
   ]
  },
  {
   "cell_type": "code",
   "execution_count": null,
   "metadata": {},
   "outputs": [],
   "source": [
    "budget_median = base.Budget.median()\n",
    "revenue_median = base.Revenue.median()"
   ]
  },
  {
   "cell_type": "code",
   "execution_count": null,
   "metadata": {},
   "outputs": [],
   "source": [
    "base[\"Budget\"].fillna(budget_median, inplace = True)\n",
    "base[\"Revenue\"].fillna(revenue_median, inplace = True)"
   ]
  },
  {
   "cell_type": "code",
   "execution_count": null,
   "metadata": {},
   "outputs": [],
   "source": [
    "base[\"Profit\"] = base[\"Revenue\"] - base[\"Budget\"]\n",
    "base.to_csv(\"Movies_profit.csv\", index=False)"
   ]
  },
  {
   "cell_type": "markdown",
   "metadata": {},
   "source": [
    "# Graph Analysis"
   ]
  },
  {
   "cell_type": "markdown",
   "metadata": {},
   "source": [
    "# Boxplot comparing user rating and movies database average ratings"
   ]
  },
  {
   "cell_type": "code",
   "execution_count": null,
   "metadata": {},
   "outputs": [],
   "source": [
    "fig, axs = plt.subplots(ncols=2, figsize = (12,6), sharey=True)\n",
    "fig.suptitle(\"Comparison between User Rating and Movie Database Average Ratings\", fontsize=16)\n",
    "plt.subplots_adjust(wspace=0, hspace=0)\n",
    "plt.ylim(1,5)\n",
    "sns.set_context(\"notebook\", font_scale=1.5, rc={\"lines.linewidth\": 2})\n",
    "sns.despine(left= True)\n",
    "\n",
    "\n",
    "\n",
    "user_boxplot = sns.boxplot(y = base[\"Rating\"], \n",
    "                            color=\"lightskyblue\", \n",
    "                            showmeans=True, \n",
    "                            meanprops= {\"marker\":\"o\",\n",
    "                                        \"markerfacecolor\":\"white\", \n",
    "                                        \"markeredgecolor\":\"black\", \n",
    "                                        \"markersize\":\"7\"},\n",
    "                            medianprops = {\"color\":\"orange\", \n",
    "                                           \"linestyle\":\"--\"}, \n",
    "                            ax=axs[0])\n",
    "\n",
    "\n",
    "database_boxplot = sns.boxplot(y = base[\"Vote Average\"], \n",
    "                           color=\"violet\", \n",
    "                           showmeans=True,\n",
    "                           meanprops= {\"marker\":\"o\",\n",
    "                                       \"markerfacecolor\":\"white\", \n",
    "                                       \"markeredgecolor\":\"black\", \n",
    "                                       \"markersize\":\"7\"},\n",
    "                           medianprops = {\"color\":\"springgreen\", \n",
    "                                          \"linestyle\":\"--\"},\n",
    "                           ax=axs[1]).set(ylabel=None)\n",
    "\n",
    "plt.savefig(\"Graphs/Boxplot_Ratings\")"
   ]
  },
  {
   "cell_type": "markdown",
   "metadata": {},
   "source": [
    "# Transform the genres in a Series of genres and  Genres x Rating x Vote Average"
   ]
  },
  {
   "cell_type": "code",
   "execution_count": null,
   "metadata": {
    "tags": []
   },
   "outputs": [],
   "source": [
    "df_genres_id= pd.Series(base[\"Genres\"].values, index = base[\"ID\"], name = \"Genres\")\n",
    "split_genres = df_genres_id.str.split(\"|\", expand = False)\n",
    "genres_explode = split_genres.explode()\n",
    "\n",
    "genres_explode"
   ]
  },
  {
   "cell_type": "code",
   "execution_count": null,
   "metadata": {},
   "outputs": [],
   "source": [
    "df_genres = genres_explode.to_frame()\n",
    "df_genres.reset_index(level=0, inplace=True)\n",
    "genres_count = genres_explode.value_counts()\n",
    "\n",
    "genres_unique = df_genres[\"Genres\"].unique()\n"
   ]
  },
  {
   "cell_type": "code",
   "execution_count": null,
   "metadata": {},
   "outputs": [],
   "source": [
    "merge_data = df_genres.merge(base[['ID','Rating', 'Vote Average']], \n",
    "           on = \"ID\",\n",
    "           how='left')   \n",
    "by_genres = merge_data.groupby(\"Genres\")   "
   ]
  },
  {
   "cell_type": "code",
   "execution_count": null,
   "metadata": {},
   "outputs": [],
   "source": [
    "merge_data"
   ]
  },
  {
   "cell_type": "code",
   "execution_count": null,
   "metadata": {
    "tags": []
   },
   "outputs": [],
   "source": [
    "fig, axes = plt.subplots(nrows=3, ncols=6)\n",
    "\n",
    "# # fig.subplots_adjust(hspace=0.5)\n",
    "\n",
    "def get(list, merged_df):\n",
    "    for genre in genres_unique:\n",
    "        separated = by_genres.get_group(f'{genre}')\n",
    "        merged_df[merged_df['Genres'] == f'{genre}'].boxplot(y='Rating', legend=False, ax=ax1)\n",
    "\n",
    "   \n",
    "\n",
    "\n",
    "# merge_data.plot(x = 'Genres', kind='box',subplots=True, layout=(1,4),figsize=(15,8))\n",
    "\n",
    "# for c,num in zip(merge_data, range(1,19)):\n",
    "#     df0=merge_data[merge_data['Genres']==c]\n",
    "#     ax = fig.add_subplot(5,5,num)\n",
    "#     df0.plot(x=\"Genres\",y =['Rating','Vote Average'], title=c, ax=ax, legend=False)\n",
    "   \n",
    "\n",
    "#    sns.boxplot(\"Rating\",\n",
    "#                     'Genres',\n",
    "#                     data = merged_df)\n",
    "\n",
    "\n",
    "# get(genres_unique, merge_data)"
   ]
  },
  {
   "cell_type": "code",
   "execution_count": null,
   "metadata": {},
   "outputs": [],
   "source": [
    "fig, axes = plt.subplots(nrows=3, ncols=6, sharex=True, sharey=True, figsize=(12,6))\n",
    "axes_list = [item for sublist in axes for item in sublist]\n",
    "\n",
    "for genre , selection in merge_data.groupby('Genres'):\n",
    "    ax = axes_list.pop(0)\n",
    "    selection.boxplot(column = ['Rating'],\n",
    "                      by='Genres', \n",
    "                      ax=ax, \n",
    "                      color=\"r\", \n",
    "                      showmeans=True, \n",
    "                      meanprops= {\"marker\":\"o\",\n",
    "                                  \"markerfacecolor\":\"white\", \n",
    "                                  \"markeredgecolor\":\"black\", \n",
    "                                   \"markersize\":\"3\"},\n",
    "                     medianprops = {\"color\":\"orange\", \n",
    "                                    \"linestyle\":\"--\"})\n",
    "\n",
    "ax.set_ylim((0, 6))                             \n",
    "ax.set_title(genre)\n",
    "plt.tight_layout()"
   ]
  },
  {
   "cell_type": "code",
   "execution_count": null,
   "metadata": {},
   "outputs": [],
   "source": [
    "\n",
    "# plot numbering starts at 1, not 0\n",
    "plot_number = 1\n",
    "for genre , selection in merge_data.groupby('Genres'):\n",
    "    ax = plt.subplot(3, 6, plot_number)\n",
    "    selection.boxplot(column = ['Rating'],by='Genres', ax=ax, color = \"r\")\n",
    "    ax.set_title(genre)\n",
    "    # Go to the next plot for the next loop\n",
    "    plot_number = plot_number + 1\n",
    "plt.tight_layout()"
   ]
  },
  {
   "cell_type": "code",
   "execution_count": null,
   "metadata": {},
   "outputs": [],
   "source": [
    "sns.set(rc={\"figure.figsize\": (12,10)},font_scale=1.5)\n",
    "#fig, axs = plt.subplots(3,6)\n",
    "\n",
    "\n",
    "# genres_box = sns.boxplot(y = genres_groupby[\"Rating\"],\n",
    "#                          x = genres_groupby[\"Genres\"])\n",
    "\n",
    "# public = sns.boxplot(y = merging[\"Vote Average\"],\n",
    "#                          x = merging[\"Genres\"])                        \n",
    "\n",
    "\n",
    "g = sns.catplot(y=\"Rating\",\n",
    "                col = \"Genres\",\n",
    "                data=merging, kind=\"box\",\n",
    "                height=4, aspect=.7)\n",
    "\n",
    "\n",
    "plt.xticks(rotation = 45)"
   ]
  },
  {
   "cell_type": "code",
   "execution_count": null,
   "metadata": {
    "tags": []
   },
   "outputs": [],
   "source": [
    "g = sns.FacetGrid(merging, col=\"Genres\")\n",
    "g.map(plt.hist, y = \"Rating\")\n"
   ]
  },
  {
   "cell_type": "markdown",
   "metadata": {},
   "source": [
    "# Year x Rating\n",
    "\n",
    "* Deixar esse gráfico legal\n",
    "* Arrumar o hue\n",
    "* Tentar colocar uma colorbar somente nos valores de vote average relacionando com vote count"
   ]
  },
  {
   "cell_type": "code",
   "execution_count": null,
   "metadata": {
    "tags": []
   },
   "outputs": [],
   "source": [
    "sns.set(rc={\"figure.figsize\": (12,10)},font_scale=1.5)\n",
    "sns.set_style(\"white\")\n",
    "\n",
    "\n",
    "user_ratings= sns.scatterplot(x = base[\"Rating\"], \n",
    "                y = base[\"Year\"],\n",
    "                s = 200,\n",
    "                color = \"green\"\n",
    "                )\n",
    "\n",
    "database_rating = sns.scatterplot(x = base[\"Vote Average\"], \n",
    "                y = base[\"Year\"],\n",
    "                s = 200,\n",
    "                hue = base[\"Vote Average\"]\n",
    "                )\n",
    "\n",
    "#cbar = plt.colorbar(database_rating) \n",
    "\n",
    "user_ratings.set(xlabel='Rating', ylabel='Year')\n",
    "\n",
    "plt.savefig(\"Graphs/Year_Rating\")"
   ]
  },
  {
   "cell_type": "markdown",
   "metadata": {},
   "source": [
    "# WordCloud dos generos"
   ]
  },
  {
   "cell_type": "code",
   "execution_count": null,
   "metadata": {},
   "outputs": [],
   "source": [
    "all_genres = \" \".join(s for s in genres_explode).strip()\n",
    "\n",
    "all_genres"
   ]
  },
  {
   "cell_type": "code",
   "execution_count": null,
   "metadata": {},
   "outputs": [],
   "source": [
    "all_genres = \" \".join(s for s in genres_explode)\n",
    "\n",
    "\n",
    "wordcloud = WordCloud(background_color=\"black\",\n",
    "                      font_path='Andale Mono',\n",
    "                      width=1600, height=800,\n",
    "                      collocations=False,\n",
    "                      colormap = \"viridis\").generate(all_genres)\n",
    "\n",
    "plt.figure(figsize=(20,10))\n",
    "plt.imshow(wordcloud, interpolation='bilinear')\n",
    "plt.tight_layout(pad=0)\n",
    "plt.axis(\"off\")\n",
    "\n",
    "plt.savefig(\"Graphs/WordCloud\")"
   ]
  },
  {
   "cell_type": "code",
   "execution_count": null,
   "metadata": {},
   "outputs": [],
   "source": [
    "wordcloud.words_"
   ]
  },
  {
   "cell_type": "markdown",
   "metadata": {},
   "source": [
    "Provavelmente não vou usar esse gráfico"
   ]
  },
  {
   "cell_type": "code",
   "execution_count": null,
   "metadata": {},
   "outputs": [],
   "source": [
    "palette = sns.color_palette(\"PiYG_r\", 18)\n",
    "sns.set_context(\"notebook\", font_scale=1.2, rc={\"lines.linewidth\": 2})\n",
    "sns.set(rc={'figure.figsize':(10,6)})\n",
    "\n",
    "\n",
    "barplot = sns.barplot(genres_count.index,\n",
    "                      genres_count.values,\n",
    "                      palette = palette\n",
    "                      )\n",
    "\n",
    "plt.xticks(rotation=45, fontsize=12, ha = \"right\")\n",
    "plt.yticks(fontsize=12)"
   ]
  },
  {
   "cell_type": "markdown",
   "metadata": {},
   "source": [
    "# Top 10 voted movies"
   ]
  },
  {
   "cell_type": "code",
   "execution_count": null,
   "metadata": {
    "tags": []
   },
   "outputs": [],
   "source": [
    "vote_count = base.sort_values(\"Vote Count\", ascending= False)\n",
    "top_voted = vote_count.head(n =10)\n",
    "\n",
    "top_voted"
   ]
  },
  {
   "cell_type": "code",
   "execution_count": null,
   "metadata": {},
   "outputs": [],
   "source": [
    "palette = sns.color_palette(\"Purples_r\", 10)\n",
    "sns.set_context(\"notebook\", font_scale=1.2, rc={\"lines.linewidth\": 2})\n",
    "sns.set(rc={'figure.figsize':(10,6)})\n",
    "\n",
    "\n",
    "barplot = sns.barplot(x= top_voted[\"Vote Count\"],\n",
    "                      y = top_voted[\"Movie\"], \n",
    "                      palette = palette,\n",
    "                      orient = \"h\").set(ylabel = None)\n",
    "\n",
    "plt.xticks(rotation=45, fontsize=12, ha = \"center\")\n",
    "plt.yticks(fontsize=12)\n",
    "\n",
    "plt.savefig(plt.savefig(\"Graphs/Top Voted Movies\"), bbox_inches='tight')"
   ]
  },
  {
   "cell_type": "markdown",
   "metadata": {},
   "source": [
    "# Top 10 rated movies"
   ]
  },
  {
   "cell_type": "code",
   "execution_count": null,
   "metadata": {},
   "outputs": [],
   "source": [
    "vote = base.sort_values(\"Vote Average\", ascending= False)\n",
    "top_rated = vote.head(n =10)\n",
    "\n",
    "top_rated"
   ]
  },
  {
   "cell_type": "markdown",
   "metadata": {},
   "source": [
    "# Finding the linear regression between Revenue and Profit\n",
    "\n",
    "* Trying to discover if it is possible to predict the Profit by the Revenue - any relationship"
   ]
  },
  {
   "cell_type": "code",
   "execution_count": null,
   "metadata": {},
   "outputs": [],
   "source": [
    "base.corr()"
   ]
  },
  {
   "cell_type": "code",
   "execution_count": null,
   "metadata": {
    "tags": []
   },
   "outputs": [],
   "source": [
    "# Take of the outliers for a better fit \n",
    "Q1 = base.quantile(0.25)\n",
    "Q3 = base.quantile(0.75)\n",
    "IQR = Q3 - Q1\n",
    "print(IQR)\n",
    "\n",
    "\n",
    "base_outliers = base[~((base < (Q1 - 1.5 * IQR)) |(base > (Q3 + 1.5 * IQR))).any(axis=1)]\n",
    "base_outliers.shape\n",
    "\n",
    "sns.boxplot(y = [\"Profit\"], data = base_outliers)"
   ]
  },
  {
   "cell_type": "code",
   "execution_count": 68,
   "metadata": {},
   "outputs": [
    {
     "output_type": "error",
     "ename": "KeyError",
     "evalue": "('Vote Average', 'Rating', 'Budget', 'Profit', 'Revenue')",
     "traceback": [
      "\u001b[0;31m---------------------------------------------------------------------------\u001b[0m",
      "\u001b[0;31mKeyError\u001b[0m                                  Traceback (most recent call last)",
      "\u001b[0;32m/Library/Frameworks/Python.framework/Versions/3.7/lib/python3.7/site-packages/pandas/core/indexes/base.py\u001b[0m in \u001b[0;36mget_loc\u001b[0;34m(self, key, method, tolerance)\u001b[0m\n\u001b[1;32m   2645\u001b[0m             \u001b[0;32mtry\u001b[0m\u001b[0;34m:\u001b[0m\u001b[0;34m\u001b[0m\u001b[0;34m\u001b[0m\u001b[0m\n\u001b[0;32m-> 2646\u001b[0;31m                 \u001b[0;32mreturn\u001b[0m \u001b[0mself\u001b[0m\u001b[0;34m.\u001b[0m\u001b[0m_engine\u001b[0m\u001b[0;34m.\u001b[0m\u001b[0mget_loc\u001b[0m\u001b[0;34m(\u001b[0m\u001b[0mkey\u001b[0m\u001b[0;34m)\u001b[0m\u001b[0;34m\u001b[0m\u001b[0;34m\u001b[0m\u001b[0m\n\u001b[0m\u001b[1;32m   2647\u001b[0m             \u001b[0;32mexcept\u001b[0m \u001b[0mKeyError\u001b[0m\u001b[0;34m:\u001b[0m\u001b[0;34m\u001b[0m\u001b[0;34m\u001b[0m\u001b[0m\n",
      "\u001b[0;32mpandas/_libs/index.pyx\u001b[0m in \u001b[0;36mpandas._libs.index.IndexEngine.get_loc\u001b[0;34m()\u001b[0m\n",
      "\u001b[0;32mpandas/_libs/index.pyx\u001b[0m in \u001b[0;36mpandas._libs.index.IndexEngine.get_loc\u001b[0;34m()\u001b[0m\n",
      "\u001b[0;32mpandas/_libs/hashtable_class_helper.pxi\u001b[0m in \u001b[0;36mpandas._libs.hashtable.PyObjectHashTable.get_item\u001b[0;34m()\u001b[0m\n",
      "\u001b[0;32mpandas/_libs/hashtable_class_helper.pxi\u001b[0m in \u001b[0;36mpandas._libs.hashtable.PyObjectHashTable.get_item\u001b[0;34m()\u001b[0m\n",
      "\u001b[0;31mKeyError\u001b[0m: ('Vote Average', 'Rating', 'Budget', 'Profit', 'Revenue')",
      "\nDuring handling of the above exception, another exception occurred:\n",
      "\u001b[0;31mKeyError\u001b[0m                                  Traceback (most recent call last)",
      "\u001b[0;32m<ipython-input-68-6e2cbbf58d8e>\u001b[0m in \u001b[0;36m<module>\u001b[0;34m\u001b[0m\n\u001b[0;32m----> 1\u001b[0;31m \u001b[0mz_scores\u001b[0m \u001b[0;34m=\u001b[0m \u001b[0mstats\u001b[0m\u001b[0;34m.\u001b[0m\u001b[0mzscore\u001b[0m\u001b[0;34m(\u001b[0m\u001b[0mbase\u001b[0m\u001b[0;34m[\u001b[0m\u001b[0;34m\"Vote Average\"\u001b[0m\u001b[0;34m,\u001b[0m \u001b[0;34m\"Rating\"\u001b[0m\u001b[0;34m,\u001b[0m \u001b[0;34m\"Budget\"\u001b[0m\u001b[0;34m,\u001b[0m \u001b[0;34m\"Profit\"\u001b[0m\u001b[0;34m,\u001b[0m \u001b[0;34m\"Revenue\"\u001b[0m\u001b[0;34m]\u001b[0m\u001b[0;34m)\u001b[0m\u001b[0;34m\u001b[0m\u001b[0;34m\u001b[0m\u001b[0m\n\u001b[0m\u001b[1;32m      2\u001b[0m \u001b[0;34m\u001b[0m\u001b[0m\n\u001b[1;32m      3\u001b[0m \u001b[0mabs_z_scores\u001b[0m \u001b[0;34m=\u001b[0m \u001b[0mnp\u001b[0m\u001b[0;34m.\u001b[0m\u001b[0mabs\u001b[0m\u001b[0;34m(\u001b[0m\u001b[0mz_scores\u001b[0m\u001b[0;34m)\u001b[0m\u001b[0;34m\u001b[0m\u001b[0;34m\u001b[0m\u001b[0m\n\u001b[1;32m      4\u001b[0m \u001b[0mfiltered_entries\u001b[0m \u001b[0;34m=\u001b[0m \u001b[0;34m(\u001b[0m\u001b[0mabs_z_scores\u001b[0m \u001b[0;34m<\u001b[0m \u001b[0;36m3\u001b[0m\u001b[0;34m)\u001b[0m\u001b[0;34m.\u001b[0m\u001b[0mall\u001b[0m\u001b[0;34m(\u001b[0m\u001b[0maxis\u001b[0m\u001b[0;34m=\u001b[0m\u001b[0;36m1\u001b[0m\u001b[0;34m)\u001b[0m\u001b[0;34m\u001b[0m\u001b[0;34m\u001b[0m\u001b[0m\n\u001b[1;32m      5\u001b[0m \u001b[0mnew_base\u001b[0m \u001b[0;34m=\u001b[0m \u001b[0mbase\u001b[0m\u001b[0;34m[\u001b[0m\u001b[0mfiltered_entries\u001b[0m\u001b[0;34m]\u001b[0m\u001b[0;34m\u001b[0m\u001b[0;34m\u001b[0m\u001b[0m\n",
      "\u001b[0;32m/Library/Frameworks/Python.framework/Versions/3.7/lib/python3.7/site-packages/pandas/core/frame.py\u001b[0m in \u001b[0;36m__getitem__\u001b[0;34m(self, key)\u001b[0m\n\u001b[1;32m   2798\u001b[0m             \u001b[0;32mif\u001b[0m \u001b[0mself\u001b[0m\u001b[0;34m.\u001b[0m\u001b[0mcolumns\u001b[0m\u001b[0;34m.\u001b[0m\u001b[0mnlevels\u001b[0m \u001b[0;34m>\u001b[0m \u001b[0;36m1\u001b[0m\u001b[0;34m:\u001b[0m\u001b[0;34m\u001b[0m\u001b[0;34m\u001b[0m\u001b[0m\n\u001b[1;32m   2799\u001b[0m                 \u001b[0;32mreturn\u001b[0m \u001b[0mself\u001b[0m\u001b[0;34m.\u001b[0m\u001b[0m_getitem_multilevel\u001b[0m\u001b[0;34m(\u001b[0m\u001b[0mkey\u001b[0m\u001b[0;34m)\u001b[0m\u001b[0;34m\u001b[0m\u001b[0;34m\u001b[0m\u001b[0m\n\u001b[0;32m-> 2800\u001b[0;31m             \u001b[0mindexer\u001b[0m \u001b[0;34m=\u001b[0m \u001b[0mself\u001b[0m\u001b[0;34m.\u001b[0m\u001b[0mcolumns\u001b[0m\u001b[0;34m.\u001b[0m\u001b[0mget_loc\u001b[0m\u001b[0;34m(\u001b[0m\u001b[0mkey\u001b[0m\u001b[0;34m)\u001b[0m\u001b[0;34m\u001b[0m\u001b[0;34m\u001b[0m\u001b[0m\n\u001b[0m\u001b[1;32m   2801\u001b[0m             \u001b[0;32mif\u001b[0m \u001b[0mis_integer\u001b[0m\u001b[0;34m(\u001b[0m\u001b[0mindexer\u001b[0m\u001b[0;34m)\u001b[0m\u001b[0;34m:\u001b[0m\u001b[0;34m\u001b[0m\u001b[0;34m\u001b[0m\u001b[0m\n\u001b[1;32m   2802\u001b[0m                 \u001b[0mindexer\u001b[0m \u001b[0;34m=\u001b[0m \u001b[0;34m[\u001b[0m\u001b[0mindexer\u001b[0m\u001b[0;34m]\u001b[0m\u001b[0;34m\u001b[0m\u001b[0;34m\u001b[0m\u001b[0m\n",
      "\u001b[0;32m/Library/Frameworks/Python.framework/Versions/3.7/lib/python3.7/site-packages/pandas/core/indexes/base.py\u001b[0m in \u001b[0;36mget_loc\u001b[0;34m(self, key, method, tolerance)\u001b[0m\n\u001b[1;32m   2646\u001b[0m                 \u001b[0;32mreturn\u001b[0m \u001b[0mself\u001b[0m\u001b[0;34m.\u001b[0m\u001b[0m_engine\u001b[0m\u001b[0;34m.\u001b[0m\u001b[0mget_loc\u001b[0m\u001b[0;34m(\u001b[0m\u001b[0mkey\u001b[0m\u001b[0;34m)\u001b[0m\u001b[0;34m\u001b[0m\u001b[0;34m\u001b[0m\u001b[0m\n\u001b[1;32m   2647\u001b[0m             \u001b[0;32mexcept\u001b[0m \u001b[0mKeyError\u001b[0m\u001b[0;34m:\u001b[0m\u001b[0;34m\u001b[0m\u001b[0;34m\u001b[0m\u001b[0m\n\u001b[0;32m-> 2648\u001b[0;31m                 \u001b[0;32mreturn\u001b[0m \u001b[0mself\u001b[0m\u001b[0;34m.\u001b[0m\u001b[0m_engine\u001b[0m\u001b[0;34m.\u001b[0m\u001b[0mget_loc\u001b[0m\u001b[0;34m(\u001b[0m\u001b[0mself\u001b[0m\u001b[0;34m.\u001b[0m\u001b[0m_maybe_cast_indexer\u001b[0m\u001b[0;34m(\u001b[0m\u001b[0mkey\u001b[0m\u001b[0;34m)\u001b[0m\u001b[0;34m)\u001b[0m\u001b[0;34m\u001b[0m\u001b[0;34m\u001b[0m\u001b[0m\n\u001b[0m\u001b[1;32m   2649\u001b[0m         \u001b[0mindexer\u001b[0m \u001b[0;34m=\u001b[0m \u001b[0mself\u001b[0m\u001b[0;34m.\u001b[0m\u001b[0mget_indexer\u001b[0m\u001b[0;34m(\u001b[0m\u001b[0;34m[\u001b[0m\u001b[0mkey\u001b[0m\u001b[0;34m]\u001b[0m\u001b[0;34m,\u001b[0m \u001b[0mmethod\u001b[0m\u001b[0;34m=\u001b[0m\u001b[0mmethod\u001b[0m\u001b[0;34m,\u001b[0m \u001b[0mtolerance\u001b[0m\u001b[0;34m=\u001b[0m\u001b[0mtolerance\u001b[0m\u001b[0;34m)\u001b[0m\u001b[0;34m\u001b[0m\u001b[0;34m\u001b[0m\u001b[0m\n\u001b[1;32m   2650\u001b[0m         \u001b[0;32mif\u001b[0m \u001b[0mindexer\u001b[0m\u001b[0;34m.\u001b[0m\u001b[0mndim\u001b[0m \u001b[0;34m>\u001b[0m \u001b[0;36m1\u001b[0m \u001b[0;32mor\u001b[0m \u001b[0mindexer\u001b[0m\u001b[0;34m.\u001b[0m\u001b[0msize\u001b[0m \u001b[0;34m>\u001b[0m \u001b[0;36m1\u001b[0m\u001b[0;34m:\u001b[0m\u001b[0;34m\u001b[0m\u001b[0;34m\u001b[0m\u001b[0m\n",
      "\u001b[0;32mpandas/_libs/index.pyx\u001b[0m in \u001b[0;36mpandas._libs.index.IndexEngine.get_loc\u001b[0;34m()\u001b[0m\n",
      "\u001b[0;32mpandas/_libs/index.pyx\u001b[0m in \u001b[0;36mpandas._libs.index.IndexEngine.get_loc\u001b[0;34m()\u001b[0m\n",
      "\u001b[0;32mpandas/_libs/hashtable_class_helper.pxi\u001b[0m in \u001b[0;36mpandas._libs.hashtable.PyObjectHashTable.get_item\u001b[0;34m()\u001b[0m\n",
      "\u001b[0;32mpandas/_libs/hashtable_class_helper.pxi\u001b[0m in \u001b[0;36mpandas._libs.hashtable.PyObjectHashTable.get_item\u001b[0;34m()\u001b[0m\n",
      "\u001b[0;31mKeyError\u001b[0m: ('Vote Average', 'Rating', 'Budget', 'Profit', 'Revenue')"
     ]
    }
   ],
   "source": [
    "\n",
    "z_scores = stats.zscore(base)\n",
    "\n",
    "abs_z_scores = np.abs(z_scores)\n",
    "filtered_entries = (abs_z_scores < 3).all(axis=1)\n",
    "new_base = base[filtered_entries]\n",
    "\n",
    "print(new_base)"
   ]
  },
  {
   "cell_type": "code",
   "execution_count": null,
   "metadata": {
    "tags": []
   },
   "outputs": [],
   "source": [
    "plt.xscale('log')\n",
    "plt.yscale('log')\n",
    "plt.xlim(100000,10000000000)\n",
    "plt.xticks([1e6, 1e7, 1e8, 1e9, 1e10])\n",
    "plt.ylim(100000,10000000000)\n",
    "plt.yticks([1e5,1e6, 1e7, 1e8, 1e9, 1e10])\n",
    "# ax = sns.scatterplot(x=base['Revenue'], y=base['Profit'])  \n",
    "\n",
    "# It's necesary to split the data into train and test to a suprevised learning. First the model is train using a speciffic part of data and after the model will be testing in the remain data\n",
    "\n",
    "#If the size of samples was not specify, the default size is 25% of the data however the best size is 80:20\n",
    "\n",
    "\n",
    "X_train, X_test, y_train, y_test = train_test_split(base_outliers.Budget, base_outliers.Profit, train_size = 0.8, test_size = 0.2)\n",
    "\n",
    "# Ploting the train and test data\n",
    "\n",
    "plt.scatter(X_train,y_train, label = \"Training Data\", color = \"r\", alpha= .7)\n",
    "plt.scatter(X_test,y_test, label = \"Testing Data\", color = \"g\", alpha= .7)\n",
    "plt.legend()\n",
    "\n",
    "X_train = X_train.values.reshape(-1,1)\n",
    "X_test = X_test.values.reshape(-1,1)\n",
    "\n",
    "#The LinearRegression() model perform all the math involves to build the linear regression line\n",
    "regressor = LinearRegression()\n",
    "#We fit the data to the Linear Regression Model\n",
    "regressor.fit(X_train, y_train)\n",
    "\n",
    "\n",
    "#To retrieve the intercept:\n",
    "print(regressor.intercept_)\n",
    "#For retrieving the slope:\n",
    "print(regressor.coef_)\n",
    "#The result of slop equal to 0.85 means that every single change in the profit, the Budget changes 85%\n",
    "\n",
    "\n",
    "#Perform some predictor to test the accuracy of the model. For this, we use the test data\n",
    "y_pred = regressor.predict(X_test)\n",
    "\n",
    "sorted_indices = np.argsort(X_train)\n",
    "sorted_X = X_train[sorted_indices]\n",
    "plt.plot(sorted_X, regressor.predict(sorted_X), color = 'blue')\n",
    "\n",
    "plt.plot(X_test,y_pred,label = \"Linear Regression\", color = \"b\")\n",
    "plt.scatter(X_test,y_test, label = \"Actual Test Data\", color = \"y\", alpha=.7)\n",
    "plt.legend()\n"
   ]
  },
  {
   "cell_type": "code",
   "execution_count": null,
   "metadata": {
    "tags": []
   },
   "outputs": [],
   "source": [
    "# Rsquare ellucidate how the model explain the values (0 to 1)\n",
    "#y_test = data given to the model (true)\n",
    "#y_pred = values given by the model (not certally true- depends how good is the model)\n",
    "\n",
    "r2_score(y_test,y_pred)"
   ]
  },
  {
   "cell_type": "code",
   "execution_count": null,
   "metadata": {},
   "outputs": [],
   "source": [
    "df = pd.DataFrame({'Actual': y_test, 'Predicted': y_pred})\n",
    "df"
   ]
  },
  {
   "cell_type": "code",
   "execution_count": null,
   "metadata": {
    "tags": []
   },
   "outputs": [],
   "source": []
  },
  {
   "cell_type": "code",
   "execution_count": null,
   "metadata": {},
   "outputs": [],
   "source": [
    "df1 = df.head(25)\n",
    "df1.plot(kind='bar',figsize=(16,10))\n",
    "plt.grid(which='major', linestyle='-', linewidth='0.5', color='green')\n",
    "plt.grid(which='minor', linestyle=':', linewidth='0.5', color='black')\n",
    "plt.show()"
   ]
  },
  {
   "cell_type": "markdown",
   "metadata": {},
   "source": [
    "# Scatterplot Revenue x Profit"
   ]
  },
  {
   "cell_type": "code",
   "execution_count": null,
   "metadata": {},
   "outputs": [],
   "source": [
    "plt.xscale('log')\n",
    "plt.yscale('log')\n",
    "plt.xlim(100000,10000000000)\n",
    "plt.xticks([1e6, 1e7, 1e8, 1e9, 1e10])\n",
    "plt.ylim(100000,10000000000)\n",
    "plt.yticks([1e5,1e6, 1e7, 1e8, 1e9, 1e10])\n",
    "\n",
    "\n",
    "\n",
    "ax = sns.scatterplot(x=base['Revenue'], y=base['Profit'])"
   ]
  },
  {
   "cell_type": "markdown",
   "metadata": {},
   "source": [
    "This is a little mess because of 2 movies with higher revenue and profit. Let's find out which movies are they"
   ]
  },
  {
   "cell_type": "code",
   "execution_count": null,
   "metadata": {},
   "outputs": [],
   "source": [
    "base.sort_values(\"Profit\", ascending= False).head(10)"
   ]
  },
  {
   "cell_type": "code",
   "execution_count": null,
   "metadata": {},
   "outputs": [],
   "source": [
    "base.describe()"
   ]
  },
  {
   "cell_type": "code",
   "execution_count": null,
   "metadata": {},
   "outputs": [],
   "source": [
    "base.sort_values(\"Budget\",ascending = False).head(10)\n",
    "base.sort_values(\"Revenue\",ascending = False).head(10)"
   ]
  },
  {
   "cell_type": "markdown",
   "metadata": {},
   "source": [
    "* Ver se esse gráfico abaixo vai ser interessante e se sim, inverter a ordem dos filmes"
   ]
  },
  {
   "cell_type": "code",
   "execution_count": null,
   "metadata": {},
   "outputs": [],
   "source": [
    "plt.xscale('log')\n",
    "plt.xlim(10000,10000000000)\n",
    "plt.xticks([1e5,1e6, 1e7, 1e8, 1e9, 1e10])\n",
    "sns.set_style(\"white\")\n",
    "\n",
    "budget = base.sort_values(\"Budget\", ascending = False).iloc[0:20]\n",
    "\n",
    "\n",
    "lollipop = plt.hlines(budget[\"Movie\"], \n",
    "          xmin=base[\"Budget\"], \n",
    "          xmax=base['Revenue'],\n",
    "          color = \"navy\",\n",
    "          )"
   ]
  },
  {
   "cell_type": "code",
   "execution_count": null,
   "metadata": {},
   "outputs": [],
   "source": [
    "base.sort_values(\"Budget\", ascending= False).head(20)"
   ]
  },
  {
   "cell_type": "markdown",
   "metadata": {},
   "source": [
    "# Relation between Year and Revenue\n",
    "\n",
    "* Melhorar o hue (eixo)"
   ]
  },
  {
   "cell_type": "code",
   "execution_count": null,
   "metadata": {
    "tags": []
   },
   "outputs": [],
   "source": [
    "plt.yscale(\"log\")\n",
    "sns.set_context(\"notebook\", font_scale=1.2)\n",
    "sns.set(rc = {\"figure.figsize\":(12,8)})\n",
    "\n",
    "\n",
    "# sns.scatterplot(data = base, \n",
    "#                 x = \"Year\", \n",
    "#                 y = \"Budget\",\n",
    "#                 alpha=.6,\n",
    "#                 color = \"darkviolet\",\n",
    "#                 s = 150,\n",
    "#                 marker = \"X\")\n",
    "\n",
    "sns.scatterplot(data = base, \n",
    "                x = \"Year\", \n",
    "                y = \"Revenue\",\n",
    "                alpha=1,\n",
    "                color = \"navy\",\n",
    "                s = 150,\n",
    "                hue = \"Rating\"\n",
    "                )\n",
    "\n",
    "\n",
    "plt.ylim(100000,10000000000)\n",
    "plt.yticks([1e6, 1e7, 1e8, 1e9, 1e10])\n",
    "plt.xlim(1940,2020, 10)\n"
   ]
  },
  {
   "cell_type": "code",
   "execution_count": null,
   "metadata": {},
   "outputs": [],
   "source": [
    "#mask = np.triu(base.corr())\n",
    "values = base[[\"Year\", \"Rating\",\"Runtime\", \"Vote Average\", \"Vote Count\", \"Budget\", \"Revenue\", \"Profit\"]]\n",
    "sns.set(rc={'figure.figsize':(10,6)})\n",
    "\n",
    "#creating the colormap\n",
    "cmap = sns.diverging_palette(0, 230, 90, 60, as_cmap=True)\n",
    "\n",
    "\n",
    "sns.heatmap(values.corr(), \n",
    "            annot = True, \n",
    "            vmin=-1, vmax=1, center= 0, \n",
    "            cmap= cmap,\n",
    "            cbar_kws = {\"ticks\":[-1, -.5,0,.5,1]}\n",
    "            )\n",
    "            \n",
    "plt.xticks(rotation = 45, ha = \"center\")\n",
    "\n",
    "\n",
    "plt.savefig(\"Graphs/Correlation Heatmap\")"
   ]
  },
  {
   "cell_type": "code",
   "execution_count": null,
   "metadata": {},
   "outputs": [],
   "source": []
  }
 ],
 "metadata": {
  "language_info": {
   "codemirror_mode": {
    "name": "ipython",
    "version": 3
   },
   "file_extension": ".py",
   "mimetype": "text/x-python",
   "name": "python",
   "nbconvert_exporter": "python",
   "pygments_lexer": "ipython3",
   "version": 3
  },
  "orig_nbformat": 2,
  "kernelspec": {
   "name": "python_defaultSpec_1596163375966",
   "display_name": "Python 3.7.3 64-bit"
  }
 },
 "nbformat": 4,
 "nbformat_minor": 2
}