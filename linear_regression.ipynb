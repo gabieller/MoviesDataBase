{
 "metadata": {
  "language_info": {
   "codemirror_mode": {
    "name": "ipython",
    "version": 3
   },
   "file_extension": ".py",
   "mimetype": "text/x-python",
   "name": "python",
   "nbconvert_exporter": "python",
   "pygments_lexer": "ipython3",
   "version": 3
  },
  "orig_nbformat": 2
 },
 "nbformat": 4,
 "nbformat_minor": 2,
 "cells": [
  {
   "cell_type": "code",
   "execution_count": null,
   "metadata": {},
   "outputs": [],
   "source": [
    "# plt.xscale('log')\n",
    "# plt.yscale('log')\n",
    "# plt.xlim(100000,10000000000)\n",
    "# plt.xticks([1e6, 1e7, 1e8, 1e9, 1e10])\n",
    "# plt.ylim(100000,10000000000)\n",
    "# plt.yticks([1e5,1e6, 1e7, 1e8, 1e9, 1e10])\n",
    "\n",
    "# ax = sns.scatterplot(x=base['Revenue'], y=base['Profit'])  \n",
    "# It's necesary to split the data into train and test to a suprevised learning. First the model is train using a speciffic part of data and after the model will be testing in the remain data\n",
    "#If the size of samples was not specify, the default size is 25% of the data however the best size is 80:20\n",
    "\n",
    "\n",
    "min_max_scaler = preprocessing.MinMaxScaler()\n",
    "\n",
    "base[['Budget','Profit']] = min_max_scaler.fit_transform(base[['Budget','Profit']])\n",
    "\n",
    "\n",
    "X_train, X_test, y_train, y_test = train_test_split(base.Budget, base.Profit, train_size = 0.8, test_size = 0.2)\n",
    "\n",
    "\n",
    "\n",
    "# Ploting the train and test data\n",
    "plt.scatter(X_train,y_train, label = \"Training Data\", color = \"r\", alpha= .7)\n",
    "plt.scatter(X_test,y_test, label = \"Testing Data\", color = \"g\", alpha= .7)\n",
    "plt.legend()\n",
    "\n",
    "X_train = X_train.values.reshape(-1,1)\n",
    "X_test = X_test.values.reshape(-1,1)\n",
    "\n",
    "#The LinearRegression() model perform all the math involves to build the linear regression line\n",
    "regressor = LinearRegression()\n",
    "#We fit the data to the Linear Regression Model\n",
    "regressor.fit(X_train, y_train)\n",
    "\n",
    "\n",
    "#To retrieve the intercept:\n",
    "print(regressor.intercept_)\n",
    "#For retrieving the slope:\n",
    "print(regressor.coef_)\n",
    "#The result of slop equal to 0.85 means that every single change in the profit, the Budget changes 85%\n",
    "\n",
    "\n",
    "#Perform some predictor to test the accuracy of the model. For this, we use the test data\n",
    "y_pred = regressor.predict(X_test)\n",
    "\n",
    "\n",
    "plt.plot(X_test,y_pred,label = \"Linear Regression\", color = \"b\")\n",
    "plt.scatter(X_test,y_test, label = \"Actual Test Data\", color = \"y\", alpha=.7)\n",
    "plt.legend()\n"
   ]
  },
  {
   "cell_type": "code",
   "execution_count": null,
   "metadata": {},
   "outputs": [],
   "source": [
    "# Rsquare ellucidate how the model explain the values (0 to 1)\n",
    "#y_test = data given to the model (true)\n",
    "#y_pred = values given by the model (not certally true- depends how good is the model)\n",
    "\n",
    "r2_score(y_test,y_pred)"
   ]
  },
  {
   "cell_type": "code",
   "execution_count": null,
   "metadata": {},
   "outputs": [],
   "source": [
    "df = pd.DataFrame({'Actual': y_test, 'Predicted': y_pred})\n",
    "df"
   ]
  },
  {
   "cell_type": "code",
   "execution_count": null,
   "metadata": {},
   "outputs": [],
   "source": [
    "df1 = df.head(25)\n",
    "df1.plot(kind='bar',figsize=(16,10))\n",
    "plt.grid(which='major', linestyle='-', linewidth='0.5', color='green')\n",
    "plt.grid(which='minor', linestyle=':', linewidth='0.5', color='black')\n",
    "plt.show()"
   ]
  }
 ]
}